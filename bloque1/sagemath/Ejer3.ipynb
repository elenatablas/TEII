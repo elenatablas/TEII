{
 "cells": [
  {
   "cell_type": "markdown",
   "metadata": {},
   "source": [
    "# Ejercicio 3: Tiempo atmosférico"
   ]
  },
  {
   "cell_type": "markdown",
   "metadata": {},
   "source": [
    "El índice meteorolo ́gico canadiense de incendios forestales se utiliza ampliamente como un medio para estimar el riesgo de incendios forestales. El Ministerio de Recursos Naturales de Ontario utiliza el  ́ındice para clasificar el riesgo diario de incendios forestales como nulo, bajo, moderado, alto o extremo. Martell (1999) recopilo ́ datos diarios de riesgo de incendio durante 26 an ̃os en 15 estaciones meteorolo ́gicas en Ontario para construir un modelo de cadena de Markov de cinco estados para los cambios diarios en el  ́ındice. La matriz de transicio ́n de una ubicacio ́n para la subseccio ́n de principios de verano es"
   ]
  },
  {
   "cell_type": "code",
   "execution_count": null,
   "metadata": {},
   "outputs": [],
   "source": [
    "P=matrix(RDF ,[[1/7, 1/7, 1/7, 1/7, 1/7, 1/7, 1/7],[1/7, 1/7, 1/7, 1/7, 1/7, 1/7, 1/7],[1/7, 1/7, 1/7, 1/7, 1/7, 1/7, 1/7],[1/7, 1/7,\n",
    "1/7, 1/7, 1/7, 1/7, 1/7],[1/7, 1/7, 1/7, 1/7, 1/7, 1/7, 1/7],[1/7, 1/7, 1/7, 1/7, 1/7, 1/7, 1/7],[1/7, 1/7, 1/7, 1/7, 1/7, 1/7, 1/7]])\n",
    "P"
   ]
  },
  {
   "cell_type": "markdown",
   "metadata": {},
   "source": [
    "Para los administradores forestales es de intere ́s la distribucio ́n de probabilidad a largo plazo del  ́ındice diario. Independientemente del riesgo en un d ́ıa en particular, ¿cua ́l es la probabilidad de riesgo a largo plazo para un d ́ıa t ́ıpico a principios del verano?"
   ]
  }
 ],
 "metadata": {
  "language_info": {
   "name": "python"
  },
  "orig_nbformat": 4
 },
 "nbformat": 4,
 "nbformat_minor": 2
}
