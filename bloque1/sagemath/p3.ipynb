{
 "cells": [
  {
   "cell_type": "markdown",
   "metadata": {},
   "source": [
    "# Markov: Un ejemplo sencillo"
   ]
  },
  {
   "cell_type": "markdown",
   "metadata": {},
   "source": [
    "## Enunciado\n",
    "Vamos a calcular la evolución de las distribuciones de probabilidad $u^{(n)}$ a partir de una distribución inicial conocida $u^{(0)}$ y una matriz de transiciones de probabilidad $P$ dadas, en un caso sencillo. Concretamente, consideramos el caso de una cadena de Markov $\\left\\{X_n\\right\\}$${n=0}$ con solo dos estados y distribución inicial $u^{(0)} = (1/2,1/2)$. La matriz de transiciones viene dada por"
   ]
  },
  {
   "cell_type": "markdown",
   "metadata": {},
   "source": [
    "Como primer paso, calculamos los autovalores y autovectores de P. De este modo, podremos comprobar que P es diagonalizable y obtener las matrices D y Q tales que "
   ]
  },
  {
   "cell_type": "code",
   "execution_count": 10,
   "metadata": {},
   "outputs": [
    {
     "data": {
      "text/html": [
       "<html>\\[\\newcommand{\\Bold}[1]{\\mathbf{#1}}\\verb|P=| \\left(\\begin{array}{rr}\n",
       "\\frac{7}{40} & \\frac{33}{40} \\\\\n",
       "\\frac{263}{500} & \\frac{237}{500}\n",
       "\\end{array}\\right) \\verb| |\\verb|Valores|\\verb| |\\verb|propios:| \\left[1, -\\frac{351}{1000}\\right]\\]</html>"
      ],
      "text/latex": [
       "$$\\newcommand{\\Bold}[1]{\\mathbf{#1}}\\verb|P=| \\left(\\begin{array}{rr}\n",
       "\\frac{7}{40} & \\frac{33}{40} \\\\\n",
       "\\frac{263}{500} & \\frac{237}{500}\n",
       "\\end{array}\\right) \\verb| |\\verb|Valores|\\verb| |\\verb|propios:| \\left[1, -\\frac{351}{1000}\\right]$$"
      ],
      "text/plain": [
       "'P=' [   7/40   33/40]\n",
       "[263/500 237/500] ' Valores propios:' [1, -351/1000]"
      ]
     },
     "metadata": {},
     "output_type": "display_data"
    },
    {
     "data": {
      "text/html": [
       "<html>\\[\\newcommand{\\Bold}[1]{\\mathbf{#1}}\\verb|p(x)=| x^{2} - \\frac{649}{1000} x - \\frac{351}{1000}\\]</html>"
      ],
      "text/latex": [
       "$$\\newcommand{\\Bold}[1]{\\mathbf{#1}}\\verb|p(x)=| x^{2} - \\frac{649}{1000} x - \\frac{351}{1000}$$"
      ],
      "text/plain": [
       "'p(x)= ' x^2 - 649/1000*x - 351/1000"
      ]
     },
     "metadata": {},
     "output_type": "display_data"
    }
   ],
   "source": [
    "P = matrix(QQ ,[[0.175 , 0.825],[0.526 ,0.474]])\n",
    "show(\"P=\",P,\" Valores propios:\", P.eigenvalues())\n",
    "p=P.characteristic_polynomial(); show(\"p(x)= \",p) "
   ]
  },
  {
   "cell_type": "code",
   "execution_count": 2,
   "metadata": {},
   "outputs": [
    {
     "data": {
      "text/html": [
       "<html>\\[\\newcommand{\\Bold}[1]{\\mathbf{#1}}\\verb|P=| \\left(\\begin{array}{rr}\n",
       "\\frac{7}{40} & \\frac{33}{40} \\\\\n",
       "\\frac{263}{500} & \\frac{237}{500}\n",
       "\\end{array}\\right) \\verb| |\\verb|Valores|\\verb| |\\verb|propios:| \\left[1, -\\frac{351}{1000}\\right]\\]</html>"
      ],
      "text/latex": [
       "$$\\newcommand{\\Bold}[1]{\\mathbf{#1}}\\verb|P=| \\left(\\begin{array}{rr}\n",
       "\\frac{7}{40} & \\frac{33}{40} \\\\\n",
       "\\frac{263}{500} & \\frac{237}{500}\n",
       "\\end{array}\\right) \\verb| |\\verb|Valores|\\verb| |\\verb|propios:| \\left[1, -\\frac{351}{1000}\\right]$$"
      ],
      "text/plain": [
       "'P=' [   7/40   33/40]\n",
       "[263/500 237/500] ' Valores propios:' [1, -351/1000]"
      ]
     },
     "metadata": {},
     "output_type": "display_data"
    },
    {
     "data": {
      "text/html": [
       "<html>\\[\\newcommand{\\Bold}[1]{\\mathbf{#1}}\\verb|p(x)=| x^{2} - \\frac{649}{1000} x - \\frac{351}{1000}\\]</html>"
      ],
      "text/latex": [
       "$$\\newcommand{\\Bold}[1]{\\mathbf{#1}}\\verb|p(x)=| x^{2} - \\frac{649}{1000} x - \\frac{351}{1000}$$"
      ],
      "text/plain": [
       "'p(x)= ' x^2 - 649/1000*x - 351/1000"
      ]
     },
     "metadata": {},
     "output_type": "display_data"
    }
   ],
   "source": [
    "show(\"P=\",P,\" Valores propios:\", P.eigenvalues())\n",
    "p=P.characteristic_polynomial(); show(\"p(x)= \",p) "
   ]
  },
  {
   "cell_type": "code",
   "execution_count": 3,
   "metadata": {},
   "outputs": [
    {
     "data": {
      "text/html": [
       "<html>\\[\\newcommand{\\Bold}[1]{\\mathbf{#1}}\\verb|D=| \\left(\\begin{array}{rr}\n",
       "1 & 0 \\\\\n",
       "0 & -\\frac{351}{1000}\n",
       "\\end{array}\\right)\\]</html>"
      ],
      "text/latex": [
       "$$\\newcommand{\\Bold}[1]{\\mathbf{#1}}\\verb|D=| \\left(\\begin{array}{rr}\n",
       "1 & 0 \\\\\n",
       "0 & -\\frac{351}{1000}\n",
       "\\end{array}\\right)$$"
      ],
      "text/plain": [
       "'D=' [        1         0]\n",
       "[        0 -351/1000]"
      ]
     },
     "metadata": {},
     "output_type": "display_data"
    }
   ],
   "source": [
    "D = diagonal_matrix([P.eigenvalues()[0],\n",
    "P.eigenvalues()[1]])\n",
    "show(\"D=\", D) "
   ]
  },
  {
   "cell_type": "code",
   "execution_count": 4,
   "metadata": {},
   "outputs": [
    {
     "data": {
      "text/plain": [
       "[(1,\n",
       "  [\n",
       "  (1, 1)\n",
       "  ],\n",
       "  1),\n",
       " (-351/1000,\n",
       "  [\n",
       "  (1, -526/825)\n",
       "  ],\n",
       "  1)]"
      ]
     },
     "execution_count": 4,
     "metadata": {},
     "output_type": "execute_result"
    }
   ],
   "source": [
    "P.eigenvectors_right() "
   ]
  },
  {
   "cell_type": "code",
   "execution_count": 5,
   "metadata": {},
   "outputs": [
    {
     "data": {
      "text/html": [
       "<html>\\[\\newcommand{\\Bold}[1]{\\mathbf{#1}}\\verb|q1=| \\left(1,\\,1\\right) \\verb| |\\verb|q2=| \\left(1,\\,-\\frac{526}{825}\\right)\\]</html>"
      ],
      "text/latex": [
       "$$\\newcommand{\\Bold}[1]{\\mathbf{#1}}\\verb|q1=| \\left(1,\\,1\\right) \\verb| |\\verb|q2=| \\left(1,\\,-\\frac{526}{825}\\right)$$"
      ],
      "text/plain": [
       "'q1=' (1, 1) ' q2=' (1, -526/825)"
      ]
     },
     "metadata": {},
     "output_type": "display_data"
    }
   ],
   "source": [
    "q1=(P.eigenvectors_right()[0])[1][0];\n",
    "q2=(P.eigenvectors_right()[1])[1][0];\n",
    "show(\"q1=\",q1,\" q2=\",q2) "
   ]
  },
  {
   "cell_type": "code",
   "execution_count": 6,
   "metadata": {},
   "outputs": [
    {
     "data": {
      "text/plain": [
       "(1, 1)"
      ]
     },
     "execution_count": 6,
     "metadata": {},
     "output_type": "execute_result"
    }
   ],
   "source": [
    "q1 "
   ]
  },
  {
   "cell_type": "code",
   "execution_count": 7,
   "metadata": {},
   "outputs": [
    {
     "data": {
      "text/html": [
       "<html>\\[\\newcommand{\\Bold}[1]{\\mathbf{#1}}\\verb|Q=| \\left(\\begin{array}{rr}\n",
       "1 & 1 \\\\\n",
       "1 & -\\frac{526}{825}\n",
       "\\end{array}\\right)\\]</html>"
      ],
      "text/latex": [
       "$$\\newcommand{\\Bold}[1]{\\mathbf{#1}}\\verb|Q=| \\left(\\begin{array}{rr}\n",
       "1 & 1 \\\\\n",
       "1 & -\\frac{526}{825}\n",
       "\\end{array}\\right)$$"
      ],
      "text/plain": [
       "'Q=' [       1        1]\n",
       "[       1 -526/825]"
      ]
     },
     "metadata": {},
     "output_type": "display_data"
    },
    {
     "name": "stdout",
     "output_type": "stream",
     "text": [
      "True\n"
     ]
    }
   ],
   "source": [
    "Q=column_matrix([q1,q2]);\n",
    "show(\"Q=\",Q)\n",
    "print (P == Q*D*Q.inverse())"
   ]
  },
  {
   "cell_type": "code",
   "execution_count": 8,
   "metadata": {},
   "outputs": [
    {
     "data": {
      "text/html": [
       "<html>\\[\\newcommand{\\Bold}[1]{\\mathbf{#1}}\\left(\\frac{299 \\, \\left(-351\\right)^{n}}{2702 \\cdot 1000^{n}} + \\frac{526}{1351},\\,-\\frac{299 \\, \\left(-351\\right)^{n}}{2702 \\cdot 1000^{n}} + \\frac{825}{1351}\\right)\\]</html>"
      ],
      "text/latex": [
       "$$\\newcommand{\\Bold}[1]{\\mathbf{#1}}\\left(\\frac{299 \\, \\left(-351\\right)^{n}}{2702 \\cdot 1000^{n}} + \\frac{526}{1351},\\,-\\frac{299 \\, \\left(-351\\right)^{n}}{2702 \\cdot 1000^{n}} + \\frac{825}{1351}\\right)$$"
      ],
      "text/plain": [
       "(299/2702*(-351)^n/1000^n + 526/1351, -299/2702*(-351)^n/1000^n + 825/1351)"
      ]
     },
     "metadata": {},
     "output_type": "display_data"
    }
   ],
   "source": [
    "mo = vector((1/2,1/2));\n",
    "var('n')\n",
    "D^n\n",
    "show(mo*Q*(D^n)*Q.inverse()) "
   ]
  },
  {
   "cell_type": "code",
   "execution_count": 9,
   "metadata": {},
   "outputs": [
    {
     "data": {
      "image/png": "[encoded data removed]",
      "text/plain": [
       "Graphics object consisting of 2 graphics primitives"
      ]
     },
     "execution_count": 9,
     "metadata": {},
     "output_type": "execute_result"
    }
   ],
   "source": [
    "list_plot([(k,299*(-351)^k/(2702*1000^k)+526/1351) for k in\n",
    "range(1,50)],color='red')+list_plot([(k,-299*\n",
    "(-351)^k/(2702*1000^k)+825/1351) for k in range(1,50)]) "
   ]
  }
 ],
 "metadata": {
  "kernelspec": {
   "display_name": "SageMath 9.5",
   "language": "sage",
   "name": "SageMath-9.5"
  },
  "language_info": {
   "codemirror_mode": {
    "name": "ipython",
    "version": 3
   },
   "file_extension": ".py",
   "mimetype": "text/x-python",
   "name": "python",
   "nbconvert_exporter": "python",
   "pygments_lexer": "ipython3",
   "version": "3.9.9"
  },
  "orig_nbformat": 4
 },
 "nbformat": 4,
 "nbformat_minor": 2
}
