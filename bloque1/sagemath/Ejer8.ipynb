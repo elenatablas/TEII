{
 "cells": [
  {
   "cell_type": "code",
   "execution_count": null,
   "metadata": {},
   "outputs": [],
   "source": []
  },
  {
   "cell_type": "code",
   "execution_count": 8,
   "metadata": {},
   "outputs": [
    {
     "data": {
      "text/plain": [
       "[               0.0                0.0                0.0                0.0                0.5                0.5                0.0]\n",
       "[0.3333333333333333                0.0 0.3333333333333333                0.0                0.0 0.3333333333333333                0.0]\n",
       "[               0.0                0.0                0.0                0.5                0.0                0.5                0.0]\n",
       "[               0.0                0.0                0.0                0.0                0.0                1.0                0.0]\n",
       "[              0.25                0.0                0.0               0.25                0.0               0.25               0.25]\n",
       "[               0.5                0.5                0.0                0.0                0.0                0.0                0.0]\n",
       "[               0.0                0.0                0.0                0.0                0.0                0.0                0.0]"
      ]
     },
     "execution_count": 8,
     "metadata": {},
     "output_type": "execute_result"
    }
   ],
   "source": [
    "N = matrix(RDF ,[[0, 0, 0, 0, 0.5 , 0.5, 0],[1/3, 0, 1/3, 0, 0, 1/3, 0],[0, 0, 0, 0.5, 0 , 0.5, 0],[0, 0, 0, 0, 0, 1, 0],[0.25, 0, 0,\n",
    "0.25, 0, 0.25, 0.25],[0.5, 0.5, 0, 0, 0, 0, 0],[0, 0, 0, 0, 0 , 0, 0]]) \n",
    "N"
   ]
  },
  {
   "cell_type": "code",
   "execution_count": 7,
   "metadata": {},
   "outputs": [
    {
     "data": {
      "text/plain": [
       "[                0.0                 0.0                 0.0                 0.0                 0.5                 0.5                 0.0]\n",
       "[ 0.3333333333333333                 0.0  0.3333333333333333                 0.0                 0.0  0.3333333333333333                 0.0]\n",
       "[                0.0                 0.0                 0.0                 0.5                 0.0                 0.5                 0.0]\n",
       "[                0.0                 0.0                 0.0                 0.0                 0.0                 1.0                 0.0]\n",
       "[               0.25                 0.0                 0.0                0.25                 0.0                0.25                0.25]\n",
       "[                0.5                 0.5                 0.0                 0.0                 0.0                 0.0                 0.0]\n",
       "[0.14285714285714285 0.14285714285714285 0.14285714285714285 0.14285714285714285 0.14285714285714285 0.14285714285714285 0.14285714285714285]"
      ]
     },
     "execution_count": 7,
     "metadata": {},
     "output_type": "execute_result"
    }
   ],
   "source": [
    "Q = matrix(RDF ,[[0, 0, 0, 0, 0.5 , 0.5, 0],[1/3, 0, 1/3, 0, 0, 1/3, 0],[0, 0, 0, 0.5, 0 , 0.5, 0],[0, 0, 0, 0, 0, 1, 0],[0.25, 0, 0,\n",
    "0.25, 0, 0.25, 0.25],[0.5, 0.5, 0, 0, 0, 0, 0],[1/7, 1/7, 1/7, 1/7, 1/7, 1/7, 1/7]])\n",
    "Q"
   ]
  },
  {
   "cell_type": "code",
   "execution_count": 6,
   "metadata": {},
   "outputs": [
    {
     "data": {
      "text/plain": [
       "[0.14285714285714285 0.14285714285714285 0.14285714285714285 0.14285714285714285 0.14285714285714285 0.14285714285714285 0.14285714285714285]\n",
       "[0.14285714285714285 0.14285714285714285 0.14285714285714285 0.14285714285714285 0.14285714285714285 0.14285714285714285 0.14285714285714285]\n",
       "[0.14285714285714285 0.14285714285714285 0.14285714285714285 0.14285714285714285 0.14285714285714285 0.14285714285714285 0.14285714285714285]\n",
       "[0.14285714285714285 0.14285714285714285 0.14285714285714285 0.14285714285714285 0.14285714285714285 0.14285714285714285 0.14285714285714285]\n",
       "[0.14285714285714285 0.14285714285714285 0.14285714285714285 0.14285714285714285 0.14285714285714285 0.14285714285714285 0.14285714285714285]\n",
       "[0.14285714285714285 0.14285714285714285 0.14285714285714285 0.14285714285714285 0.14285714285714285 0.14285714285714285 0.14285714285714285]\n",
       "[0.14285714285714285 0.14285714285714285 0.14285714285714285 0.14285714285714285 0.14285714285714285 0.14285714285714285 0.14285714285714285]"
      ]
     },
     "execution_count": 6,
     "metadata": {},
     "output_type": "execute_result"
    }
   ],
   "source": [
    "A = matrix(RDF ,[[1/7, 1/7, 1/7, 1/7, 1/7, 1/7, 1/7],[1/7, 1/7, 1/7, 1/7, 1/7, 1/7, 1/7],[1/7, 1/7, 1/7, 1/7, 1/7, 1/7, 1/7],[1/7, 1/7,\n",
    "1/7, 1/7, 1/7, 1/7, 1/7],[1/7, 1/7, 1/7, 1/7, 1/7, 1/7, 1/7],[1/7, 1/7, 1/7, 1/7, 1/7, 1/7, 1/7],[1/7, 1/7, 1/7, 1/7, 1/7, 1/7, 1/7]])\n",
    "A"
   ]
  },
  {
   "cell_type": "markdown",
   "metadata": {},
   "source": [
    "Orden f,a,b,e,d,c,g"
   ]
  },
  {
   "cell_type": "code",
   "execution_count": null,
   "metadata": {},
   "outputs": [],
   "source": []
  },
  {
   "cell_type": "markdown",
   "metadata": {},
   "source": [
    "OTRO MÉTODO"
   ]
  },
  {
   "cell_type": "code",
   "execution_count": 4,
   "metadata": {},
   "outputs": [
    {
     "ename": "NameError",
     "evalue": "name 'P' is not defined",
     "output_type": "error",
     "traceback": [
      "\u001b[0;31m---------------------------------------------------------------------------\u001b[0m",
      "\u001b[0;31mNameError\u001b[0m                                 Traceback (most recent call last)",
      "\u001b[0;32m/var/folders/9p/50t6l57n7sn5xwyg9k3z1s0h0000gn/T/ipykernel_1285/1433454595.py\u001b[0m in \u001b[0;36m<module>\u001b[0;34m\u001b[0m\n\u001b[0;32m----> 1\u001b[0;31m \u001b[0mG\u001b[0m\u001b[0;34m=\u001b[0m\u001b[0mP\u001b[0m\u001b[0;34m.\u001b[0m\u001b[0mtranspose\u001b[0m\u001b[0;34m(\u001b[0m\u001b[0;34m)\u001b[0m\u001b[0;34m\u001b[0m\u001b[0;34m\u001b[0m\u001b[0m\n\u001b[0m",
      "\u001b[0;31mNameError\u001b[0m: name 'P' is not defined"
     ]
    }
   ],
   "source": [
    "G=P.transpose() "
   ]
  },
  {
   "cell_type": "markdown",
   "metadata": {},
   "source": [
    "La z quitando la parte imaginaria hay que normalizarla \n",
    "z = (2,7,5)\n",
    "z/14 = (2/14, 7/14, 5/14)"
   ]
  },
  {
   "cell_type": "markdown",
   "metadata": {},
   "source": [
    "Calcular la distribución estacionaria\n",
    "Traspuesta de P, valores propios, calcular el autovector, autoespacio"
   ]
  }
 ],
 "metadata": {
  "kernelspec": {
   "display_name": "SageMath 9.5",
   "language": "sage",
   "name": "SageMath-9.5"
  },
  "language_info": {
   "codemirror_mode": {
    "name": "ipython",
    "version": 3
   },
   "file_extension": ".py",
   "mimetype": "text/x-python",
   "name": "python",
   "nbconvert_exporter": "python",
   "pygments_lexer": "ipython3",
   "version": "3.9.9"
  },
  "orig_nbformat": 4
 },
 "nbformat": 4,
 "nbformat_minor": 2
}
