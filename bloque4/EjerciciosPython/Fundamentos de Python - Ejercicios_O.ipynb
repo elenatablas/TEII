{
 "cells": [
  {
   "cell_type": "markdown",
   "id": "shared-calibration",
   "metadata": {
    "toc": true
   },
   "source": [
    "<h1>Tabla de contenidos<span class=\"tocSkip\"></span></h1>\n",
    "<div class=\"toc\"><ul class=\"toc-item\"><li><span><a href=\"#Alumno\" data-toc-modified-id=\"Alumno-1\"><span class=\"toc-item-num\">1&nbsp;&nbsp;</span>Alumno</a></span></li><li><span><a href=\"#Ejercicios-de-Python-básico\" data-toc-modified-id=\"Ejercicios-de-Python-básico-2\"><span class=\"toc-item-num\">2&nbsp;&nbsp;</span>Ejercicios de Python básico</a></span><ul class=\"toc-item\"><li><span><a href=\"#Listas-y-diccionarios\" data-toc-modified-id=\"Listas-y-diccionarios-2.1\"><span class=\"toc-item-num\">2.1&nbsp;&nbsp;</span>Listas y diccionarios</a></span><ul class=\"toc-item\"><li><span><a href=\"#Dada-una-frase-sin-signos-de-puntuación,-calcula-la-lista-de-las-longitudes-de-las-palabras-que-contiene.\" data-toc-modified-id=\"Dada-una-frase-sin-signos-de-puntuación,-calcula-la-lista-de-las-longitudes-de-las-palabras-que-contiene.-2.1.1\"><span class=\"toc-item-num\">2.1.1&nbsp;&nbsp;</span>Dada una frase sin signos de puntuación, calcula la lista de las longitudes de las palabras que contiene.</a></span></li><li><span><a href=\"#Usando-list-comprehensions,-a-partir-de-una-lista-de-números,-obtén-la-lista-de-los-elementos-que-son-positivos.\" data-toc-modified-id=\"Usando-list-comprehensions,-a-partir-de-una-lista-de-números,-obtén-la-lista-de-los-elementos-que-son-positivos.-2.1.2\"><span class=\"toc-item-num\">2.1.2&nbsp;&nbsp;</span>Usando <em>list comprehensions</em>, a partir de una lista de números, obtén la lista de los elementos que son positivos.</a></span></li><li><span><a href=\"#Dado-el-siguiente-diccionario-con-pares-&quot;nombre&quot;:-peso,-extrae-una-lista-con-los-nombres-de-los-vehículos-que-pesan-menos-de-5000-kilos.\" data-toc-modified-id=\"Dado-el-siguiente-diccionario-con-pares-&quot;nombre&quot;:-peso,-extrae-una-lista-con-los-nombres-de-los-vehículos-que-pesan-menos-de-5000-kilos.-2.1.3\"><span class=\"toc-item-num\">2.1.3&nbsp;&nbsp;</span>Dado el siguiente diccionario con pares <code>\"nombre\": peso</code>, extrae una lista con los nombres de los vehículos que pesan menos de 5000 kilos.</a></span></li><li><span><a href=\"#Crea-una-lista-lst2-con-el-tipo-de-cada-elemento-de-la-lista-lst1.\" data-toc-modified-id=\"Crea-una-lista-lst2-con-el-tipo-de-cada-elemento-de-la-lista-lst1.-2.1.4\"><span class=\"toc-item-num\">2.1.4&nbsp;&nbsp;</span>Crea una lista <code>lst2</code> con el tipo de cada elemento de la lista <code>lst1</code>.</a></span></li><li><span><a href=\"#Usando-la-función-zip(),-crea-un-diccionario-que-forme-sus-pares-&quot;clave&quot;:-valor-a-partir-de-las-listas-lst1-y-lst2.\" data-toc-modified-id=\"Usando-la-función-zip(),-crea-un-diccionario-que-forme-sus-pares-&quot;clave&quot;:-valor-a-partir-de-las-listas-lst1-y-lst2.-2.1.5\"><span class=\"toc-item-num\">2.1.5&nbsp;&nbsp;</span>Usando la función <code>zip()</code>, crea un diccionario que forme sus pares <code>\"clave\": valor</code> a partir de las listas <code>lst1</code> y <code>lst2</code>.</a></span></li><li><span><a href=\"#Crea-una-lista-ordenada-de-tuplas-(&quot;nombre&quot;,-edad)-a-partir-de-las-listas-nombres-y-edades.\" data-toc-modified-id=\"Crea-una-lista-ordenada-de-tuplas-(&quot;nombre&quot;,-edad)-a-partir-de-las-listas-nombres-y-edades.-2.1.6\"><span class=\"toc-item-num\">2.1.6&nbsp;&nbsp;</span>Crea una lista ordenada de tuplas <code>(\"nombre\", edad)</code> a partir de las listas <code>nombres</code> y <code>edades</code>.</a></span></li><li><span><a href=\"#Crea-un-diccionario-que-asocie-cada-letra-del-rango-a-z-con-su-correspondiente-orden.\" data-toc-modified-id=\"Crea-un-diccionario-que-asocie-cada-letra-del-rango-a-z-con-su-correspondiente-orden.-2.1.7\"><span class=\"toc-item-num\">2.1.7&nbsp;&nbsp;</span>Crea un diccionario que asocie cada letra del rango a-z con su correspondiente orden.</a></span></li><li><span><a href=\"#Genera-un-diccionario-que-contenga-las-letras-del-rango-a-z-cuya-codificación-en-Unicode-sea-un-número-par-usando-dict-comprehensions.\" data-toc-modified-id=\"Genera-un-diccionario-que-contenga-las-letras-del-rango-a-z-cuya-codificación-en-Unicode-sea-un-número-par-usando-dict-comprehensions.-2.1.8\"><span class=\"toc-item-num\">2.1.8&nbsp;&nbsp;</span>Genera un diccionario que contenga las letras del rango a-z cuya codificación en Unicode sea un número par usando <em>dict comprehensions</em>.</a></span></li></ul></li><li><span><a href=\"#Cadenas\" data-toc-modified-id=\"Cadenas-2.2\"><span class=\"toc-item-num\">2.2&nbsp;&nbsp;</span>Cadenas</a></span><ul class=\"toc-item\"><li><span><a href=\"#Consigue-una-cadena-que-tenga-todos-los-nombres-de-los-vehículos-del-diccionario-vehicles-separados-por-comas.\" data-toc-modified-id=\"Consigue-una-cadena-que-tenga-todos-los-nombres-de-los-vehículos-del-diccionario-vehicles-separados-por-comas.-2.2.1\"><span class=\"toc-item-num\">2.2.1&nbsp;&nbsp;</span>Consigue una cadena que tenga todos los nombres de los vehículos del diccionario <code>vehicles</code> separados por comas.</a></span></li><li><span><a href=\"#Genera-una-cadena-con-retornos-de-carro,-de-manera-que-se-imprima-como-un-poema,-con-la-siguiente-lista-de-frases.\" data-toc-modified-id=\"Genera-una-cadena-con-retornos-de-carro,-de-manera-que-se-imprima-como-un-poema,-con-la-siguiente-lista-de-frases.-2.2.2\"><span class=\"toc-item-num\">2.2.2&nbsp;&nbsp;</span>Genera una cadena con retornos de carro, de manera que se imprima como un poema, con la siguiente lista de frases.</a></span></li><li><span><a href=\"#Convierte-cadena-con-una-fecha-en-formato-americano-'AAAA-MM-DD'-al-formato-'DD/MM/AAAA'.\" data-toc-modified-id=\"Convierte-cadena-con-una-fecha-en-formato-americano-'AAAA-MM-DD'-al-formato-'DD/MM/AAAA'.-2.2.3\"><span class=\"toc-item-num\">2.2.3&nbsp;&nbsp;</span>Convierte cadena con una fecha en formato americano 'AAAA-MM-DD' al formato 'DD/MM/AAAA'.</a></span></li></ul></li><li><span><a href=\"#Las-funciones-dir()-y-help()\" data-toc-modified-id=\"Las-funciones-dir()-y-help()-2.3\"><span class=\"toc-item-num\">2.3&nbsp;&nbsp;</span>Las funciones <code>dir()</code> y <code>help()</code></a></span><ul class=\"toc-item\"><li><span><a href=\"#Usa-estas-funciones-para-encontrar-todos-los-métodos-disponibles-para-cadenas.\" data-toc-modified-id=\"Usa-estas-funciones-para-encontrar-todos-los-métodos-disponibles-para-cadenas.-2.3.1\"><span class=\"toc-item-num\">2.3.1&nbsp;&nbsp;</span>Usa estas funciones para encontrar todos los métodos disponibles para cadenas.</a></span></li><li><span><a href=\"#Usa-las-mismas-funciones-para-pedir-ayuda-sobre-la-función-zip().\" data-toc-modified-id=\"Usa-las-mismas-funciones-para-pedir-ayuda-sobre-la-función-zip().-2.3.2\"><span class=\"toc-item-num\">2.3.2&nbsp;&nbsp;</span>Usa las mismas funciones para pedir ayuda sobre la función <code>zip()</code>.</a></span></li></ul></li></ul></li><li><span><a href=\"#Ejercicios-de-nivel-intermedio\" data-toc-modified-id=\"Ejercicios-de-nivel-intermedio-3\"><span class=\"toc-item-num\">3&nbsp;&nbsp;</span>Ejercicios de nivel intermedio</a></span><ul class=\"toc-item\"><li><span><a href=\"#Listas,-diccionarios,-conjuntos,-tuplas-y-cadenas\" data-toc-modified-id=\"Listas,-diccionarios,-conjuntos,-tuplas-y-cadenas-3.1\"><span class=\"toc-item-num\">3.1&nbsp;&nbsp;</span>Listas, diccionarios, conjuntos, tuplas y cadenas</a></span><ul class=\"toc-item\"><li><span><a href=\"#Programa-una-función-llamada-primos()\" data-toc-modified-id=\"Programa-una-función-llamada-primos()-3.1.1\"><span class=\"toc-item-num\">3.1.1&nbsp;&nbsp;</span>Programa una función llamada <code>primos()</code></a></span></li><li><span><a href=\"#Programa-una-función-lista_mayor_que()\" data-toc-modified-id=\"Programa-una-función-lista_mayor_que()-3.1.2\"><span class=\"toc-item-num\">3.1.2&nbsp;&nbsp;</span>Programa una función <code>lista_mayor_que()</code></a></span></li><li><span><a href=\"#Programa-una-función-llamada-is_valid_zipcode()\" data-toc-modified-id=\"Programa-una-función-llamada-is_valid_zipcode()-3.1.3\"><span class=\"toc-item-num\">3.1.3&nbsp;&nbsp;</span>Programa una función llamada <code>is_valid_zipcode()</code></a></span></li><li><span><a href=\"#Programa-una-función-llamada-word_search\" data-toc-modified-id=\"Programa-una-función-llamada-word_search-3.1.4\"><span class=\"toc-item-num\">3.1.4&nbsp;&nbsp;</span>Programa una función llamada <code>word_search</code></a></span></li><li><span><a href=\"#Programa-una-función-llamada-word_count()\" data-toc-modified-id=\"Programa-una-función-llamada-word_count()-3.1.5\"><span class=\"toc-item-num\">3.1.5&nbsp;&nbsp;</span>Programa una función llamada <code>word_count()</code></a></span></li><li><span><a href=\"#Convierte-una-lista-que-contiene-listas-(bidimensional)-en-una-lista-plana.\" data-toc-modified-id=\"Convierte-una-lista-que-contiene-listas-(bidimensional)-en-una-lista-plana.-3.1.6\"><span class=\"toc-item-num\">3.1.6&nbsp;&nbsp;</span>Convierte una lista que contiene listas (bidimensional) en una lista plana.</a></span></li><li><span><a href=\"#Programa-una-función-llamada-unique_word_count()\" data-toc-modified-id=\"Programa-una-función-llamada-unique_word_count()-3.1.7\"><span class=\"toc-item-num\">3.1.7&nbsp;&nbsp;</span>Programa una función llamada <code>unique_word_count()</code></a></span></li><li><span><a href=\"#Escribe-una-función-llamada-capital_letter_count()\" data-toc-modified-id=\"Escribe-una-función-llamada-capital_letter_count()-3.1.8\"><span class=\"toc-item-num\">3.1.8&nbsp;&nbsp;</span>Escribe una función llamada <code>capital_letter_count()</code></a></span></li></ul></li></ul></li></ul></div>"
   ]
  },
  {
   "cell_type": "markdown",
   "id": "39938e2f-7834-4881-8fe0-0091e412f110",
   "metadata": {},
   "source": [
    "# Alumno"
   ]
  },
  {
   "cell_type": "markdown",
   "id": "48332deb-2090-4822-8426-5df5bbaaf0ee",
   "metadata": {},
   "source": [
    "*Sustituye esta frase por tu nombre y apellidos.*"
   ]
  },
  {
   "cell_type": "markdown",
   "id": "pressing-personality",
   "metadata": {},
   "source": [
    "# Ejercicios de Python básico"
   ]
  },
  {
   "cell_type": "markdown",
   "id": "literary-newsletter",
   "metadata": {},
   "source": [
    "## Listas y diccionarios"
   ]
  },
  {
   "cell_type": "markdown",
   "id": "assured-emperor",
   "metadata": {},
   "source": [
    "### Dada una frase sin signos de puntuación, calcula la lista de las longitudes de las palabras que contiene.\n",
    "\n",
    "Resuélvelo tanto con un bucle clásico como usando *list comprehensions*."
   ]
  },
  {
   "cell_type": "code",
   "execution_count": 1,
   "id": "working-carroll",
   "metadata": {},
   "outputs": [],
   "source": [
    "sentence = \"the quick brown fox jumps over the lazy dog\""
   ]
  },
  {
   "cell_type": "code",
   "execution_count": 2,
   "id": "875ea55b",
   "metadata": {},
   "outputs": [
    {
     "data": {
      "text/plain": [
       "[3, 5, 5, 3, 5, 4, 3, 4, 3]"
      ]
     },
     "execution_count": 2,
     "metadata": {},
     "output_type": "execute_result"
    }
   ],
   "source": [
    "# Solución con un bucle clásico\n",
    "lista = []\n",
    "for palabra in sentence.split():\n",
    "    lista.append(len(palabra))\n",
    "lista\n"
   ]
  },
  {
   "cell_type": "code",
   "execution_count": 3,
   "id": "sensitive-office",
   "metadata": {},
   "outputs": [
    {
     "data": {
      "text/plain": [
       "[3, 5, 5, 3, 5, 4, 3, 4, 3]"
      ]
     },
     "execution_count": 3,
     "metadata": {},
     "output_type": "execute_result"
    }
   ],
   "source": [
    "# Solución con list comprehension\n",
    "lista = [len(k) for k in sentence.split()]\n",
    "lista"
   ]
  },
  {
   "cell_type": "markdown",
   "id": "robust-expression",
   "metadata": {},
   "source": [
    "### Usando *list comprehensions*, a partir de una lista de números, obtén la lista de los elementos que son positivos."
   ]
  },
  {
   "cell_type": "code",
   "execution_count": 4,
   "id": "reverse-fiction",
   "metadata": {},
   "outputs": [],
   "source": [
    "numbers = [2.2, -3.4, 1.0, 5.6, -1.2]"
   ]
  },
  {
   "cell_type": "code",
   "execution_count": 5,
   "id": "5b72f916",
   "metadata": {},
   "outputs": [
    {
     "data": {
      "text/plain": [
       "[2.2, 1.0, 5.6]"
      ]
     },
     "execution_count": 5,
     "metadata": {},
     "output_type": "execute_result"
    }
   ],
   "source": [
    "# Solución\n",
    "lista = [k for k in numbers if k > 0]\n",
    "lista"
   ]
  },
  {
   "cell_type": "markdown",
   "id": "sunset-identifier",
   "metadata": {},
   "source": [
    "### Dado el siguiente diccionario con pares `\"nombre\": peso`, extrae una lista con los nombres de los vehículos que pesan menos de 5000 kilos.\n",
    "\n",
    "Los nombres de la lista extraída deben estar todo en minúsculas."
   ]
  },
  {
   "cell_type": "code",
   "execution_count": 6,
   "id": "failing-championship",
   "metadata": {},
   "outputs": [],
   "source": [
    "vehicles = {\n",
    "    \"Sedan\": 1500,\n",
    "    \"SUV\": 2000,\n",
    "    \"Pickup\": 2500,\n",
    "    \"Minivan\": 1600,\n",
    "    \"Van\": 2400,\n",
    "    \"Semi\": 13600,\n",
    "    \"Bicycle\": 7,\n",
    "    \"Motorcycle\": 110\n",
    "}"
   ]
  },
  {
   "cell_type": "code",
   "execution_count": 7,
   "id": "homeless-graduation",
   "metadata": {},
   "outputs": [
    {
     "data": {
      "text/plain": [
       "['Sedan', 'SUV', 'Pickup', 'Minivan', 'Van', 'Bicycle', 'Motorcycle']"
      ]
     },
     "execution_count": 7,
     "metadata": {},
     "output_type": "execute_result"
    }
   ],
   "source": [
    "# Solución\n",
    "lista = [k for k in vehicles if vehicles[k] < 5000]\n",
    "lista"
   ]
  },
  {
   "cell_type": "markdown",
   "id": "concrete-hurricane",
   "metadata": {},
   "source": [
    "### Crea una lista `lst2` con el tipo de cada elemento de la lista `lst1`.\n",
    "\n",
    "Resuélvelo tanto con un bucle clásico como usando *list comprehensions*."
   ]
  },
  {
   "cell_type": "code",
   "execution_count": 8,
   "id": "limiting-minority",
   "metadata": {},
   "outputs": [],
   "source": [
    "lst1 = [3.14, 66, \"osito\", True, [], {}]"
   ]
  },
  {
   "cell_type": "code",
   "execution_count": 9,
   "id": "confident-replication",
   "metadata": {
    "tags": []
   },
   "outputs": [
    {
     "data": {
      "text/plain": [
       "[float, int, str, bool, list, dict]"
      ]
     },
     "execution_count": 9,
     "metadata": {},
     "output_type": "execute_result"
    }
   ],
   "source": [
    "# Solución con bucle clásico\n",
    "lst2 = []\n",
    "for k in lst1 :\n",
    "    lst2.append(type(k))\n",
    "lst2\n"
   ]
  },
  {
   "cell_type": "code",
   "execution_count": 10,
   "id": "e7c8ed49-360a-4cc5-acdf-358a8fac098b",
   "metadata": {
    "tags": []
   },
   "outputs": [
    {
     "data": {
      "text/plain": [
       "[float, int, str, bool, list, dict]"
      ]
     },
     "execution_count": 10,
     "metadata": {},
     "output_type": "execute_result"
    }
   ],
   "source": [
    "# Solución con list comprehension\n",
    "lst2 = [type(k) for k in lst1]\n",
    "lst2"
   ]
  },
  {
   "cell_type": "markdown",
   "id": "known-watershed",
   "metadata": {},
   "source": [
    "### Usando la función `zip()`, crea un diccionario que forme sus pares `\"clave\": valor` a partir de las listas `lst1` y `lst2`."
   ]
  },
  {
   "cell_type": "code",
   "execution_count": 11,
   "id": "macro-filling",
   "metadata": {},
   "outputs": [],
   "source": [
    "lst1 = [\"Netflix\", \"Hulu\", \"Sling\", \"HBO\"]\n",
    "lst2 = [198, 166, 237, 125]"
   ]
  },
  {
   "cell_type": "code",
   "execution_count": 12,
   "id": "advance-science",
   "metadata": {},
   "outputs": [
    {
     "data": {
      "text/plain": [
       "{'Netflix': 198, 'Hulu': 166, 'Sling': 237, 'HBO': 125}"
      ]
     },
     "execution_count": 12,
     "metadata": {},
     "output_type": "execute_result"
    }
   ],
   "source": [
    "# Solución\n",
    "dic= dict(zip(lst1,lst2))\n",
    "dic"
   ]
  },
  {
   "cell_type": "markdown",
   "id": "mounted-preliminary",
   "metadata": {},
   "source": [
    "### Crea una lista ordenada de tuplas `(\"nombre\", edad)` a partir de las listas `nombres` y `edades`.\n",
    "\n",
    "Pista: Usa las funciones `zip()` y `sorted()`"
   ]
  },
  {
   "cell_type": "code",
   "execution_count": 13,
   "id": "mediterranean-mission",
   "metadata": {},
   "outputs": [],
   "source": [
    "nombres = [\"Mike\", \"Danny\", \"Jim\", \"Annie\"]\n",
    "edades = [4, 12, 7, 19]"
   ]
  },
  {
   "cell_type": "code",
   "execution_count": 14,
   "id": "dominican-ocean",
   "metadata": {},
   "outputs": [
    {
     "data": {
      "text/plain": [
       "[('Annie', 19), ('Danny', 12), ('Jim', 7), ('Mike', 4)]"
      ]
     },
     "execution_count": 14,
     "metadata": {},
     "output_type": "execute_result"
    }
   ],
   "source": [
    "# Solución\n",
    "l=[]\n",
    "for i,e in enumerate(nombres):\n",
    "    l.append((e, edades[i]))\n",
    "l.sort()\n",
    "l"
   ]
  },
  {
   "cell_type": "markdown",
   "id": "former-crawford",
   "metadata": {},
   "source": [
    "### Crea un diccionario que asocie cada letra del rango a-z con su correspondiente orden. \n",
    "\n",
    "Pista: Usa las funciones `ord()` (que devuelve el código Unicode de un carácter) y `chr()` (que devuelve la letra asociada a su código Unicode).\n",
    "\n",
    "Resuélvelo tanto con un bucle clásico como usando *dict comprehensions*."
   ]
  },
  {
   "cell_type": "code",
   "execution_count": 15,
   "id": "dominican-motorcycle",
   "metadata": {},
   "outputs": [
    {
     "data": {
      "text/plain": [
       "{'a': 97,\n",
       " 'b': 98,\n",
       " 'c': 99,\n",
       " 'd': 100,\n",
       " 'e': 101,\n",
       " 'f': 102,\n",
       " 'g': 103,\n",
       " 'h': 104,\n",
       " 'i': 105,\n",
       " 'j': 106,\n",
       " 'k': 107,\n",
       " 'l': 108,\n",
       " 'm': 109,\n",
       " 'n': 110,\n",
       " 'o': 111,\n",
       " 'p': 112,\n",
       " 'q': 113,\n",
       " 'r': 114,\n",
       " 's': 115,\n",
       " 't': 116,\n",
       " 'u': 117,\n",
       " 'v': 118,\n",
       " 'w': 119,\n",
       " 'x': 120,\n",
       " 'y': 121,\n",
       " 'z': 122}"
      ]
     },
     "execution_count": 15,
     "metadata": {},
     "output_type": "execute_result"
    }
   ],
   "source": [
    "# Solución con bucle clásico\n",
    "D = {}\n",
    "for k in range(ord('a'),ord('z')+1) :\n",
    "    D[chr(k)] = k\n",
    "D"
   ]
  },
  {
   "cell_type": "code",
   "execution_count": 16,
   "id": "cf81cbf9",
   "metadata": {},
   "outputs": [
    {
     "data": {
      "text/plain": [
       "{'a': 97,\n",
       " 'b': 98,\n",
       " 'c': 99,\n",
       " 'd': 100,\n",
       " 'e': 101,\n",
       " 'f': 102,\n",
       " 'g': 103,\n",
       " 'h': 104,\n",
       " 'i': 105,\n",
       " 'j': 106,\n",
       " 'k': 107,\n",
       " 'l': 108,\n",
       " 'm': 109,\n",
       " 'n': 110,\n",
       " 'o': 111,\n",
       " 'p': 112,\n",
       " 'q': 113,\n",
       " 'r': 114,\n",
       " 's': 115,\n",
       " 't': 116,\n",
       " 'u': 117,\n",
       " 'v': 118,\n",
       " 'w': 119,\n",
       " 'x': 120,\n",
       " 'y': 121,\n",
       " 'z': 122}"
      ]
     },
     "execution_count": 16,
     "metadata": {},
     "output_type": "execute_result"
    }
   ],
   "source": [
    "# Solución con dict comprehension\n",
    "D2 = {chr(k):k for k in range(ord('a'),ord('z')+1)}\n",
    "D2"
   ]
  },
  {
   "cell_type": "markdown",
   "id": "ceramic-genre",
   "metadata": {},
   "source": [
    "### Genera un diccionario que contenga las letras del rango a-z cuya codificación en Unicode sea un número par usando *dict comprehensions*.\n",
    "\n",
    "Puedes partir del diccionario del ejercicio anterior."
   ]
  },
  {
   "cell_type": "code",
   "execution_count": 17,
   "id": "clinical-motorcycle",
   "metadata": {},
   "outputs": [
    {
     "data": {
      "text/plain": [
       "{'b': 98,\n",
       " 'd': 100,\n",
       " 'f': 102,\n",
       " 'h': 104,\n",
       " 'j': 106,\n",
       " 'l': 108,\n",
       " 'n': 110,\n",
       " 'p': 112,\n",
       " 'r': 114,\n",
       " 't': 116,\n",
       " 'v': 118,\n",
       " 'x': 120,\n",
       " 'z': 122}"
      ]
     },
     "execution_count": 17,
     "metadata": {},
     "output_type": "execute_result"
    }
   ],
   "source": [
    "# Solución\n",
    "D = {chr(k):k for k in range(ord('a'),ord('z')+1) if k%2 == 0}\n",
    "D"
   ]
  },
  {
   "cell_type": "markdown",
   "id": "direct-rocket",
   "metadata": {},
   "source": [
    "## Cadenas"
   ]
  },
  {
   "cell_type": "markdown",
   "id": "changing-excuse",
   "metadata": {},
   "source": [
    "### Consigue una cadena que tenga todos los nombres de los vehículos del diccionario `vehicles` separados por comas.\n",
    "\n",
    "Pista: Usa la función `join()`"
   ]
  },
  {
   "cell_type": "code",
   "execution_count": 18,
   "id": "technical-reservation",
   "metadata": {},
   "outputs": [
    {
     "data": {
      "text/plain": [
       "'Sedan,SUV,Pickup,Minivan,Van,Semi,Bicycle,Motorcycle'"
      ]
     },
     "execution_count": 18,
     "metadata": {},
     "output_type": "execute_result"
    }
   ],
   "source": [
    "# Solución\n",
    "','.join(vehicles.keys())"
   ]
  },
  {
   "cell_type": "markdown",
   "id": "incorporate-madison",
   "metadata": {},
   "source": [
    "### Genera una cadena con retornos de carro, de manera que se imprima como un poema, con la siguiente lista de frases.\n",
    "\n",
    "Pista: Usa la función `join()`"
   ]
  },
  {
   "cell_type": "code",
   "execution_count": 19,
   "id": "absent-coupon",
   "metadata": {},
   "outputs": [],
   "source": [
    "frases = ['Aquí la envidia y mentira',\n",
    "          'me tuvieron encerrrado.',\n",
    "          'Dichoso el humilde estado',\n",
    "          'del sabio que se retira',\n",
    "          'de aqueste mundo malvado.']"
   ]
  },
  {
   "cell_type": "code",
   "execution_count": 20,
   "id": "palestinian-tablet",
   "metadata": {},
   "outputs": [
    {
     "name": "stdout",
     "output_type": "stream",
     "text": [
      "Aquí la envidia y mentira\n",
      "me tuvieron encerrrado.\n",
      "Dichoso el humilde estado\n",
      "del sabio que se retira\n",
      "de aqueste mundo malvado.\n"
     ]
    }
   ],
   "source": [
    "# Solución\n",
    "print('\\n'.join(frases))"
   ]
  },
  {
   "cell_type": "markdown",
   "id": "revolutionary-provincial",
   "metadata": {},
   "source": [
    "### Convierte cadena con una fecha en formato americano 'AAAA-MM-DD' al formato 'DD/MM/AAAA'.\n",
    "\n",
    "Pista: Usa las funciones `split()` y `join()`"
   ]
  },
  {
   "cell_type": "code",
   "execution_count": 21,
   "id": "abandoned-latex",
   "metadata": {},
   "outputs": [
    {
     "name": "stdout",
     "output_type": "stream",
     "text": [
      "1 2 3\n"
     ]
    }
   ],
   "source": [
    "# Pista: la siguiente línea te puede facilitar la tarea.\n",
    "\n",
    "a, b, c = [1, 2, 3]\n",
    "print(a,b,c)"
   ]
  },
  {
   "cell_type": "code",
   "execution_count": 22,
   "id": "pressed-habitat",
   "metadata": {},
   "outputs": [
    {
     "data": {
      "text/plain": [
       "'01/04/2020'"
      ]
     },
     "execution_count": 22,
     "metadata": {},
     "output_type": "execute_result"
    }
   ],
   "source": [
    "# Solución\n",
    "fechaA = '2020-04-01'\n",
    "'/'.join(fechaA.split('-')[-1::-1])"
   ]
  },
  {
   "cell_type": "markdown",
   "id": "thermal-johnston",
   "metadata": {},
   "source": [
    "## Las funciones `dir()` y `help()` "
   ]
  },
  {
   "cell_type": "markdown",
   "id": "mental-particle",
   "metadata": {},
   "source": [
    "La función `dir()` devuelve información sobre los atributos y métodos de los objetos Python. Por ejemplo:"
   ]
  },
  {
   "cell_type": "code",
   "execution_count": 23,
   "id": "described-toolbox",
   "metadata": {},
   "outputs": [
    {
     "data": {
      "text/plain": [
       "['__add__',\n",
       " '__class__',\n",
       " '__contains__',\n",
       " '__delattr__',\n",
       " '__delitem__',\n",
       " '__dir__',\n",
       " '__doc__',\n",
       " '__eq__',\n",
       " '__format__',\n",
       " '__ge__',\n",
       " '__getattribute__',\n",
       " '__getitem__',\n",
       " '__gt__',\n",
       " '__hash__',\n",
       " '__iadd__',\n",
       " '__imul__',\n",
       " '__init__',\n",
       " '__init_subclass__',\n",
       " '__iter__',\n",
       " '__le__',\n",
       " '__len__',\n",
       " '__lt__',\n",
       " '__mul__',\n",
       " '__ne__',\n",
       " '__new__',\n",
       " '__reduce__',\n",
       " '__reduce_ex__',\n",
       " '__repr__',\n",
       " '__reversed__',\n",
       " '__rmul__',\n",
       " '__setattr__',\n",
       " '__setitem__',\n",
       " '__sizeof__',\n",
       " '__str__',\n",
       " '__subclasshook__',\n",
       " 'append',\n",
       " 'clear',\n",
       " 'copy',\n",
       " 'count',\n",
       " 'extend',\n",
       " 'index',\n",
       " 'insert',\n",
       " 'pop',\n",
       " 'remove',\n",
       " 'reverse',\n",
       " 'sort']"
      ]
     },
     "execution_count": 23,
     "metadata": {},
     "output_type": "execute_result"
    }
   ],
   "source": [
    "dir(list())"
   ]
  },
  {
   "cell_type": "markdown",
   "id": "corresponding-baltimore",
   "metadata": {},
   "source": [
    "Además la función `help()` nos da información acerca del objeto que le pasemos. Por ejemplo:"
   ]
  },
  {
   "cell_type": "code",
   "execution_count": 24,
   "id": "crude-pledge",
   "metadata": {},
   "outputs": [
    {
     "name": "stdout",
     "output_type": "stream",
     "text": [
      "Help on list object:\n",
      "\n",
      "class list(object)\n",
      " |  list(iterable=(), /)\n",
      " |  \n",
      " |  Built-in mutable sequence.\n",
      " |  \n",
      " |  If no argument is given, the constructor creates a new empty list.\n",
      " |  The argument must be an iterable if specified.\n",
      " |  \n",
      " |  Methods defined here:\n",
      " |  \n",
      " |  __add__(self, value, /)\n",
      " |      Return self+value.\n",
      " |  \n",
      " |  __contains__(self, key, /)\n",
      " |      Return key in self.\n",
      " |  \n",
      " |  __delitem__(self, key, /)\n",
      " |      Delete self[key].\n",
      " |  \n",
      " |  __eq__(self, value, /)\n",
      " |      Return self==value.\n",
      " |  \n",
      " |  __ge__(self, value, /)\n",
      " |      Return self>=value.\n",
      " |  \n",
      " |  __getattribute__(self, name, /)\n",
      " |      Return getattr(self, name).\n",
      " |  \n",
      " |  __getitem__(...)\n",
      " |      x.__getitem__(y) <==> x[y]\n",
      " |  \n",
      " |  __gt__(self, value, /)\n",
      " |      Return self>value.\n",
      " |  \n",
      " |  __iadd__(self, value, /)\n",
      " |      Implement self+=value.\n",
      " |  \n",
      " |  __imul__(self, value, /)\n",
      " |      Implement self*=value.\n",
      " |  \n",
      " |  __init__(self, /, *args, **kwargs)\n",
      " |      Initialize self.  See help(type(self)) for accurate signature.\n",
      " |  \n",
      " |  __iter__(self, /)\n",
      " |      Implement iter(self).\n",
      " |  \n",
      " |  __le__(self, value, /)\n",
      " |      Return self<=value.\n",
      " |  \n",
      " |  __len__(self, /)\n",
      " |      Return len(self).\n",
      " |  \n",
      " |  __lt__(self, value, /)\n",
      " |      Return self<value.\n",
      " |  \n",
      " |  __mul__(self, value, /)\n",
      " |      Return self*value.\n",
      " |  \n",
      " |  __ne__(self, value, /)\n",
      " |      Return self!=value.\n",
      " |  \n",
      " |  __repr__(self, /)\n",
      " |      Return repr(self).\n",
      " |  \n",
      " |  __reversed__(self, /)\n",
      " |      Return a reverse iterator over the list.\n",
      " |  \n",
      " |  __rmul__(self, value, /)\n",
      " |      Return value*self.\n",
      " |  \n",
      " |  __setitem__(self, key, value, /)\n",
      " |      Set self[key] to value.\n",
      " |  \n",
      " |  __sizeof__(self, /)\n",
      " |      Return the size of the list in memory, in bytes.\n",
      " |  \n",
      " |  append(self, object, /)\n",
      " |      Append object to the end of the list.\n",
      " |  \n",
      " |  clear(self, /)\n",
      " |      Remove all items from list.\n",
      " |  \n",
      " |  copy(self, /)\n",
      " |      Return a shallow copy of the list.\n",
      " |  \n",
      " |  count(self, value, /)\n",
      " |      Return number of occurrences of value.\n",
      " |  \n",
      " |  extend(self, iterable, /)\n",
      " |      Extend list by appending elements from the iterable.\n",
      " |  \n",
      " |  index(self, value, start=0, stop=9223372036854775807, /)\n",
      " |      Return first index of value.\n",
      " |      \n",
      " |      Raises ValueError if the value is not present.\n",
      " |  \n",
      " |  insert(self, index, object, /)\n",
      " |      Insert object before index.\n",
      " |  \n",
      " |  pop(self, index=-1, /)\n",
      " |      Remove and return item at index (default last).\n",
      " |      \n",
      " |      Raises IndexError if list is empty or index is out of range.\n",
      " |  \n",
      " |  remove(self, value, /)\n",
      " |      Remove first occurrence of value.\n",
      " |      \n",
      " |      Raises ValueError if the value is not present.\n",
      " |  \n",
      " |  reverse(self, /)\n",
      " |      Reverse *IN PLACE*.\n",
      " |  \n",
      " |  sort(self, /, *, key=None, reverse=False)\n",
      " |      Stable sort *IN PLACE*.\n",
      " |  \n",
      " |  ----------------------------------------------------------------------\n",
      " |  Static methods defined here:\n",
      " |  \n",
      " |  __new__(*args, **kwargs) from builtins.type\n",
      " |      Create and return a new object.  See help(type) for accurate signature.\n",
      " |  \n",
      " |  ----------------------------------------------------------------------\n",
      " |  Data and other attributes defined here:\n",
      " |  \n",
      " |  __hash__ = None\n",
      "\n"
     ]
    }
   ],
   "source": [
    "help(list())"
   ]
  },
  {
   "cell_type": "code",
   "execution_count": 25,
   "id": "suited-latin",
   "metadata": {},
   "outputs": [
    {
     "name": "stdout",
     "output_type": "stream",
     "text": [
      "Help on built-in function join:\n",
      "\n",
      "join(iterable, /) method of builtins.str instance\n",
      "    Concatenate any number of strings.\n",
      "    \n",
      "    The string whose method is called is inserted in between each given string.\n",
      "    The result is returned as a new string.\n",
      "    \n",
      "    Example: '.'.join(['ab', 'pq', 'rs']) -> 'ab.pq.rs'\n",
      "\n"
     ]
    }
   ],
   "source": [
    "help('.'.join)"
   ]
  },
  {
   "cell_type": "markdown",
   "id": "extreme-scanning",
   "metadata": {},
   "source": [
    "### Usa estas funciones para encontrar todos los métodos disponibles para cadenas."
   ]
  },
  {
   "cell_type": "code",
   "execution_count": 26,
   "id": "norman-kingdom",
   "metadata": {},
   "outputs": [
    {
     "name": "stdout",
     "output_type": "stream",
     "text": [
      "Help on class str in module builtins:\n",
      "\n",
      "class str(object)\n",
      " |  str(object='') -> str\n",
      " |  str(bytes_or_buffer[, encoding[, errors]]) -> str\n",
      " |  \n",
      " |  Create a new string object from the given object. If encoding or\n",
      " |  errors is specified, then the object must expose a data buffer\n",
      " |  that will be decoded using the given encoding and error handler.\n",
      " |  Otherwise, returns the result of object.__str__() (if defined)\n",
      " |  or repr(object).\n",
      " |  encoding defaults to sys.getdefaultencoding().\n",
      " |  errors defaults to 'strict'.\n",
      " |  \n",
      " |  Methods defined here:\n",
      " |  \n",
      " |  __add__(self, value, /)\n",
      " |      Return self+value.\n",
      " |  \n",
      " |  __contains__(self, key, /)\n",
      " |      Return key in self.\n",
      " |  \n",
      " |  __eq__(self, value, /)\n",
      " |      Return self==value.\n",
      " |  \n",
      " |  __format__(self, format_spec, /)\n",
      " |      Return a formatted version of the string as described by format_spec.\n",
      " |  \n",
      " |  __ge__(self, value, /)\n",
      " |      Return self>=value.\n",
      " |  \n",
      " |  __getattribute__(self, name, /)\n",
      " |      Return getattr(self, name).\n",
      " |  \n",
      " |  __getitem__(self, key, /)\n",
      " |      Return self[key].\n",
      " |  \n",
      " |  __getnewargs__(...)\n",
      " |  \n",
      " |  __gt__(self, value, /)\n",
      " |      Return self>value.\n",
      " |  \n",
      " |  __hash__(self, /)\n",
      " |      Return hash(self).\n",
      " |  \n",
      " |  __iter__(self, /)\n",
      " |      Implement iter(self).\n",
      " |  \n",
      " |  __le__(self, value, /)\n",
      " |      Return self<=value.\n",
      " |  \n",
      " |  __len__(self, /)\n",
      " |      Return len(self).\n",
      " |  \n",
      " |  __lt__(self, value, /)\n",
      " |      Return self<value.\n",
      " |  \n",
      " |  __mod__(self, value, /)\n",
      " |      Return self%value.\n",
      " |  \n",
      " |  __mul__(self, value, /)\n",
      " |      Return self*value.\n",
      " |  \n",
      " |  __ne__(self, value, /)\n",
      " |      Return self!=value.\n",
      " |  \n",
      " |  __repr__(self, /)\n",
      " |      Return repr(self).\n",
      " |  \n",
      " |  __rmod__(self, value, /)\n",
      " |      Return value%self.\n",
      " |  \n",
      " |  __rmul__(self, value, /)\n",
      " |      Return value*self.\n",
      " |  \n",
      " |  __sizeof__(self, /)\n",
      " |      Return the size of the string in memory, in bytes.\n",
      " |  \n",
      " |  __str__(self, /)\n",
      " |      Return str(self).\n",
      " |  \n",
      " |  capitalize(self, /)\n",
      " |      Return a capitalized version of the string.\n",
      " |      \n",
      " |      More specifically, make the first character have upper case and the rest lower\n",
      " |      case.\n",
      " |  \n",
      " |  casefold(self, /)\n",
      " |      Return a version of the string suitable for caseless comparisons.\n",
      " |  \n",
      " |  center(self, width, fillchar=' ', /)\n",
      " |      Return a centered string of length width.\n",
      " |      \n",
      " |      Padding is done using the specified fill character (default is a space).\n",
      " |  \n",
      " |  count(...)\n",
      " |      S.count(sub[, start[, end]]) -> int\n",
      " |      \n",
      " |      Return the number of non-overlapping occurrences of substring sub in\n",
      " |      string S[start:end].  Optional arguments start and end are\n",
      " |      interpreted as in slice notation.\n",
      " |  \n",
      " |  encode(self, /, encoding='utf-8', errors='strict')\n",
      " |      Encode the string using the codec registered for encoding.\n",
      " |      \n",
      " |      encoding\n",
      " |        The encoding in which to encode the string.\n",
      " |      errors\n",
      " |        The error handling scheme to use for encoding errors.\n",
      " |        The default is 'strict' meaning that encoding errors raise a\n",
      " |        UnicodeEncodeError.  Other possible values are 'ignore', 'replace' and\n",
      " |        'xmlcharrefreplace' as well as any other name registered with\n",
      " |        codecs.register_error that can handle UnicodeEncodeErrors.\n",
      " |  \n",
      " |  endswith(...)\n",
      " |      S.endswith(suffix[, start[, end]]) -> bool\n",
      " |      \n",
      " |      Return True if S ends with the specified suffix, False otherwise.\n",
      " |      With optional start, test S beginning at that position.\n",
      " |      With optional end, stop comparing S at that position.\n",
      " |      suffix can also be a tuple of strings to try.\n",
      " |  \n",
      " |  expandtabs(self, /, tabsize=8)\n",
      " |      Return a copy where all tab characters are expanded using spaces.\n",
      " |      \n",
      " |      If tabsize is not given, a tab size of 8 characters is assumed.\n",
      " |  \n",
      " |  find(...)\n",
      " |      S.find(sub[, start[, end]]) -> int\n",
      " |      \n",
      " |      Return the lowest index in S where substring sub is found,\n",
      " |      such that sub is contained within S[start:end].  Optional\n",
      " |      arguments start and end are interpreted as in slice notation.\n",
      " |      \n",
      " |      Return -1 on failure.\n",
      " |  \n",
      " |  format(...)\n",
      " |      S.format(*args, **kwargs) -> str\n",
      " |      \n",
      " |      Return a formatted version of S, using substitutions from args and kwargs.\n",
      " |      The substitutions are identified by braces ('{' and '}').\n",
      " |  \n",
      " |  format_map(...)\n",
      " |      S.format_map(mapping) -> str\n",
      " |      \n",
      " |      Return a formatted version of S, using substitutions from mapping.\n",
      " |      The substitutions are identified by braces ('{' and '}').\n",
      " |  \n",
      " |  index(...)\n",
      " |      S.index(sub[, start[, end]]) -> int\n",
      " |      \n",
      " |      Return the lowest index in S where substring sub is found, \n",
      " |      such that sub is contained within S[start:end].  Optional\n",
      " |      arguments start and end are interpreted as in slice notation.\n",
      " |      \n",
      " |      Raises ValueError when the substring is not found.\n",
      " |  \n",
      " |  isalnum(self, /)\n",
      " |      Return True if the string is an alpha-numeric string, False otherwise.\n",
      " |      \n",
      " |      A string is alpha-numeric if all characters in the string are alpha-numeric and\n",
      " |      there is at least one character in the string.\n",
      " |  \n",
      " |  isalpha(self, /)\n",
      " |      Return True if the string is an alphabetic string, False otherwise.\n",
      " |      \n",
      " |      A string is alphabetic if all characters in the string are alphabetic and there\n",
      " |      is at least one character in the string.\n",
      " |  \n",
      " |  isascii(self, /)\n",
      " |      Return True if all characters in the string are ASCII, False otherwise.\n",
      " |      \n",
      " |      ASCII characters have code points in the range U+0000-U+007F.\n",
      " |      Empty string is ASCII too.\n",
      " |  \n",
      " |  isdecimal(self, /)\n",
      " |      Return True if the string is a decimal string, False otherwise.\n",
      " |      \n",
      " |      A string is a decimal string if all characters in the string are decimal and\n",
      " |      there is at least one character in the string.\n",
      " |  \n",
      " |  isdigit(self, /)\n",
      " |      Return True if the string is a digit string, False otherwise.\n",
      " |      \n",
      " |      A string is a digit string if all characters in the string are digits and there\n",
      " |      is at least one character in the string.\n",
      " |  \n",
      " |  isidentifier(self, /)\n",
      " |      Return True if the string is a valid Python identifier, False otherwise.\n",
      " |      \n",
      " |      Use keyword.iskeyword() to test for reserved identifiers such as \"def\" and\n",
      " |      \"class\".\n",
      " |  \n",
      " |  islower(self, /)\n",
      " |      Return True if the string is a lowercase string, False otherwise.\n",
      " |      \n",
      " |      A string is lowercase if all cased characters in the string are lowercase and\n",
      " |      there is at least one cased character in the string.\n",
      " |  \n",
      " |  isnumeric(self, /)\n",
      " |      Return True if the string is a numeric string, False otherwise.\n",
      " |      \n",
      " |      A string is numeric if all characters in the string are numeric and there is at\n",
      " |      least one character in the string.\n",
      " |  \n",
      " |  isprintable(self, /)\n",
      " |      Return True if the string is printable, False otherwise.\n",
      " |      \n",
      " |      A string is printable if all of its characters are considered printable in\n",
      " |      repr() or if it is empty.\n",
      " |  \n",
      " |  isspace(self, /)\n",
      " |      Return True if the string is a whitespace string, False otherwise.\n",
      " |      \n",
      " |      A string is whitespace if all characters in the string are whitespace and there\n",
      " |      is at least one character in the string.\n",
      " |  \n",
      " |  istitle(self, /)\n",
      " |      Return True if the string is a title-cased string, False otherwise.\n",
      " |      \n",
      " |      In a title-cased string, upper- and title-case characters may only\n",
      " |      follow uncased characters and lowercase characters only cased ones.\n",
      " |  \n",
      " |  isupper(self, /)\n",
      " |      Return True if the string is an uppercase string, False otherwise.\n",
      " |      \n",
      " |      A string is uppercase if all cased characters in the string are uppercase and\n",
      " |      there is at least one cased character in the string.\n",
      " |  \n",
      " |  join(self, iterable, /)\n",
      " |      Concatenate any number of strings.\n",
      " |      \n",
      " |      The string whose method is called is inserted in between each given string.\n",
      " |      The result is returned as a new string.\n",
      " |      \n",
      " |      Example: '.'.join(['ab', 'pq', 'rs']) -> 'ab.pq.rs'\n",
      " |  \n",
      " |  ljust(self, width, fillchar=' ', /)\n",
      " |      Return a left-justified string of length width.\n",
      " |      \n",
      " |      Padding is done using the specified fill character (default is a space).\n",
      " |  \n",
      " |  lower(self, /)\n",
      " |      Return a copy of the string converted to lowercase.\n",
      " |  \n",
      " |  lstrip(self, chars=None, /)\n",
      " |      Return a copy of the string with leading whitespace removed.\n",
      " |      \n",
      " |      If chars is given and not None, remove characters in chars instead.\n",
      " |  \n",
      " |  partition(self, sep, /)\n",
      " |      Partition the string into three parts using the given separator.\n",
      " |      \n",
      " |      This will search for the separator in the string.  If the separator is found,\n",
      " |      returns a 3-tuple containing the part before the separator, the separator\n",
      " |      itself, and the part after it.\n",
      " |      \n",
      " |      If the separator is not found, returns a 3-tuple containing the original string\n",
      " |      and two empty strings.\n",
      " |  \n",
      " |  replace(self, old, new, count=-1, /)\n",
      " |      Return a copy with all occurrences of substring old replaced by new.\n",
      " |      \n",
      " |        count\n",
      " |          Maximum number of occurrences to replace.\n",
      " |          -1 (the default value) means replace all occurrences.\n",
      " |      \n",
      " |      If the optional argument count is given, only the first count occurrences are\n",
      " |      replaced.\n",
      " |  \n",
      " |  rfind(...)\n",
      " |      S.rfind(sub[, start[, end]]) -> int\n",
      " |      \n",
      " |      Return the highest index in S where substring sub is found,\n",
      " |      such that sub is contained within S[start:end].  Optional\n",
      " |      arguments start and end are interpreted as in slice notation.\n",
      " |      \n",
      " |      Return -1 on failure.\n",
      " |  \n",
      " |  rindex(...)\n",
      " |      S.rindex(sub[, start[, end]]) -> int\n",
      " |      \n",
      " |      Return the highest index in S where substring sub is found,\n",
      " |      such that sub is contained within S[start:end].  Optional\n",
      " |      arguments start and end are interpreted as in slice notation.\n",
      " |      \n",
      " |      Raises ValueError when the substring is not found.\n",
      " |  \n",
      " |  rjust(self, width, fillchar=' ', /)\n",
      " |      Return a right-justified string of length width.\n",
      " |      \n",
      " |      Padding is done using the specified fill character (default is a space).\n",
      " |  \n",
      " |  rpartition(self, sep, /)\n",
      " |      Partition the string into three parts using the given separator.\n",
      " |      \n",
      " |      This will search for the separator in the string, starting at the end. If\n",
      " |      the separator is found, returns a 3-tuple containing the part before the\n",
      " |      separator, the separator itself, and the part after it.\n",
      " |      \n",
      " |      If the separator is not found, returns a 3-tuple containing two empty strings\n",
      " |      and the original string.\n",
      " |  \n",
      " |  rsplit(self, /, sep=None, maxsplit=-1)\n",
      " |      Return a list of the words in the string, using sep as the delimiter string.\n",
      " |      \n",
      " |        sep\n",
      " |          The delimiter according which to split the string.\n",
      " |          None (the default value) means split according to any whitespace,\n",
      " |          and discard empty strings from the result.\n",
      " |        maxsplit\n",
      " |          Maximum number of splits to do.\n",
      " |          -1 (the default value) means no limit.\n",
      " |      \n",
      " |      Splits are done starting at the end of the string and working to the front.\n",
      " |  \n",
      " |  rstrip(self, chars=None, /)\n",
      " |      Return a copy of the string with trailing whitespace removed.\n",
      " |      \n",
      " |      If chars is given and not None, remove characters in chars instead.\n",
      " |  \n",
      " |  split(self, /, sep=None, maxsplit=-1)\n",
      " |      Return a list of the words in the string, using sep as the delimiter string.\n",
      " |      \n",
      " |      sep\n",
      " |        The delimiter according which to split the string.\n",
      " |        None (the default value) means split according to any whitespace,\n",
      " |        and discard empty strings from the result.\n",
      " |      maxsplit\n",
      " |        Maximum number of splits to do.\n",
      " |        -1 (the default value) means no limit.\n",
      " |  \n",
      " |  splitlines(self, /, keepends=False)\n",
      " |      Return a list of the lines in the string, breaking at line boundaries.\n",
      " |      \n",
      " |      Line breaks are not included in the resulting list unless keepends is given and\n",
      " |      true.\n",
      " |  \n",
      " |  startswith(...)\n",
      " |      S.startswith(prefix[, start[, end]]) -> bool\n",
      " |      \n",
      " |      Return True if S starts with the specified prefix, False otherwise.\n",
      " |      With optional start, test S beginning at that position.\n",
      " |      With optional end, stop comparing S at that position.\n",
      " |      prefix can also be a tuple of strings to try.\n",
      " |  \n",
      " |  strip(self, chars=None, /)\n",
      " |      Return a copy of the string with leading and trailing whitespace removed.\n",
      " |      \n",
      " |      If chars is given and not None, remove characters in chars instead.\n",
      " |  \n",
      " |  swapcase(self, /)\n",
      " |      Convert uppercase characters to lowercase and lowercase characters to uppercase.\n",
      " |  \n",
      " |  title(self, /)\n",
      " |      Return a version of the string where each word is titlecased.\n",
      " |      \n",
      " |      More specifically, words start with uppercased characters and all remaining\n",
      " |      cased characters have lower case.\n",
      " |  \n",
      " |  translate(self, table, /)\n",
      " |      Replace each character in the string using the given translation table.\n",
      " |      \n",
      " |        table\n",
      " |          Translation table, which must be a mapping of Unicode ordinals to\n",
      " |          Unicode ordinals, strings, or None.\n",
      " |      \n",
      " |      The table must implement lookup/indexing via __getitem__, for instance a\n",
      " |      dictionary or list.  If this operation raises LookupError, the character is\n",
      " |      left untouched.  Characters mapped to None are deleted.\n",
      " |  \n",
      " |  upper(self, /)\n",
      " |      Return a copy of the string converted to uppercase.\n",
      " |  \n",
      " |  zfill(self, width, /)\n",
      " |      Pad a numeric string with zeros on the left, to fill a field of the given width.\n",
      " |      \n",
      " |      The string is never truncated.\n",
      " |  \n",
      " |  ----------------------------------------------------------------------\n",
      " |  Static methods defined here:\n",
      " |  \n",
      " |  __new__(*args, **kwargs) from builtins.type\n",
      " |      Create and return a new object.  See help(type) for accurate signature.\n",
      " |  \n",
      " |  maketrans(x, y=None, z=None, /)\n",
      " |      Return a translation table usable for str.translate().\n",
      " |      \n",
      " |      If there is only one argument, it must be a dictionary mapping Unicode\n",
      " |      ordinals (integers) or characters to Unicode ordinals, strings or None.\n",
      " |      Character keys will be then converted to ordinals.\n",
      " |      If there are two arguments, they must be strings of equal length, and\n",
      " |      in the resulting dictionary, each character in x will be mapped to the\n",
      " |      character at the same position in y. If there is a third argument, it\n",
      " |      must be a string, whose characters will be mapped to None in the result.\n",
      "\n"
     ]
    }
   ],
   "source": [
    "# Solución\n",
    "dir(str())\n",
    "help(str())"
   ]
  },
  {
   "cell_type": "markdown",
   "id": "precious-school",
   "metadata": {},
   "source": [
    "### Usa las mismas funciones para pedir ayuda sobre la función `zip()`."
   ]
  },
  {
   "cell_type": "code",
   "execution_count": 27,
   "id": "interpreted-identity",
   "metadata": {},
   "outputs": [
    {
     "name": "stdout",
     "output_type": "stream",
     "text": [
      "Help on zip object:\n",
      "\n",
      "class zip(object)\n",
      " |  zip(*iterables) --> zip object\n",
      " |  \n",
      " |  Return a zip object whose .__next__() method returns a tuple where\n",
      " |  the i-th element comes from the i-th iterable argument.  The .__next__()\n",
      " |  method continues until the shortest iterable in the argument sequence\n",
      " |  is exhausted and then it raises StopIteration.\n",
      " |  \n",
      " |  Methods defined here:\n",
      " |  \n",
      " |  __getattribute__(self, name, /)\n",
      " |      Return getattr(self, name).\n",
      " |  \n",
      " |  __iter__(self, /)\n",
      " |      Implement iter(self).\n",
      " |  \n",
      " |  __next__(self, /)\n",
      " |      Implement next(self).\n",
      " |  \n",
      " |  __reduce__(...)\n",
      " |      Return state information for pickling.\n",
      " |  \n",
      " |  ----------------------------------------------------------------------\n",
      " |  Static methods defined here:\n",
      " |  \n",
      " |  __new__(*args, **kwargs) from builtins.type\n",
      " |      Create and return a new object.  See help(type) for accurate signature.\n",
      "\n"
     ]
    }
   ],
   "source": [
    "# Solución\n",
    "dir(zip())\n",
    "help(zip())"
   ]
  },
  {
   "cell_type": "markdown",
   "id": "utility-nickel",
   "metadata": {},
   "source": [
    "# Ejercicios de nivel intermedio"
   ]
  },
  {
   "cell_type": "markdown",
   "id": "passive-aviation",
   "metadata": {},
   "source": [
    "## Listas, diccionarios, conjuntos, tuplas y cadenas"
   ]
  },
  {
   "cell_type": "markdown",
   "id": "cooperative-ribbon",
   "metadata": {},
   "source": [
    "### Programa una función llamada `primos()` \n",
    "\n",
    "Esta función debe recibir un número y devolver una lista con los números primos que se encuentran entre 2 y ese número.\n",
    "\n",
    " Hazlo con bucles tradicionales y resuélvelo también con *list comprehensions*."
   ]
  },
  {
   "cell_type": "code",
   "execution_count": 28,
   "id": "helpful-damages",
   "metadata": {},
   "outputs": [
    {
     "name": "stdout",
     "output_type": "stream",
     "text": [
      "[3, 5, 7, 11, 13, 17, 19, 23, 29, 31, 37, 41, 43, 47, 53, 59, 61, 67, 71, 73, 79, 83, 89, 97]\n"
     ]
    }
   ],
   "source": [
    "# Solución tradicional\n",
    "def primos(a):\n",
    "    lista = list()\n",
    "    for k in range(2,a):\n",
    "        for j in range(2,k):\n",
    "            if k%j == 0 :\n",
    "                break\n",
    "            if j == k-1 :\n",
    "                lista.append(k)\n",
    "    return lista\n",
    "\n",
    "l= primos(100)\n",
    "print(l)"
   ]
  },
  {
   "cell_type": "code",
   "execution_count": 29,
   "id": "4024ae1f",
   "metadata": {},
   "outputs": [
    {
     "name": "stdout",
     "output_type": "stream",
     "text": [
      "[2, 3, 5, 7]\n"
     ]
    }
   ],
   "source": [
    "# Solución  con list comprehensions\n",
    "def primos(a):\n",
    "    return [x for x in range(2, a) if  all(x%y for y in range(2, x))]\n",
    "                                                \n",
    "lista = primos(10)\n",
    "print(lista)"
   ]
  },
  {
   "cell_type": "markdown",
   "id": "breeding-cloud",
   "metadata": {},
   "source": [
    "### Programa una función `lista_mayor_que()`\n",
    "\n",
    "Esta función debe recibir una lista de números y un número, y devolver una lista de booleanos indicando si cada número de la lista original es mayor estrictamente que dicho número. Por ejemplo:"
   ]
  },
  {
   "cell_type": "markdown",
   "id": "controversial-clear",
   "metadata": {},
   "source": [
    "`lista_mayor_que([1,2,3,4,5], 3)`\n",
    "\n",
    "devolvería la siguiente lista:\n",
    "\n",
    "`[False, False, False, True, True]`"
   ]
  },
  {
   "cell_type": "code",
   "execution_count": 30,
   "id": "registered-posting",
   "metadata": {},
   "outputs": [
    {
     "name": "stdout",
     "output_type": "stream",
     "text": [
      "[False, False, True, True, True, False, False]\n"
     ]
    }
   ],
   "source": [
    "# Solución\n",
    "def lista_mayor_que(l, n):\n",
    "    return [k>n for  k in l]\n",
    "\n",
    "lista=(1,2,4,5,12,-1,3)\n",
    "print(lista_mayor_que(lista,3))"
   ]
  },
  {
   "cell_type": "markdown",
   "id": "differential-messenger",
   "metadata": {},
   "source": [
    "### Programa una función llamada `is_valid_zipcode()`\n",
    "Esta función recibe una cadena y devuelve un *booleano* indicando si la cadena es un código postal válido. Consideraremos que una cadena es un código postal válido si está compuesta de 5 dígitos."
   ]
  },
  {
   "cell_type": "code",
   "execution_count": 31,
   "id": "approved-veteran",
   "metadata": {},
   "outputs": [
    {
     "name": "stdout",
     "output_type": "stream",
     "text": [
      "True\n"
     ]
    }
   ],
   "source": [
    "# Solución\n",
    "def  is_valid_zipcode(n):\n",
    "    return isinstance(n, int) and len(str(n))==5\n",
    "\n",
    "print(is_valid_zipcode(34555))"
   ]
  },
  {
   "cell_type": "markdown",
   "id": "intelligent-juice",
   "metadata": {},
   "source": [
    "### Programa una función llamada `word_search` \n",
    "Esta función toma como argumentos una lista de cadenas y una cadena con una palabra a buscar, y devuelve la lista de los índices de las cadenas que contienen dicha palabra, independientemente de que haya mayúsculas o minúsculas. Hay que buscar palabras enteras, no partes de otras palabras. En la lista de cadenas puede haber caracteres no alfabéticos (símbolos) tras alguna palabra y eso no debe impedir que se detecte. \n",
    "\n",
    "NOTA: puedes asumir que los únicos símbolos que aparecen son el punto y la coma."
   ]
  },
  {
   "cell_type": "code",
   "execution_count": 32,
   "id": "parliamentary-rates",
   "metadata": {},
   "outputs": [],
   "source": [
    "lista = [\"No por mucho madrugar amanece más temprano.\",\n",
    "         \"Ellos se compraron un coche\",\n",
    "         \"Sopor,\",\n",
    "         \"siempre insoportable\"]"
   ]
  },
  {
   "cell_type": "code",
   "execution_count": 33,
   "id": "c45a8922",
   "metadata": {},
   "outputs": [
    {
     "name": "stdout",
     "output_type": "stream",
     "text": [
      "[0]\n"
     ]
    }
   ],
   "source": [
    "# Solución\n",
    "def word_search(l,p):\n",
    "    return [i for i,e in enumerate(l) for k in e.strip('.,').split() if k.lower()==p.lower()]\n",
    "        \n",
    "print(word_search(lista,'temprAno'))      \n"
   ]
  },
  {
   "cell_type": "markdown",
   "id": "featured-october",
   "metadata": {},
   "source": [
    "### Programa una función llamada `word_count()`\n",
    "\n",
    "Esta función debe recibir como parámetro la ruta a un fichero de texto, compuesto por diferentes líneas que contienen palabras sin signos de puntuación, y devolverá el número de palabras que contiene el fichero."
   ]
  },
  {
   "cell_type": "code",
   "execution_count": 34,
   "id": "removed-governor",
   "metadata": {},
   "outputs": [
    {
     "ename": "FileNotFoundError",
     "evalue": "[Errno 2] No such file or directory: 'pruebas.txt'",
     "output_type": "error",
     "traceback": [
      "\u001b[0;31m---------------------------------------------------------------------------\u001b[0m",
      "\u001b[0;31mFileNotFoundError\u001b[0m                         Traceback (most recent call last)",
      "\u001b[0;32m/tmp/ipykernel_3711/2264838918.py\u001b[0m in \u001b[0;36m<module>\u001b[0;34m\u001b[0m\n\u001b[1;32m      8\u001b[0m         \u001b[0;32mreturn\u001b[0m \u001b[0mcontador\u001b[0m\u001b[0;34m\u001b[0m\u001b[0;34m\u001b[0m\u001b[0m\n\u001b[1;32m      9\u001b[0m \u001b[0;34m\u001b[0m\u001b[0m\n\u001b[0;32m---> 10\u001b[0;31m \u001b[0mprint\u001b[0m\u001b[0;34m(\u001b[0m\u001b[0mword_count\u001b[0m\u001b[0;34m(\u001b[0m\u001b[0;34m'pruebas.txt'\u001b[0m\u001b[0;34m)\u001b[0m\u001b[0;34m)\u001b[0m\u001b[0;34m\u001b[0m\u001b[0;34m\u001b[0m\u001b[0m\n\u001b[0m",
      "\u001b[0;32m/tmp/ipykernel_3711/2264838918.py\u001b[0m in \u001b[0;36mword_count\u001b[0;34m(a)\u001b[0m\n\u001b[1;32m      1\u001b[0m \u001b[0;31m# Solución\u001b[0m\u001b[0;34m\u001b[0m\u001b[0;34m\u001b[0m\u001b[0;34m\u001b[0m\u001b[0m\n\u001b[1;32m      2\u001b[0m \u001b[0;32mdef\u001b[0m \u001b[0mword_count\u001b[0m\u001b[0;34m(\u001b[0m\u001b[0ma\u001b[0m\u001b[0;34m)\u001b[0m\u001b[0;34m:\u001b[0m\u001b[0;34m\u001b[0m\u001b[0;34m\u001b[0m\u001b[0m\n\u001b[0;32m----> 3\u001b[0;31m     \u001b[0;32mwith\u001b[0m \u001b[0mopen\u001b[0m\u001b[0;34m(\u001b[0m\u001b[0ma\u001b[0m\u001b[0;34m)\u001b[0m \u001b[0;32mas\u001b[0m \u001b[0mf\u001b[0m\u001b[0;34m:\u001b[0m\u001b[0;34m\u001b[0m\u001b[0;34m\u001b[0m\u001b[0m\n\u001b[0m\u001b[1;32m      4\u001b[0m         \u001b[0mcontador\u001b[0m \u001b[0;34m=\u001b[0m \u001b[0;36m0\u001b[0m\u001b[0;34m\u001b[0m\u001b[0;34m\u001b[0m\u001b[0m\n\u001b[1;32m      5\u001b[0m         \u001b[0mdata\u001b[0m \u001b[0;34m=\u001b[0m \u001b[0mf\u001b[0m\u001b[0;34m.\u001b[0m\u001b[0mreadlines\u001b[0m\u001b[0;34m(\u001b[0m\u001b[0;34m)\u001b[0m\u001b[0;34m\u001b[0m\u001b[0;34m\u001b[0m\u001b[0m\n",
      "\u001b[0;31mFileNotFoundError\u001b[0m: [Errno 2] No such file or directory: 'pruebas.txt'"
     ]
    }
   ],
   "source": [
    "# Solución\n",
    "def word_count(a):\n",
    "    with open(a) as f:\n",
    "        contador = 0\n",
    "        data = f.readlines()\n",
    "        for l in data:\n",
    "            contador+= len(l.split())\n",
    "        return contador\n",
    "        \n",
    "print(word_count('pruebas.txt'))"
   ]
  },
  {
   "cell_type": "markdown",
   "id": "packed-scene",
   "metadata": {},
   "source": [
    "### Convierte una lista que contiene listas (bidimensional) en una lista plana.\n",
    "\n",
    "Hazlo usando una *list comprehension*"
   ]
  },
  {
   "cell_type": "code",
   "execution_count": null,
   "id": "pretty-wealth",
   "metadata": {},
   "outputs": [],
   "source": [
    "listas = [[1,2,3],[4,5,6]]"
   ]
  },
  {
   "cell_type": "code",
   "execution_count": null,
   "id": "ca2b6867",
   "metadata": {},
   "outputs": [],
   "source": [
    "# Solución\n",
    "l= [k for l in listas for k in l]\n",
    "l"
   ]
  },
  {
   "cell_type": "markdown",
   "id": "general-kazakhstan",
   "metadata": {},
   "source": [
    "### Programa una función llamada `unique_word_count()` \n",
    "Esta función debe recibir como parámetro la ruta a un fichero de texto, compuesto por diferentes líneas que contienen palabras sin signos de puntuación, y devolver una lista con todas las palabras diferentes que contiene el fichero ordenadas alfabéticamente (no tengas en cuenta que las tildes se ordenan incorrectamente), independientemente de que haya mayúsculas o minúsculas."
   ]
  },
  {
   "cell_type": "code",
   "execution_count": null,
   "id": "domestic-azerbaijan",
   "metadata": {},
   "outputs": [],
   "source": [
    "# Solución\n",
    "def unique_word_count(a):\n",
    "    with open(a) as f:\n",
    "        data = f.readlines()\n",
    "        l=list()\n",
    "        for linea in data:\n",
    "            for palabra in linea.lower().split():\n",
    "                if not palabra in l:\n",
    "                    l.append(palabra)\n",
    "        return sorted(l)\n",
    "\n",
    "print(unique_word_count('pruebas.txt'))"
   ]
  },
  {
   "cell_type": "markdown",
   "id": "056dc67e",
   "metadata": {},
   "source": [
    "### Escribe una función llamada `capital_letter_count()`\n",
    "Esta función debe recibir como parámetro la ruta a un fichero de texto, compuesto por diferentes líneas que contienen palabras sin signos de puntuación, y devolver devuelve una lista de tuplas `(carácter, apariciones)` con las tuplas ordenadas alfabéticamente (no tengas en cuenta que las tildes se ordenan incorrectamente)."
   ]
  },
  {
   "cell_type": "code",
   "execution_count": null,
   "id": "c390ba01",
   "metadata": {},
   "outputs": [],
   "source": [
    "# Solución\n",
    "def capital_letter_count(a):\n",
    "    with open(a) as f:\n",
    "        data = f.readlines()\n",
    "        D={}\n",
    "        n=0\n",
    "        for linea in data:\n",
    "            for letra in linea.replace(\" \",\"\").lower():\n",
    "                if letra in D:\n",
    "                    D[letra] += 1\n",
    "                else:\n",
    "                    D[letra] = 1\n",
    "        return sorted([(v,k) for v,k in D.items()])\n",
    "\n",
    "print(capital_letter_count('pruebas.txt'))\n"
   ]
  },
  {
   "cell_type": "code",
   "execution_count": null,
   "id": "af08d618",
   "metadata": {},
   "outputs": [],
   "source": []
  }
 ],
 "metadata": {
  "kernelspec": {
   "display_name": "Python 3 (ipykernel)",
   "language": "python",
   "name": "python3"
  },
  "language_info": {
   "codemirror_mode": {
    "name": "ipython",
    "version": 3
   },
   "file_extension": ".py",
   "mimetype": "text/x-python",
   "name": "python",
   "nbconvert_exporter": "python",
   "pygments_lexer": "ipython3",
   "version": "3.7.12"
  },
  "toc": {
   "base_numbering": 1,
   "nav_menu": {},
   "number_sections": true,
   "sideBar": true,
   "skip_h1_title": false,
   "title_cell": "Tabla de contenidos",
   "title_sidebar": "Contents",
   "toc_cell": true,
   "toc_position": {
    "height": "calc(100% - 180px)",
    "left": "10px",
    "top": "150px",
    "width": "462.35px"
   },
   "toc_section_display": true,
   "toc_window_display": true
  }
 },
 "nbformat": 4,
 "nbformat_minor": 5
}
