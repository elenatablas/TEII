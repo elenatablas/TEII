{
 "cells": [
  {
   "cell_type": "markdown",
   "metadata": {
    "toc": true
   },
   "source": [
    "<h1>Tabla de contenidos<span class=\"tocSkip\"></span></h1>\n",
    "<div class=\"toc\"><ul class=\"toc-item\"><li><span><a href=\"#Manipulación-de-datos-con-Pandas\" data-toc-modified-id=\"Manipulación-de-datos-con-Pandas-1\"><span class=\"toc-item-num\">1&nbsp;&nbsp;</span>Manipulación de datos con Pandas</a></span><ul class=\"toc-item\"><li><span><a href=\"#Introducción-a-los-objetos-de-Pandas\" data-toc-modified-id=\"Introducción-a-los-objetos-de-Pandas-1.1\"><span class=\"toc-item-num\">1.1&nbsp;&nbsp;</span>Introducción a los objetos de Pandas</a></span><ul class=\"toc-item\"><li><span><a href=\"#El-objeto-Series\" data-toc-modified-id=\"El-objeto-Series-1.1.1\"><span class=\"toc-item-num\">1.1.1&nbsp;&nbsp;</span>El objeto <code>Series</code></a></span><ul class=\"toc-item\"><li><span><a href=\"#El-objeto-Series-como-un-array-de-NumPy-generalizado\" data-toc-modified-id=\"El-objeto-Series-como-un-array-de-NumPy-generalizado-1.1.1.1\"><span class=\"toc-item-num\">1.1.1.1&nbsp;&nbsp;</span>El objeto <code>Series</code> como un array de NumPy generalizado</a></span></li><li><span><a href=\"#El-objeto-Series-como-un-diccionario-especializado\" data-toc-modified-id=\"El-objeto-Series-como-un-diccionario-especializado-1.1.1.2\"><span class=\"toc-item-num\">1.1.1.2&nbsp;&nbsp;</span>El objeto <code>Series</code> como un diccionario especializado</a></span></li><li><span><a href=\"#Cómo-construir-objetos-Series\" data-toc-modified-id=\"Cómo-construir-objetos-Series-1.1.1.3\"><span class=\"toc-item-num\">1.1.1.3&nbsp;&nbsp;</span>Cómo construir objetos <code>Series</code></a></span></li></ul></li><li><span><a href=\"#El-objeto-DataFrame\" data-toc-modified-id=\"El-objeto-DataFrame-1.1.2\"><span class=\"toc-item-num\">1.1.2&nbsp;&nbsp;</span>El objeto <code>DataFrame</code></a></span><ul class=\"toc-item\"><li><span><a href=\"#DataFrame-como-un-array-de-NumPy-generalizado\" data-toc-modified-id=\"DataFrame-como-un-array-de-NumPy-generalizado-1.1.2.1\"><span class=\"toc-item-num\">1.1.2.1&nbsp;&nbsp;</span><code>DataFrame</code> como un array de NumPy generalizado</a></span></li><li><span><a href=\"#DataFrame-como-un-diccionario-especializado\" data-toc-modified-id=\"DataFrame-como-un-diccionario-especializado-1.1.2.2\"><span class=\"toc-item-num\">1.1.2.2&nbsp;&nbsp;</span><code>DataFrame</code> como un diccionario especializado</a></span></li><li><span><a href=\"#Cómo-construir-objetos-DataFrame\" data-toc-modified-id=\"Cómo-construir-objetos-DataFrame-1.1.2.3\"><span class=\"toc-item-num\">1.1.2.3&nbsp;&nbsp;</span>Cómo construir objetos <code>DataFrame</code></a></span></li></ul></li><li><span><a href=\"#El-objeto-Index\" data-toc-modified-id=\"El-objeto-Index-1.1.3\"><span class=\"toc-item-num\">1.1.3&nbsp;&nbsp;</span>El objeto <code>Index</code></a></span><ul class=\"toc-item\"><li><span><a href=\"#El-índice-como-un-array-inmutable\" data-toc-modified-id=\"El-índice-como-un-array-inmutable-1.1.3.1\"><span class=\"toc-item-num\">1.1.3.1&nbsp;&nbsp;</span>El índice como un array inmutable</a></span></li></ul></li></ul></li><li><span><a href=\"#Indexación-y-selección-de-datos:-loc-e-iloc\" data-toc-modified-id=\"Indexación-y-selección-de-datos:-loc-e-iloc-1.2\"><span class=\"toc-item-num\">1.2&nbsp;&nbsp;</span>Indexación y selección de datos: <code>loc</code> e <code>iloc</code></a></span><ul class=\"toc-item\"><li><span><a href=\"#Selección-de-datos-en-DataFrame\" data-toc-modified-id=\"Selección-de-datos-en-DataFrame-1.2.1\"><span class=\"toc-item-num\">1.2.1&nbsp;&nbsp;</span>Selección de datos en DataFrame</a></span><ul class=\"toc-item\"><li><span><a href=\"#Convenciones-adicionales-de-indexación\" data-toc-modified-id=\"Convenciones-adicionales-de-indexación-1.2.1.1\"><span class=\"toc-item-num\">1.2.1.1&nbsp;&nbsp;</span>Convenciones adicionales de indexación</a></span></li></ul></li></ul></li><li><span><a href=\"#Operando-con-datos-en-Pandas\" data-toc-modified-id=\"Operando-con-datos-en-Pandas-1.3\"><span class=\"toc-item-num\">1.3&nbsp;&nbsp;</span>Operando con datos en Pandas</a></span><ul class=\"toc-item\"><li><span><a href=\"#Preservación-del-índice-en-las-Ufuncs\" data-toc-modified-id=\"Preservación-del-índice-en-las-Ufuncs-1.3.1\"><span class=\"toc-item-num\">1.3.1&nbsp;&nbsp;</span>Preservación del índice en las Ufuncs</a></span></li><li><span><a href=\"#Ufuncs:-Operaciones-entre-DataFrame-y-Series\" data-toc-modified-id=\"Ufuncs:-Operaciones-entre-DataFrame-y-Series-1.3.2\"><span class=\"toc-item-num\">1.3.2&nbsp;&nbsp;</span>Ufuncs: Operaciones entre DataFrame y Series</a></span></li></ul></li><li><span><a href=\"#NaN-y-None-en-Pandas\" data-toc-modified-id=\"NaN-y-None-en-Pandas-1.4\"><span class=\"toc-item-num\">1.4&nbsp;&nbsp;</span>NaN y None en Pandas</a></span></li><li><span><a href=\"#Agregación-y-agrupamiento\" data-toc-modified-id=\"Agregación-y-agrupamiento-1.5\"><span class=\"toc-item-num\">1.5&nbsp;&nbsp;</span>Agregación y agrupamiento</a></span></li><li><span><a href=\"#Agregación-simple-con-Pandas\" data-toc-modified-id=\"Agregación-simple-con-Pandas-1.6\"><span class=\"toc-item-num\">1.6&nbsp;&nbsp;</span>Agregación simple con Pandas</a></span><ul class=\"toc-item\"><li><span><a href=\"#GroupBy:-Dividir,-aplicar,-combinar\" data-toc-modified-id=\"GroupBy:-Dividir,-aplicar,-combinar-1.6.1\"><span class=\"toc-item-num\">1.6.1&nbsp;&nbsp;</span>GroupBy: Dividir, aplicar, combinar</a></span></li><li><span><a href=\"#El-objeto-GroupBy\" data-toc-modified-id=\"El-objeto-GroupBy-1.6.2\"><span class=\"toc-item-num\">1.6.2&nbsp;&nbsp;</span>El objeto <code>GroupBy</code></a></span></li><li><span><a href=\"#Agregar,-filtrar,-transformar,-aplicar\" data-toc-modified-id=\"Agregar,-filtrar,-transformar,-aplicar-1.6.3\"><span class=\"toc-item-num\">1.6.3&nbsp;&nbsp;</span>Agregar, filtrar, transformar, aplicar</a></span><ul class=\"toc-item\"><li><span><a href=\"#El-método-aggregate()\" data-toc-modified-id=\"El-método-aggregate()-1.6.3.1\"><span class=\"toc-item-num\">1.6.3.1&nbsp;&nbsp;</span>El método <code>aggregate()</code></a></span></li><li><span><a href=\"#El-método-filter()\" data-toc-modified-id=\"El-método-filter()-1.6.3.2\"><span class=\"toc-item-num\">1.6.3.2&nbsp;&nbsp;</span>El método <code>filter()</code></a></span></li><li><span><a href=\"#El-método-transform()\" data-toc-modified-id=\"El-método-transform()-1.6.3.3\"><span class=\"toc-item-num\">1.6.3.3&nbsp;&nbsp;</span>El método <code>transform()</code></a></span></li><li><span><a href=\"#El-método-apply()\" data-toc-modified-id=\"El-método-apply()-1.6.3.4\"><span class=\"toc-item-num\">1.6.3.4&nbsp;&nbsp;</span>El método <code>apply()</code></a></span></li></ul></li></ul></li></ul></li><li><span><a href=\"#Apéndice\" data-toc-modified-id=\"Apéndice-2\"><span class=\"toc-item-num\">2&nbsp;&nbsp;</span>Apéndice</a></span><ul class=\"toc-item\"><li><span><a href=\"#Creación-de-índices-múltiples\" data-toc-modified-id=\"Creación-de-índices-múltiples-2.1\"><span class=\"toc-item-num\">2.1&nbsp;&nbsp;</span>Creación de índices múltiples</a></span><ul class=\"toc-item\"><li><span><a href=\"#Constructores-explícitos-de-índices-múltiples\" data-toc-modified-id=\"Constructores-explícitos-de-índices-múltiples-2.1.1\"><span class=\"toc-item-num\">2.1.1&nbsp;&nbsp;</span>Constructores explícitos de índices múltiples</a></span></li></ul></li></ul></li></ul></div>"
   ]
  },
  {
   "cell_type": "markdown",
   "metadata": {},
   "source": [
    "# Manipulación de datos con Pandas"
   ]
  },
  {
   "cell_type": "markdown",
   "metadata": {},
   "source": [
    "En el notebook anterior, profundizamos en los detalles de NumPy y su objeto `ndarray`, que proporciona un almacenamiento y manipulación eficiente de arrays tipados en Python.\n",
    "En este notebook, vamos a examinar en detalle las estructuras de datos proporcionadas por la biblioteca Pandas.\n",
    "Pandas es un paquete más reciente construido sobre NumPy, y proporciona una implementación eficiente de un `DataFrame`.\n",
    "Los `DataFrame` son esencialmente arrays multidimensionales con etiquetas de filas y columnas adjuntas, y a menudo con tipos heterogéneos y la posibilidad de indicar que un dato falta.\n",
    "Además de ofrecer una interfaz de almacenamiento conveniente para los datos etiquetados, Pandas implementa una serie de poderosas operaciones sobre los datos del `DataFrame`. Estas operaciones pueden ser familiares a aquellos de nosotros que hayamos trabajado con bases de datos y hojas de cálculo.\n",
    "\n",
    "Como hemos visto, la estructura de datos `ndarray` de NumPy proporciona características esenciales para datos limpios y bien organizados que se ven normalmente en las tareas de cálculo numérico.\n",
    "Aunque sirve muy bien para este propósito, sus limitaciones se hacen evidentes cuando necesitamos más flexibilidad (por ejemplo, adjuntar etiquetas a los datos, trabajar con datos que faltan, etc.) para analizar los datos menos estructurados disponibles en muchas formas en el mundo que nos rodea.\n",
    "Pandas, y en particular sus objetos `Series` y `DataFrame`, se basa en la estructura de arrays de NumPy y proporciona un acceso eficiente a este tipo de tareas de \"manipulación de datos\".\n",
    "\n",
    "En este notebook, nos centraremos en la mecánica del uso de `Series`, `DataFrame` y estructuras relacionadas de forma efectiva. Utilizaremos ejemplos extraídos de conjuntos de datos reales a titulo ilustrativo."
   ]
  },
  {
   "cell_type": "markdown",
   "metadata": {},
   "source": [
    "Para instalar Pandas simplemente hay que usar `pip`, pero si ya lo tenemos instalado, solo hay que importarlo."
   ]
  },
  {
   "cell_type": "code",
   "execution_count": null,
   "metadata": {},
   "outputs": [],
   "source": [
    "import pandas\n",
    "pandas.__version__"
   ]
  },
  {
   "cell_type": "markdown",
   "metadata": {},
   "source": [
    "Al igual que NumPy se suele usar con el alias `np`, lo común es importar Pandas con el alias `pd`:"
   ]
  },
  {
   "cell_type": "code",
   "execution_count": null,
   "metadata": {},
   "outputs": [],
   "source": [
    "import pandas as pd"
   ]
  },
  {
   "cell_type": "markdown",
   "metadata": {},
   "source": [
    "## Introducción a los objetos de Pandas"
   ]
  },
  {
   "cell_type": "markdown",
   "metadata": {},
   "source": [
    "A un nivel muy básico, los objetos de Pandas pueden considerarse como versiones mejoradas de los arrays estructurados de NumPy en los que las filas y columnas se identifican con etiquetas en lugar de simples índices enteros.\n",
    "Como veremos a lo largo de este notebook, Pandas proporciona una gran cantidad de herramientas, métodos y funcionalidades útiles sobre las estructuras de datos básicas, pero casi todo lo que sigue requerirá una comprensión de lo que son estas estructuras. Por lo tanto, antes de seguir adelante, vamos a introducir estas tres estructuras de datos fundamentales de Pandas: `Series`, `DataFrame` e `Index`.\n",
    "\n",
    "Comenzaremos importando NumPy y Pandas."
   ]
  },
  {
   "cell_type": "code",
   "execution_count": null,
   "metadata": {},
   "outputs": [],
   "source": [
    "import numpy as np\n",
    "import pandas as pd"
   ]
  },
  {
   "cell_type": "markdown",
   "metadata": {},
   "source": [
    "### El objeto `Series`\n",
    "\n",
    "Una serie en Pandas es un array unidimensional de datos indexados. Puede crearse a partir de una lista como puedes ver a continuación:"
   ]
  },
  {
   "cell_type": "code",
   "execution_count": null,
   "metadata": {},
   "outputs": [],
   "source": [
    "data = pd.Series([0.25, 0.5, 0.75, 1.0])\n",
    "data"
   ]
  },
  {
   "cell_type": "markdown",
   "metadata": {},
   "source": [
    "Como vemos en la salida, la serie contiene tanto una secuencia de valores como una secuencia de índices, a los que podemos acceder con los atributos `values` e `index` respectivamente.\n",
    "Los `values` son simplemente una matriz NumPy familiar:"
   ]
  },
  {
   "cell_type": "code",
   "execution_count": null,
   "metadata": {},
   "outputs": [],
   "source": [
    "data.values"
   ]
  },
  {
   "cell_type": "markdown",
   "metadata": {},
   "source": [
    "El índice es un objeto tipo array del tipo `pd.Index`, del que hablaremos con más detalle en breve."
   ]
  },
  {
   "cell_type": "code",
   "execution_count": null,
   "metadata": {},
   "outputs": [],
   "source": [
    "data.index"
   ]
  },
  {
   "cell_type": "markdown",
   "metadata": {},
   "source": [
    "Al igual que con un array de NumPy, se puede acceder a los datos por el índice asociado mediante la conocida notación de corchetes de Python:"
   ]
  },
  {
   "cell_type": "code",
   "execution_count": null,
   "metadata": {},
   "outputs": [],
   "source": [
    "data[1]"
   ]
  },
  {
   "cell_type": "code",
   "execution_count": null,
   "metadata": {},
   "outputs": [],
   "source": [
    "data[1:3]"
   ]
  },
  {
   "cell_type": "markdown",
   "metadata": {},
   "source": [
    "Sin embargo, como veremos, la `Series` de Pandas es mucho más general y flexible que el array unidimensional de NumPy que emula."
   ]
  },
  {
   "cell_type": "markdown",
   "metadata": {},
   "source": [
    "#### El objeto `Series` como un array de NumPy generalizado"
   ]
  },
  {
   "cell_type": "markdown",
   "metadata": {},
   "source": [
    "Por lo que hemos visto hasta ahora, puede parecer que el objeto `Series` es básicamente intercambiable con un array unidimensional de NumPy. La diferencia esencial es la presencia del índice: mientras que el array de Numpy tiene un índice entero *implícitamente definido* utilizado para acceder a los valores, el objeto `Series` de Pandas tiene un índice *explícitamente definido* asociado a los valores.\n",
    "\n",
    "Esta definición explícita del índice proporciona al objeto `Series` capacidades adicionales. Por ejemplo, el índice no tiene por qué ser un entero, sino que puede estar formado por valores de cualquier tipo que se desee.\n",
    "Por ejemplo, si lo deseamos, podemos utilizar cadenas como índice:"
   ]
  },
  {
   "cell_type": "code",
   "execution_count": null,
   "metadata": {},
   "outputs": [],
   "source": [
    "data = pd.Series([0.25, 0.5, 0.75, 1.0],\n",
    "                 index=['a', 'b', 'c', 'd'])\n",
    "data"
   ]
  },
  {
   "cell_type": "markdown",
   "metadata": {},
   "source": [
    "Y el acceso es como se esperaría:"
   ]
  },
  {
   "cell_type": "code",
   "execution_count": null,
   "metadata": {},
   "outputs": [],
   "source": [
    "data['b']"
   ]
  },
  {
   "cell_type": "markdown",
   "metadata": {},
   "source": [
    "Incluso podemos usar índices no contiguos o no secuenciales:"
   ]
  },
  {
   "cell_type": "code",
   "execution_count": null,
   "metadata": {},
   "outputs": [],
   "source": [
    "data = pd.Series([0.25, 0.5, 0.75, 1.0],\n",
    "                 index=[2, 5, 3, 7])\n",
    "data"
   ]
  },
  {
   "cell_type": "code",
   "execution_count": null,
   "metadata": {},
   "outputs": [],
   "source": [
    "data[5]"
   ]
  },
  {
   "cell_type": "markdown",
   "metadata": {},
   "source": [
    "#### El objeto `Series` como un diccionario especializado\n",
    "\n",
    "De esta manera, se puede pensar en una `Series` de Pandas como una especialización de un diccionario de Python.\n",
    "Un diccionario es una estructura que asigna claves arbitrarias a un conjunto de valores arbitrarios, y una `Series` es una estructura que asigna claves tipadas a un conjunto de valores tipados.\n",
    "Este tipado es importante: al igual que el código compilado para un tipo específico que hay detrás de un array de NumPy lo hace más eficiente que una lista de Python para ciertas operaciones, la información de tipo de una `Series` de Pandas la hace mucho más eficiente que los diccionarios de Python para ciertas operaciones.\n",
    "\n",
    "La analogía entre `Series` y diccionario se puede hacer aún más clara construyendo un objeto `Series` directamente desde un diccionario de Python:"
   ]
  },
  {
   "cell_type": "code",
   "execution_count": null,
   "metadata": {},
   "outputs": [],
   "source": [
    "population_dict = {'California': 38332521,\n",
    "                   'Texas': 26448193,\n",
    "                   'New York': 19651127,\n",
    "                   'Florida': 19552860,\n",
    "                   'Illinois': 12882135}\n",
    "population = pd.Series(population_dict)\n",
    "population"
   ]
  },
  {
   "cell_type": "markdown",
   "metadata": {},
   "source": [
    "Por defecto, se creará una serie donde el índice se extrae de las claves ordenadas.\n",
    "A partir de aquí, se puede realizar el típico acceso a los elementos de estilo diccionario:"
   ]
  },
  {
   "cell_type": "code",
   "execution_count": null,
   "metadata": {},
   "outputs": [],
   "source": [
    "population['California']"
   ]
  },
  {
   "cell_type": "markdown",
   "metadata": {},
   "source": [
    "Sin embargo, a diferencia de un diccionario, `Series` también admite operaciones de tipo array, como el slicing:"
   ]
  },
  {
   "cell_type": "code",
   "execution_count": null,
   "metadata": {},
   "outputs": [],
   "source": [
    "population['California':'Illinois']"
   ]
  },
  {
   "cell_type": "code",
   "execution_count": null,
   "metadata": {},
   "outputs": [],
   "source": [
    "population[(population > 20000000) & (population < 30000000)]"
   ]
  },
  {
   "cell_type": "markdown",
   "metadata": {},
   "source": [
    "#### Cómo construir objetos `Series`\n",
    "\n",
    "Ya hemos visto algunas formas de construir una `Series` de Pandas desde cero; todas ellas son alguna versión de lo siguiente:"
   ]
  },
  {
   "cell_type": "markdown",
   "metadata": {},
   "source": [
    "`pd.Series(data, index=index)`"
   ]
  },
  {
   "cell_type": "markdown",
   "metadata": {},
   "source": [
    "donde `index` es un argumento opcional, y `data` puede ser una de muchas entidades.\n",
    "\n",
    "Por ejemplo, `data` puede ser una lista o un array de NumPy, en cuyo caso `index` es por defecto una secuencia de enteros:"
   ]
  },
  {
   "cell_type": "code",
   "execution_count": null,
   "metadata": {},
   "outputs": [],
   "source": [
    "pd.Series([2, 4, 6])"
   ]
  },
  {
   "cell_type": "markdown",
   "metadata": {},
   "source": [
    "`data` puede ser un escalar, que se repite hasta rellenar el índice:"
   ]
  },
  {
   "cell_type": "code",
   "execution_count": null,
   "metadata": {},
   "outputs": [],
   "source": [
    "pd.Series(5, index=[100, 200, 300])"
   ]
  },
  {
   "cell_type": "markdown",
   "metadata": {},
   "source": [
    "`data` puede ser un diccionario en el que el índice serán las claves ordenadas, como ya vimos:"
   ]
  },
  {
   "cell_type": "code",
   "execution_count": null,
   "metadata": {},
   "outputs": [],
   "source": [
    "pd.Series({2:'a', 1:'b', 3:'c'})"
   ]
  },
  {
   "cell_type": "markdown",
   "metadata": {},
   "source": [
    "### El objeto `DataFrame`\n",
    "\n",
    "La siguiente estructura fundamental en Pandas es el `DataFrame`.\n",
    "Al igual que el objeto `Series` discutido en la sección anterior, el `DataFrame` puede ser considerado como una generalización de un array de NumPy, o como una especialización de un diccionario de Python.\n",
    "Ahora echaremos un vistazo a cada una de estas perspectivas."
   ]
  },
  {
   "cell_type": "markdown",
   "metadata": {},
   "source": [
    "#### `DataFrame` como un array de NumPy generalizado\n",
    "\n",
    "Si una `Series` es análoga a un array unidimensional con índices flexibles, un `DataFrame` es análogo a un array bidimensional con índices de fila y nombres de columna flexibles.\n",
    "Al igual que se puede pensar en una matriz bidimensional como una secuencia ordenada de columnas unidimensionales alineadas, se puede pensar en un `DataFrame` como una secuencia de objetos `Series` alineados.\n",
    "Por \"alineados\" entendemos que comparten el mismo índice.\n",
    "\n",
    "Para demostrarlo, construyamos primero una nueva serie que contenga el área de cada uno de los cinco estados que hemos analizado en la sección anterior:"
   ]
  },
  {
   "cell_type": "code",
   "execution_count": null,
   "metadata": {},
   "outputs": [],
   "source": [
    "area_dict = {'California': 423967, 'Texas': 695662, 'New York': 141297,\n",
    "             'Florida': 170312, 'Illinois': 149995}\n",
    "area = pd.Series(area_dict)\n",
    "area"
   ]
  },
  {
   "cell_type": "markdown",
   "metadata": {},
   "source": [
    "Ahora que tenemos esto junto con la serie `population` de antes, podemos utilizar un diccionario para construir un único objeto bidimensional que contenga esta información:"
   ]
  },
  {
   "cell_type": "code",
   "execution_count": null,
   "metadata": {},
   "outputs": [],
   "source": [
    "states = pd.DataFrame({'population': population,\n",
    "                       'area': area})\n",
    "states"
   ]
  },
  {
   "cell_type": "markdown",
   "metadata": {},
   "source": [
    "Al igual que el objeto `Series`, `DataFrame` tiene un atributo `index` que da acceso a las etiquetas del índice:"
   ]
  },
  {
   "cell_type": "code",
   "execution_count": null,
   "metadata": {},
   "outputs": [],
   "source": [
    "states.index"
   ]
  },
  {
   "cell_type": "markdown",
   "metadata": {},
   "source": [
    "Además, el `DataFrame` tiene un atributo `columns`, que es un objeto `Index` que contiene las etiquetas de las columnas:"
   ]
  },
  {
   "cell_type": "code",
   "execution_count": null,
   "metadata": {},
   "outputs": [],
   "source": [
    "states.columns"
   ]
  },
  {
   "cell_type": "markdown",
   "metadata": {},
   "source": [
    "Por lo tanto, el `DataFrame` puede ser visto como una generalización de un array bidimensional de NumPy, donde tanto las filas como las columnas tienen un índice generalizado para acceder a los datos."
   ]
  },
  {
   "cell_type": "markdown",
   "metadata": {},
   "source": [
    "#### `DataFrame` como un diccionario especializado\n",
    "\n",
    "Del mismo modo, también podemos pensar en un `DataFrame` como una especialización de un diccionario.\n",
    "Mientras que un diccionario asigna una clave a un valor, un `DataFrame` asigna un nombre de columna a una `Series` de datos de columna. Por ejemplo, pedir el atributo `'area'` devuelve el objeto `Series` que contiene las áreas que vimos anteriormente:"
   ]
  },
  {
   "cell_type": "code",
   "execution_count": null,
   "metadata": {},
   "outputs": [],
   "source": [
    "states['area']"
   ]
  },
  {
   "cell_type": "markdown",
   "metadata": {},
   "source": [
    "**¡Importante!** Fíjate que en un array NumPy de dos dimensiones, `data[0]` devolverá la primera *fila*. Para un `DataFrame`, `data['col0']` (donde `col0` es el nombre de la primera columna) devolverá la primera *columna*.\n",
    "Por ello, probablemente sea mejor pensar en los `DataFrame` como diccionarios generalizados en lugar de arrays generalizados, aunque ambas formas de ver la situación pueden ser útiles.\n",
    "Exploraremos otros medios de indexar el objeto `DataFrame` más adelante."
   ]
  },
  {
   "cell_type": "markdown",
   "metadata": {},
   "source": [
    "#### Cómo construir objetos `DataFrame`\n",
    "\n",
    "Un `DataFrame` de Pandas puede construirse de varias formas, así que vamos a ver unos ejemplos:"
   ]
  },
  {
   "cell_type": "markdown",
   "metadata": {},
   "source": [
    "##### A partir de una serie\n",
    "\n",
    "Un `DataFrame` es una colección de objetos `Series`, y un `DataFrame` de una sola columna se puede construir a partir de una sola `Series`:"
   ]
  },
  {
   "cell_type": "code",
   "execution_count": null,
   "metadata": {},
   "outputs": [],
   "source": [
    "pd.DataFrame(population, columns=['population'])"
   ]
  },
  {
   "cell_type": "markdown",
   "metadata": {},
   "source": [
    "##### A partir de una lista de diccionarios\n",
    "\n",
    "Cualquier lista de diccionarios puede convertirse en un `DataFrame`.\n",
    "Usaremos una sencilla *comprehension list* para crear algunos datos:"
   ]
  },
  {
   "cell_type": "code",
   "execution_count": null,
   "metadata": {},
   "outputs": [],
   "source": [
    "data = [{'a': i, 'b': 2 * i}\n",
    "        for i in range(3)]\n",
    "pd.DataFrame(data)"
   ]
  },
  {
   "cell_type": "markdown",
   "metadata": {},
   "source": [
    "Incluso si faltan algunas claves en el diccionario, Pandas las rellenará con valores `NaN` (es decir, \"no es un número\"):"
   ]
  },
  {
   "cell_type": "code",
   "execution_count": null,
   "metadata": {},
   "outputs": [],
   "source": [
    "pd.DataFrame([{'a': 1, 'b': 2}, {'b': 3, 'c': 4}])"
   ]
  },
  {
   "cell_type": "markdown",
   "metadata": {},
   "source": [
    "##### A partir de un diccionario de objetos `Series`\n",
    "\n",
    "Como hemos visto antes, un `DataFrame` puede construirse también a partir de un diccionario de objetos `Series`:"
   ]
  },
  {
   "cell_type": "code",
   "execution_count": null,
   "metadata": {},
   "outputs": [],
   "source": [
    "pd.DataFrame({'population': population,\n",
    "              'area': area})"
   ]
  },
  {
   "cell_type": "markdown",
   "metadata": {},
   "source": [
    "##### A partir de un array NumPy de dos dimensiones\n",
    "\n",
    "Dado un array bidimensional de datos, podemos crear un `DataFrame` con cualquier nombre de columna e índice especificado.\n",
    "Si se omite, se utilizará un índice entero para cada una:"
   ]
  },
  {
   "cell_type": "code",
   "execution_count": null,
   "metadata": {},
   "outputs": [],
   "source": [
    "pd.DataFrame(np.random.rand(3, 2),\n",
    "             columns=['foo', 'bar'],\n",
    "             index=['a', 'b', 'c'])"
   ]
  },
  {
   "cell_type": "markdown",
   "metadata": {},
   "source": [
    "### El objeto `Index`\n",
    "\n",
    "Hemos visto aquí que tanto los objetos `Series` como `DataFrame` contienen un *índice* explícito que permite referenciar y modificar los datos.\n",
    "Este objeto `Index` es una estructura interesante en sí misma, y puede ser considerada como un *array inmutable* o como un *conjunto ordenado* (técnicamente un multi-conjunto, ya que los objetos `Index` pueden contener valores repetidos).\n",
    "Estos puntos de vista tienen algunas consecuencias interesantes en las operaciones disponibles en los objetos `Index`.\n",
    "Como ejemplo sencillo, construyamos un `Index` a partir de una lista de enteros:"
   ]
  },
  {
   "cell_type": "code",
   "execution_count": null,
   "metadata": {},
   "outputs": [],
   "source": [
    "ind = pd.Index([2, 3, 5, 7, 11])\n",
    "ind"
   ]
  },
  {
   "cell_type": "markdown",
   "metadata": {},
   "source": [
    "#### El índice como un array inmutable\n",
    "\n",
    "El `Index` en muchos aspectos funciona como un array.\n",
    "Por ejemplo, podemos utilizar la notación de indexación estándar de Python para recuperar valores o slices:"
   ]
  },
  {
   "cell_type": "code",
   "execution_count": null,
   "metadata": {},
   "outputs": [],
   "source": [
    "ind[1]"
   ]
  },
  {
   "cell_type": "code",
   "execution_count": null,
   "metadata": {},
   "outputs": [],
   "source": [
    "ind[::2]"
   ]
  },
  {
   "cell_type": "markdown",
   "metadata": {},
   "source": [
    "## Indexación y selección de datos: `loc` e `iloc`"
   ]
  },
  {
   "cell_type": "markdown",
   "metadata": {},
   "source": [
    "Cuando usas slicing con un índice explícito (es decir, `datos['a':'c']`), el índice final (`'c'`) está *incluido* en el *slice* mientras que cuando se corta con un índice implícito (es decir, `datos[0:2]`), el índice final está *excluido* del *slice*."
   ]
  },
  {
   "cell_type": "markdown",
   "metadata": {},
   "source": [
    "Estas convenciones de *slicing* e indexación pueden ser una fuente de confusión.\n",
    "Por ejemplo, si tu `Serie` tiene un índice entero explícito, una operación de indexación como `datos[1]` utilizará los índices explícitos, mientras que una operación de *slicing* como `datos[1:3]` utilizará el índice implícito de estilo Python. Veamos un ejemplo."
   ]
  },
  {
   "cell_type": "code",
   "execution_count": null,
   "metadata": {},
   "outputs": [],
   "source": [
    "data = pd.Series(['a', 'b', 'c', 'd'], index=[1, 3, 5, 'i'])\n",
    "data"
   ]
  },
  {
   "cell_type": "code",
   "execution_count": null,
   "metadata": {},
   "outputs": [],
   "source": [
    "# se usa el índice explícito cuando se indexa\n",
    "data[1]"
   ]
  },
  {
   "cell_type": "code",
   "execution_count": null,
   "metadata": {},
   "outputs": [],
   "source": [
    "# se usa el índice implícito cuando se hace slicing\n",
    "data[1:4]"
   ]
  },
  {
   "cell_type": "markdown",
   "metadata": {},
   "source": [
    "Debido a esta potencial confusión en el caso de los índices enteros, Pandas proporciona algunos atributos *indexadores* especiales que exponen explícitamente ciertos esquemas de indexación.\n",
    "No se trata de métodos funcionales, sino de atributos que exponen una interfaz de *slicing* particular para los datos de la serie.\n",
    "\n",
    "En primer lugar, el atributo `loc` permite la indexación y el *slicing* que siempre hace referencia al índice **explícito**:"
   ]
  },
  {
   "cell_type": "code",
   "execution_count": null,
   "metadata": {},
   "outputs": [],
   "source": [
    "data.loc[1]"
   ]
  },
  {
   "cell_type": "markdown",
   "metadata": {},
   "source": []
  },
  {
   "cell_type": "code",
   "execution_count": null,
   "metadata": {},
   "outputs": [],
   "source": [
    "data.loc[1:'i']"
   ]
  },
  {
   "cell_type": "markdown",
   "metadata": {},
   "source": [
    "El atributo `iloc` permite la indexación y el *slicing* que siempre hace referencia al índice **implícito** de estilo Python:"
   ]
  },
  {
   "cell_type": "code",
   "execution_count": null,
   "metadata": {},
   "outputs": [],
   "source": [
    "data.iloc[1]"
   ]
  },
  {
   "cell_type": "code",
   "execution_count": null,
   "metadata": {},
   "outputs": [],
   "source": [
    "data.iloc[1:4]"
   ]
  },
  {
   "cell_type": "markdown",
   "metadata": {},
   "source": [
    "Un principio que guía el código Python es que \"lo explícito es mejor que lo implícito\".\n",
    "La naturaleza explícita de `loc` y `iloc` los hace muy útiles para mantener un código limpio y legible; especialmente en el caso de los índices de enteros, recomiendo usarlos tanto para hacer el código más fácil de leer y entender, como para prevenir errores sutiles debidos a la convención mixta de indexación/slicing.\n"
   ]
  },
  {
   "cell_type": "markdown",
   "metadata": {},
   "source": [
    "### Selección de datos en DataFrame\n",
    "\n",
    "Recordemos que un `DataFrame` actúa en muchos aspectos como un array bidimensional, y en otros aspectos como un diccionario de objetos `Series` que comparten el mismo índice.\n",
    "Estas analogías pueden ser útiles para tenerlas en cuenta mientras exploramos la selección de datos dentro de esta estructura. Volvamos a un DataFrame con la población y el área de algunos estados de EEUU."
   ]
  },
  {
   "cell_type": "code",
   "execution_count": null,
   "metadata": {},
   "outputs": [],
   "source": [
    "area = pd.Series({'California': 423967, 'Texas': 695662,\n",
    "                  'New York': 141297, 'Florida': 170312,\n",
    "                  'Illinois': 149995})\n",
    "pop = pd.Series({'California': 38332521, 'Texas': 26448193,\n",
    "                 'New York': 19651127, 'Florida': 19552860,\n",
    "                 'Illinois': 12882135})\n",
    "data = pd.DataFrame({'area':area, 'pop':pop})\n",
    "data"
   ]
  },
  {
   "cell_type": "markdown",
   "metadata": {},
   "source": [
    "Añadamos una nueva columna con la densidad de cada estado"
   ]
  },
  {
   "cell_type": "code",
   "execution_count": null,
   "metadata": {},
   "outputs": [],
   "source": [
    "data['density'] = data['pop'] / data['area']\n",
    "data"
   ]
  },
  {
   "cell_type": "markdown",
   "metadata": {},
   "source": [
    "De primeras podemos obtener los valores de un DataFrame como un array de NumPy mirando el atributo `.values`"
   ]
  },
  {
   "cell_type": "code",
   "execution_count": null,
   "metadata": {},
   "outputs": [],
   "source": [
    "data.values"
   ]
  },
  {
   "cell_type": "markdown",
   "metadata": {},
   "source": [
    "Con esta imagen en mente, se pueden hacer muchas operaciones que ya conocemos con los arrays en el propio `DataFrame`.\n",
    "Por ejemplo, podemos transponer el `DataFrame` completo para intercambiar filas y columnas:"
   ]
  },
  {
   "cell_type": "code",
   "execution_count": null,
   "metadata": {},
   "outputs": [],
   "source": [
    "data.T"
   ]
  },
  {
   "cell_type": "markdown",
   "metadata": {},
   "source": [
    "Sin embargo, cuando se trata de la indexación de los objetos `DataFrame`, está claro que la indexación de las columnas al estilo de un diccionario impide nuestra capacidad de tratarlo simplemente como un array de NumPy.\n",
    "En particular, al pasar un solo índice a un array se accede a una fila:"
   ]
  },
  {
   "cell_type": "code",
   "execution_count": null,
   "metadata": {},
   "outputs": [],
   "source": [
    "data.values[0]"
   ]
  },
  {
   "cell_type": "markdown",
   "metadata": {},
   "source": [
    "y pasando un único \"índice\" a un `DataFrame` se accede a una columna:"
   ]
  },
  {
   "cell_type": "code",
   "execution_count": null,
   "metadata": {},
   "outputs": [],
   "source": [
    "data['area']"
   ]
  },
  {
   "cell_type": "markdown",
   "metadata": {
    "collapsed": true
   },
   "source": [
    "Por lo tanto, para la indexación estilo array, necesitamos otra convención.\n",
    "Aquí Pandas vuelve a utilizar los indexadores `loc` e `iloc` mencionados anteriormente.\n",
    "Usando el indexador `iloc`, podemos indexar el array subyacente como si fuera un simple array de NumPy (usando el índice implícito de estilo Python), pero el índice `DataFrame` y las etiquetas de las columnas se mantienen en el resultado:"
   ]
  },
  {
   "cell_type": "code",
   "execution_count": null,
   "metadata": {},
   "outputs": [],
   "source": [
    "data.iloc[:3, :2]"
   ]
  },
  {
   "cell_type": "markdown",
   "metadata": {},
   "source": [
    "Del mismo modo, utilizando el indexador `loc` podemos indexar los datos subyacentes en un estilo similar al de los arrays pero utilizando el índice explícito y los nombres de las columnas:"
   ]
  },
  {
   "cell_type": "code",
   "execution_count": null,
   "metadata": {},
   "outputs": [],
   "source": [
    "data.loc[:'Illinois', :'pop']"
   ]
  },
  {
   "cell_type": "markdown",
   "metadata": {},
   "source": [
    "Dentro de estos indexadores se puede utilizar cualquiera de los patrones de acceso a datos conocidos del estilo de NumPy.\n",
    "Por ejemplo, en el indexador `loc` podemos combinar el enmascaramiento y la indexación selectiva como en el siguiente ejemplo:"
   ]
  },
  {
   "cell_type": "code",
   "execution_count": null,
   "metadata": {},
   "outputs": [],
   "source": [
    "data.loc[data['density'] > 100, ['pop', 'density']]  # Fijate que data['density'] > 100 filtra filas."
   ]
  },
  {
   "cell_type": "markdown",
   "metadata": {},
   "source": [
    "Cualquiera de estas convenciones de indexación también se puede utilizar para establecer o modificar valores; esto se hace de la manera estándar a la que podrías estar acostumbrado si trabajas con NumPy:"
   ]
  },
  {
   "cell_type": "code",
   "execution_count": null,
   "metadata": {},
   "outputs": [],
   "source": [
    "data.iloc[0, 2] = 90\n",
    "data"
   ]
  },
  {
   "cell_type": "markdown",
   "metadata": {},
   "source": [
    "Para mejorar tu fluidez en la manipulación de datos de Pandas, dedica algún tiempo con un simple `DataFrame` y explora los tipos de indexación, slicing, enmascaramiento e indexación selectiva que permiten estos diversos enfoques de indexación."
   ]
  },
  {
   "cell_type": "markdown",
   "metadata": {},
   "source": [
    "#### Convenciones adicionales de indexación\n",
    "\n",
    "Hay un par de convenciones de indexación adicionales que pueden parecer contrarias a la discusión anterior, pero que sin embargo pueden ser muy útiles en la práctica.\n",
    "En primer lugar, mientras el *indexado* trabaja con las columnas, el *slicing* usa las filas:"
   ]
  },
  {
   "cell_type": "code",
   "execution_count": null,
   "metadata": {},
   "outputs": [],
   "source": [
    "data['Florida':'Illinois']   # equivale a data.loc['Florida':'Illinois']"
   ]
  },
  {
   "cell_type": "markdown",
   "metadata": {},
   "source": [
    "Estos slices también pueden referirse a las filas por número en lugar de por índice:"
   ]
  },
  {
   "cell_type": "code",
   "execution_count": null,
   "metadata": {},
   "outputs": [],
   "source": [
    "data[1:3]   # equivale a data.iloc[1:3]"
   ]
  },
  {
   "cell_type": "markdown",
   "metadata": {},
   "source": [
    "Del mismo modo, las operaciones de enmascaramiento directo también se interpretan por filas en lugar de por columnas:"
   ]
  },
  {
   "cell_type": "code",
   "execution_count": null,
   "metadata": {},
   "outputs": [],
   "source": [
    "data[data['density'] > 100]   # equivale a data.iloc[data['density'] > 100]"
   ]
  },
  {
   "cell_type": "markdown",
   "metadata": {},
   "source": [
    "Estas dos convenciones son sintácticamente similares a las de un array de NumPy, y aunque no se amolden a las convenciones de Pandas, son sin embargo bastante útiles en la práctica."
   ]
  },
  {
   "cell_type": "markdown",
   "metadata": {},
   "source": [
    "## Operando con datos en Pandas"
   ]
  },
  {
   "cell_type": "markdown",
   "metadata": {},
   "source": [
    "Una de las piezas esenciales de NumPy es la capacidad de realizar operaciones rápidas entre elementos, tanto con aritmética básica (suma, resta, multiplicación, etc.) como con operaciones más sofisticadas (funciones trigonométricas, exponenciales y logarítmicas, etc.).\n",
    "Pandas hereda gran parte de esta funcionalidad de NumPy, y las *ufuncs* que introdujimos en el notebook de NumPy son la clave.\n",
    "\n",
    "Sin embargo, Pandas incluye un par de añadidos útiles: para las operaciones unarias, como la negación y las funciones trigonométricas, estas *ufuncs* *preservarán las etiquetas de índice y columna* en la salida, y para las operaciones binarias como la suma y la multiplicación, Pandas *alineará automáticamente los índices* al pasar los objetos a la *ufunc*.\n",
    "Esto significa que mantener el contexto de los datos y combinar datos de diferentes fuentes -ambas tareas potencialmente propensas a errores con los arrays de NumPy en bruto- se convierten en tareas esencialmente infalibles con Pandas.\n",
    "Además, veremos que hay operaciones bien definidas entre estructuras unidimensionales `Series` y estructuras bidimensionales `DataFrame`."
   ]
  },
  {
   "cell_type": "markdown",
   "metadata": {},
   "source": [
    "### Preservación del índice en las Ufuncs\n",
    "\n",
    "Como Pandas está diseñado para trabajar con NumPy, cualquier *ufunc* de NumPy funcionará con los objetos `Series` y `DataFrame` de Pandas.\n",
    "Empecemos definiendo una `Serie` y un `DataFrame` sencillos en los que demostrar esto:"
   ]
  },
  {
   "cell_type": "code",
   "execution_count": null,
   "metadata": {},
   "outputs": [],
   "source": [
    "rng = np.random.RandomState(42)   # es una forma de conseguir un generador aleatorio inicializado a esa semilla\n",
    "ser = pd.Series(rng.randint(0, 10, 4))    # ahora usamos el generador para crear la serie aleatoria\n",
    "ser"
   ]
  },
  {
   "cell_type": "code",
   "execution_count": null,
   "metadata": {},
   "outputs": [],
   "source": [
    "df = pd.DataFrame(rng.randint(0, 10, (3, 4)),\n",
    "                  columns=['A', 'B', 'C', 'D'])\n",
    "df"
   ]
  },
  {
   "cell_type": "markdown",
   "metadata": {},
   "source": [
    "Si aplicamos una *ufunc* NumPy sobre cualquiera de estos objetos, el resultado será otro objeto Pandas *con los índices conservados:*"
   ]
  },
  {
   "cell_type": "code",
   "execution_count": null,
   "metadata": {},
   "outputs": [],
   "source": [
    "np.exp(ser)"
   ]
  },
  {
   "cell_type": "markdown",
   "metadata": {},
   "source": [
    "Podemos hacer cálculos algo más complejos:"
   ]
  },
  {
   "cell_type": "code",
   "execution_count": null,
   "metadata": {},
   "outputs": [],
   "source": [
    "np.sin(df * np.pi / 4)   # np.pi = 3.14159265"
   ]
  },
  {
   "cell_type": "code",
   "execution_count": null,
   "metadata": {},
   "outputs": [],
   "source": [
    "df.mean()   # media por columna"
   ]
  },
  {
   "cell_type": "code",
   "execution_count": null,
   "metadata": {},
   "outputs": [],
   "source": [
    "df.mean().mean()   # media de los elementos de la matriz (OJO, esto no siempre calcula la media, es un ejemplo)"
   ]
  },
  {
   "cell_type": "code",
   "execution_count": null,
   "metadata": {},
   "outputs": [],
   "source": [
    "# sería más correcto apilar todas las columnas y hacer la media de esa columna resultante\n",
    "df.stack().mean()"
   ]
  },
  {
   "cell_type": "code",
   "execution_count": null,
   "metadata": {},
   "outputs": [],
   "source": [
    "df.stack()"
   ]
  },
  {
   "cell_type": "markdown",
   "metadata": {},
   "source": [
    "### Ufuncs: Operaciones entre DataFrame y Series\n",
    "\n",
    "Cuando se realizan operaciones entre un `DataFrame` y una `Series`, la alineación de los índices y las columnas se mantiene de forma similar.\n",
    "Las operaciones entre un `DataFrame` y una `Series` son similares a las operaciones entre un array bidimensional y uno unidimensional de NumPy.\n",
    "Consideremos una operación común, donde encontramos la diferencia de un array bidimensional y una de sus filas:"
   ]
  },
  {
   "cell_type": "code",
   "execution_count": null,
   "metadata": {},
   "outputs": [],
   "source": [
    "A = rng.randint(10, size=(3, 4))\n",
    "A"
   ]
  },
  {
   "cell_type": "markdown",
   "metadata": {},
   "source": [
    "De acuerdo con las reglas de difusión de NumPy que vimos en el notebook correspondiente, la sustracción entre un array bidimensional y una de sus filas se aplica por filas. En Pandas, de la mima manera, la convención es operar también por filas:"
   ]
  },
  {
   "cell_type": "code",
   "execution_count": null,
   "metadata": {},
   "outputs": [],
   "source": [
    "df = pd.DataFrame(A, columns=list('QRST'))  # le pongo nombre a las columnas de A\n",
    "df - df.iloc[0]   # Le resto a todo el DataFrame su primera fila"
   ]
  },
  {
   "cell_type": "markdown",
   "metadata": {},
   "source": [
    "Si, en cambio, deseamos operar por columnas, podemos utilizar el método `.subtract` en lugar de la operación `-`, eso sí, especificando con el parámetro `axis` el eje en el que queremos hacerlo: axis=0 por columnas, axis=1 por filas."
   ]
  },
  {
   "cell_type": "code",
   "execution_count": null,
   "metadata": {},
   "outputs": [],
   "source": [
    "df.subtract(df['R'], axis=0)   # df - df.iloc[0] equivale a df.subtract(df.iloc[0], axis=1)"
   ]
  },
  {
   "cell_type": "markdown",
   "metadata": {},
   "source": [
    "## NaN y None en Pandas\n",
    "\n",
    "Tanto `NaN` como `None` tienen su lugar, y Pandas está construido para manejar los dos casi indistintamente, convirtiendo entre ellos cuando sea apropiado:"
   ]
  },
  {
   "cell_type": "code",
   "execution_count": null,
   "metadata": {},
   "outputs": [],
   "source": [
    "data = pd.Series([1, np.nan, 2.0, None])\n",
    "data"
   ]
  },
  {
   "cell_type": "markdown",
   "metadata": {},
   "source": [
    "Como hemos visto, Pandas trata `None` y `NaN` como esencialmente intercambiables para indicar valores perdidos o nulos.\n",
    "Para facilitar esta convención, existen varios métodos útiles para detectar, eliminar y reemplazar valores nulos en las estructuras de datos de Pandas.\n",
    "Estos son:\n",
    "\n",
    "- `isnull()`: Genera una máscara booleana que indica los valores perdidos\n",
    "- `notnull()`: Lo contrario de `isnull()`\n",
    "- `dropna()`: Devuelve una versión filtrada de los datos\n",
    "- `fillna()`: Devuelve una copia de los datos con los valores perdidos rellenados o imputados\n",
    "\n",
    "Concluiremos esta sección con una breve demostración de estas rutinas."
   ]
  },
  {
   "cell_type": "code",
   "execution_count": null,
   "metadata": {
    "scrolled": true
   },
   "outputs": [],
   "source": [
    "data.isnull()"
   ]
  },
  {
   "cell_type": "code",
   "execution_count": null,
   "metadata": {
    "scrolled": true
   },
   "outputs": [],
   "source": [
    "data[data.notnull()]"
   ]
  },
  {
   "cell_type": "markdown",
   "metadata": {},
   "source": [
    "`dropna()` elimina las filas con valores NA"
   ]
  },
  {
   "cell_type": "code",
   "execution_count": null,
   "metadata": {},
   "outputs": [],
   "source": [
    "data.dropna()"
   ]
  },
  {
   "cell_type": "markdown",
   "metadata": {},
   "source": [
    "Para un `DataFrame`, hay más opciones.\n",
    "Considera el siguiente `DataFrame`:"
   ]
  },
  {
   "cell_type": "code",
   "execution_count": null,
   "metadata": {},
   "outputs": [],
   "source": [
    "df = pd.DataFrame([[1,      np.nan, 2],\n",
    "                   [2,      3,      5],\n",
    "                   [np.nan, 4,      6]])\n",
    "df"
   ]
  },
  {
   "cell_type": "markdown",
   "metadata": {},
   "source": [
    "No podemos eliminar valores individuales de un `DataFrame`; sólo podemos eliminar filas o columnas completas.\n",
    "Dependiendo de la aplicación, se puede querer una cosa u otra, por lo que `dropna()` da una serie de opciones para un `DataFrame`.\n",
    "\n",
    "Por defecto, `dropna()` eliminará todas las filas en las que esté presente *cualquier* valor nulo:"
   ]
  },
  {
   "cell_type": "code",
   "execution_count": null,
   "metadata": {},
   "outputs": [],
   "source": [
    "df.dropna()"
   ]
  },
  {
   "cell_type": "markdown",
   "metadata": {},
   "source": [
    "Alternativamente, puede dejar los valores NA a lo largo de un eje diferente; `axis=1` deja todas las columnas que contienen un valor nulo:"
   ]
  },
  {
   "cell_type": "markdown",
   "metadata": {},
   "source": [
    "A veces, en lugar de eliminar los valores NA, se prefiere sustituirlos por un valor válido.\n",
    "Este valor podría ser un número único como el cero, o podría ser algún tipo de imputación o interpolación de los valores existentes.\n",
    "Se podría hacer esto asignando un valor a una selección de valores usando el método `isnull()` como máscara, pero como es una operación tan común Pandas proporciona el método `fillna()`, que devuelve una copia del array con los valores nulos reemplazados.\n",
    "\n",
    "Podemos sustituir los NaN por 0:"
   ]
  },
  {
   "cell_type": "code",
   "execution_count": null,
   "metadata": {},
   "outputs": [],
   "source": [
    "df.fillna(0)"
   ]
  },
  {
   "cell_type": "code",
   "execution_count": null,
   "metadata": {},
   "outputs": [],
   "source": [
    "data.fillna(0)"
   ]
  },
  {
   "cell_type": "markdown",
   "metadata": {},
   "source": [
    "## Agregación y agrupamiento"
   ]
  },
  {
   "cell_type": "markdown",
   "metadata": {
    "collapsed": true
   },
   "source": [
    "Una pieza esencial en el análisis de grandes datos es la obtención eficiente de resúmenes: calcular agregaciones como `suma()`, `media()`, `mediana()`, `min()` y `max()`, en las que un solo número da una idea de la naturaleza de un conjunto de datos potencialmente grande.\n",
    "En esta sección, exploraremos las agregaciones en Pandas, desde operaciones simples similares a las que hemos visto en los arrays de NumPy, hasta operaciones más sofisticadas basadas en el concepto de un `groupby`.\n"
   ]
  },
  {
   "cell_type": "markdown",
   "metadata": {},
   "source": [
    "Aquí utilizaremos el conjunto de datos Planetas, disponible a través del [paquete Seaborn](http://seaborn.pydata.org/). Seaborn es un paquete que nos ofrece la posibilidad de visualizar conjuntos de datos de con un estilo bastante elegante usando una interfaz sencilla. \n",
    "Este conjunto de datos ofrece información sobre los planetas que los astrónomos han descubierto alrededor de otras estrellas (conocidos como *planetas extrasolares* o *exoplanetas* para abreviar). Se puede descargar con un simple comando de Seaborn (es un conjunto de datos ejemplo que ofrece el propio paquete).\n"
   ]
  },
  {
   "cell_type": "code",
   "execution_count": null,
   "metadata": {},
   "outputs": [],
   "source": [
    "# Install a pip package in the current Jupyter kernel\n",
    "import sys\n",
    "!{sys.executable} -m pip install seaborn\n",
    "\n",
    "import seaborn as sns\n",
    "import pandas as pd\n",
    "import numpy as np\n",
    "#planets = sns.load_dataset('planets')\n",
    "#planets.shape"
   ]
  },
  {
   "cell_type": "code",
   "execution_count": null,
   "metadata": {},
   "outputs": [],
   "source": [
    "planets = pd.read_csv('data/planets.csv')"
   ]
  },
  {
   "cell_type": "code",
   "execution_count": null,
   "metadata": {},
   "outputs": [],
   "source": [
    "planets.head()"
   ]
  },
  {
   "cell_type": "markdown",
   "metadata": {},
   "source": [
    "La ventaja de pandas y sns es que permiten la visualización de datos de una forma muy sencilla. Por ejemplo, si queremos obtener un histograma de las masas de los diferentes planetas podemos hacer lo siguiente:"
   ]
  },
  {
   "cell_type": "code",
   "execution_count": null,
   "metadata": {},
   "outputs": [],
   "source": [
    "planets['mass'].hist()"
   ]
  },
  {
   "cell_type": "markdown",
   "metadata": {},
   "source": [
    "Pero también podríamos haber hecho esto:"
   ]
  },
  {
   "cell_type": "code",
   "execution_count": null,
   "metadata": {},
   "outputs": [],
   "source": [
    "planets.hist('mass')"
   ]
  },
  {
   "cell_type": "markdown",
   "metadata": {},
   "source": [
    "SeaBorn tiene un funcionamiento parecido, pero los gráficos suelen tener un estilo más moderno"
   ]
  },
  {
   "cell_type": "code",
   "execution_count": null,
   "metadata": {},
   "outputs": [],
   "source": [
    "sns.histplot(planets['mass'])"
   ]
  },
  {
   "cell_type": "markdown",
   "metadata": {},
   "source": [
    "## Agregación simple con Pandas"
   ]
  },
  {
   "cell_type": "markdown",
   "metadata": {},
   "source": [
    "Para una `Serie` de Pandas los agregados devuelven un único valor:"
   ]
  },
  {
   "cell_type": "code",
   "execution_count": null,
   "metadata": {},
   "outputs": [],
   "source": [
    "rng = np.random.RandomState(42)\n",
    "ser = pd.Series(rng.rand(5))\n",
    "ser"
   ]
  },
  {
   "cell_type": "code",
   "execution_count": null,
   "metadata": {},
   "outputs": [],
   "source": [
    "ser.sum()"
   ]
  },
  {
   "cell_type": "code",
   "execution_count": null,
   "metadata": {},
   "outputs": [],
   "source": [
    "ser.mean()"
   ]
  },
  {
   "cell_type": "markdown",
   "metadata": {},
   "source": [
    "Para un `DataFrame`, por defecto la agregación devuelve resultados por columna:"
   ]
  },
  {
   "cell_type": "code",
   "execution_count": null,
   "metadata": {},
   "outputs": [],
   "source": [
    "df = pd.DataFrame({'A': rng.rand(5),\n",
    "                   'B': rng.rand(5)})\n",
    "df"
   ]
  },
  {
   "cell_type": "code",
   "execution_count": null,
   "metadata": {},
   "outputs": [],
   "source": [
    "df.mean()"
   ]
  },
  {
   "cell_type": "markdown",
   "metadata": {},
   "source": [
    "Hay un método llamado `describe()` que calcula varios agregados comunes para cada columna y devuelve el resultado.\n",
    "Usémoslo en los datos de Planetas, por ahora eliminando las filas con valores no asignados:"
   ]
  },
  {
   "cell_type": "code",
   "execution_count": null,
   "metadata": {},
   "outputs": [],
   "source": [
    "planets.dropna().describe()"
   ]
  },
  {
   "cell_type": "markdown",
   "metadata": {},
   "source": [
    "Esta puede ser una forma útil de empezar a entender las propiedades generales de un conjunto de datos.\n",
    "Por ejemplo, en la columna \"year\" vemos que, aunque ya se descubrieron exoplanetas en 1989, la mitad de los conocidos no se descubrieron hasta 2010 o después.\n",
    "Esto se debe en gran medida a la misión *Kepler*, que es un telescopio espacial diseñado específicamente para encontrar planetas eclipsantes alrededor de otras estrellas.\n"
   ]
  },
  {
   "cell_type": "markdown",
   "metadata": {},
   "source": [
    "La siguiente tabla resume algunas agregaciones útiles en pandas:\n",
    "\n",
    "| Agregación              | Descripción                     |\n",
    "|--------------------------|---------------------------------|\n",
    "| `count()`              | Número total de items           |\n",
    "| `first()`, `last()`  | Primer y último item respectivamente             |\n",
    "| `mean()`, `median()` | Media y mediana                  |\n",
    "| `min()`, `max()`     | Mínimo y máximo                  |\n",
    "| `std()`, `var()`     | Desviación estándar y varianza   |\n",
    "| `mad()`                | Desviación media absoluta        |\n",
    "| `prod()`               | Producto de todos los items      |\n",
    "| `sum()`                | Suma de todos los items          |\n",
    "\n",
    "Todos existen tanto en `DataFrame` como en `Series`."
   ]
  },
  {
   "cell_type": "markdown",
   "metadata": {},
   "source": [
    "Sin embargo, para profundizar en los datos, los agregados simples no suelen ser suficientes.\n",
    "El siguiente nivel es la operación `groupby`, que permite calcular rápida y eficazmente agregados sobre subconjuntos de datos."
   ]
  },
  {
   "cell_type": "markdown",
   "metadata": {},
   "source": [
    "### GroupBy: Dividir, aplicar, combinar\n",
    "\n",
    "Las agregaciones simples pueden darnos una idea de nuestro conjunto de datos, pero a menudo preferimos agregar condicionalmente sobre alguna etiqueta o índice: esto se implementa en la llamada operación `groupby`.\n",
    "El nombre \"group by\" proviene de un comando del lenguaje de bases de datos SQL, pero quizás sea más ilustrativo pensar en él en los términos acuñados por Hadley Wickham de Rstats: *dividir, aplicar, combinar*."
   ]
  },
  {
   "cell_type": "markdown",
   "metadata": {},
   "source": [
    "Un ejemplo canónico de esta operación de dividir-aplicar-combinar, donde el \"aplicar\" es una agregación de suma, se ilustra en esta figura:"
   ]
  },
  {
   "cell_type": "markdown",
   "metadata": {},
   "source": [
    "![](figures/03.08-split-apply-combine.png)"
   ]
  },
  {
   "cell_type": "markdown",
   "metadata": {},
   "source": [
    "Esto aclara lo que hace `groupby`:\n",
    "\n",
    "- El paso *split* implica dividir y agrupar un `DataFrame` dependiendo del valor de la clave especificada.\n",
    "- El paso *apply* implica el cálculo de alguna función, normalmente un agregado, transformación o filtrado, dentro de los grupos individuales.\n",
    "- El paso *combinar* fusiona los resultados de estas operaciones en un array de salida.\n",
    "\n",
    "Aunque esto podría hacerse manualmente utilizando alguna combinación de los comandos de enmascaramiento, agregación y fusión que se han tratado anteriormente, es importante saber que *las divisiones intermedias no necesitan ser instanciadas explícitamente*. Más bien, `GroupBy` puede (a menudo) hacer esto en una sola pasada sobre los datos, actualizando la suma, la media, el recuento, el mínimo u otro agregado para cada grupo a lo largo del camino.\n",
    "El poder de `GroupBy` es que abstrae estos pasos: el usuario no necesita pensar en *cómo* se realiza el cálculo, sino que piensa en la *operación como un todo*.\n",
    "\n",
    "Como ejemplo concreto, echemos un vistazo al uso de Pandas para el cálculo mostrado en este diagrama.\n",
    "Empezaremos creando el `DataFrame` de entrada:"
   ]
  },
  {
   "cell_type": "code",
   "execution_count": null,
   "metadata": {},
   "outputs": [],
   "source": [
    "df = pd.DataFrame({'key': ['A', 'B', 'C', 'A', 'B', 'C'],\n",
    "                   'data': range(6)}, columns=['key', 'data'])\n",
    "df"
   ]
  },
  {
   "cell_type": "markdown",
   "metadata": {},
   "source": [
    "La operación más básica de dividir-aplicar-combinar se puede calcular con el método `groupby()` de `DataFrame`, pasando el nombre de la columna clave deseada:"
   ]
  },
  {
   "cell_type": "code",
   "execution_count": null,
   "metadata": {},
   "outputs": [],
   "source": [
    "df.groupby('key').sum()"
   ]
  },
  {
   "cell_type": "markdown",
   "metadata": {},
   "source": [
    "El método `sum()` es sólo una posibilidad aquí; puedes aplicar prácticamente cualquier función de agregación común de Pandas o NumPy, así como prácticamente cualquier operación válida de `DataFrame`, como veremos a continuación."
   ]
  },
  {
   "cell_type": "markdown",
   "metadata": {},
   "source": [
    "### El objeto `GroupBy`\n",
    "\n",
    "El objeto `GroupBy` es una abstracción muy flexible.\n",
    "En muchos sentidos, puedes simplemente tratarlo como si fuera una colección de `DataFrame`s, y hace las cosas difíciles tras las bambalinas. Veamos algunos ejemplos utilizando los datos de los planetas.\n",
    "\n",
    "Tal vez las operaciones más importantes que ofrece un `GroupBy` son *agregación*, *filtro*, *transformación* y *aplicación*, pero antes introduzcamos algunas de las otras funcionalidades que se pueden utilizar con la operación básica `GroupBy`."
   ]
  },
  {
   "cell_type": "markdown",
   "metadata": {},
   "source": [
    "El objeto `GroupBy` soporta la indexación de columnas de la misma manera que el `DataFrame`.\n",
    "Por ejemplo, aquí vemos cómo agrupamos los datos de los planetas por el método de detección y mostramos la mediana del periodo orbital de cada subgrupo:"
   ]
  },
  {
   "cell_type": "code",
   "execution_count": null,
   "metadata": {},
   "outputs": [],
   "source": [
    "planets.groupby('method')['orbital_period'].median()"
   ]
  },
  {
   "cell_type": "markdown",
   "metadata": {},
   "source": [
    "Esto da una idea de la escala general de períodos orbitales (en días) a la que es sensible cada método."
   ]
  },
  {
   "cell_type": "markdown",
   "metadata": {},
   "source": [
    "### Agregar, filtrar, transformar, aplicar\n",
    "\n",
    "La discusión anterior se centró en la agregación, pero hay más opciones disponibles.\n",
    "En particular, los objetos `GroupBy` tienen los métodos `agregate()`, `filter()`, `transform()`, y `apply()` que implementan eficientemente una variedad de operaciones útiles antes de combinar los datos agrupados.\n",
    "\n",
    "Para el propósito de las siguientes subsecciones, utilizaremos este `DataFrame`:"
   ]
  },
  {
   "cell_type": "code",
   "execution_count": null,
   "metadata": {},
   "outputs": [],
   "source": [
    "rng = np.random.RandomState(0)\n",
    "df = pd.DataFrame({'key': ['A', 'B', 'C', 'A', 'B', 'C'],\n",
    "                   'data1': range(6),\n",
    "                   'data2': rng.randint(0, 10, 6)},\n",
    "                   columns = ['key', 'data1', 'data2'])\n",
    "df"
   ]
  },
  {
   "cell_type": "markdown",
   "metadata": {},
   "source": [
    "#### El método `aggregate()`\n",
    "\n",
    "Ya estamos familiarizados con las agregaciones `GroupBy` con `sum()`, `median()`, y similares, pero el método `aggregate()` permite aún más flexibilidad.\n",
    "Puede tomar una cadena, una función, o una lista de ellas, y calcular todos los agregados a la vez.\n",
    "Aquí hay un ejemplo rápido que combina todo esto:"
   ]
  },
  {
   "cell_type": "code",
   "execution_count": null,
   "metadata": {},
   "outputs": [],
   "source": [
    "df.groupby('key').aggregate(['min', np.median, 'max'])  # puedes usar cadenas o las funciones de NumPy"
   ]
  },
  {
   "cell_type": "markdown",
   "metadata": {},
   "source": [
    "#### El método `filter()`\n",
    "\n",
    "Una operación de filtrado permite descartar datos en función de las propiedades del grupo.\n",
    "Por ejemplo, podríamos querer mantener todos los grupos en los que la desviación estándar es mayor que algún valor crítico:"
   ]
  },
  {
   "cell_type": "code",
   "execution_count": null,
   "metadata": {},
   "outputs": [],
   "source": [
    "def filter_func(x):\n",
    "    return x['data2'].std() > 4"
   ]
  },
  {
   "cell_type": "code",
   "execution_count": null,
   "metadata": {},
   "outputs": [],
   "source": [
    "df.groupby('key').std()"
   ]
  },
  {
   "cell_type": "code",
   "execution_count": null,
   "metadata": {},
   "outputs": [],
   "source": [
    "df.groupby('key').filter(filter_func)"
   ]
  },
  {
   "cell_type": "markdown",
   "metadata": {},
   "source": [
    "La función de filtrado debe devolver un valor booleano que especifica si el grupo pasa el filtrado. En este caso, como el grupo A no tiene una desviación estándar superior a 4, se elimina del resultado."
   ]
  },
  {
   "cell_type": "markdown",
   "metadata": {},
   "source": [
    "#### El método `transform()`\n",
    "\n",
    "Mientras que la agregación debe devolver una versión reducida de los datos, la transformación puede devolver alguna versión transformada de los datos completos para recombinar.\n",
    "Para tal transformación, la salida tiene la misma forma que la entrada.\n",
    "Un ejemplo común es centrar los datos restando la media del grupo:"
   ]
  },
  {
   "cell_type": "code",
   "execution_count": null,
   "metadata": {},
   "outputs": [],
   "source": [
    "df.groupby('key').transform(lambda x: x - x.mean())"
   ]
  },
  {
   "cell_type": "markdown",
   "metadata": {},
   "source": [
    "#### El método `apply()`\n",
    "\n",
    "El método `apply()` permite aplicar una función arbitraria a los resultados del grupo.\n",
    "La función debe tomar un `DataFrame`, y devolver un objeto Pandas (por ejemplo, `DataFrame`, `Series`) o un escalar; la operación de combinación se adaptará al tipo de resultado devuelto.\n",
    "\n",
    "Por ejemplo, aquí hay una llamada a `apply()` que normaliza la primera columna por la suma de los elementos de la segunda del mismo grupo:"
   ]
  },
  {
   "cell_type": "code",
   "execution_count": null,
   "metadata": {},
   "outputs": [],
   "source": [
    "def norm_by_data2(x):\n",
    "    # x es un Dataframe devuelto por groupby, es decir, agrupado por valores\n",
    "    x['data1'] /= x['data2'].sum()\n",
    "    return x"
   ]
  },
  {
   "cell_type": "code",
   "execution_count": null,
   "metadata": {},
   "outputs": [],
   "source": [
    "df"
   ]
  },
  {
   "cell_type": "code",
   "execution_count": null,
   "metadata": {},
   "outputs": [],
   "source": [
    "df.groupby('key').apply(norm_by_data2)"
   ]
  },
  {
   "cell_type": "markdown",
   "metadata": {},
   "source": [
    "`apply()` dentro de un `GroupBy` es bastante flexible: el único criterio es que la función toma un `DataFrame` y devuelve un objeto Pandas o un escalar; ¡lo que hagas en el medio depende de ti!"
   ]
  },
  {
   "cell_type": "markdown",
   "metadata": {},
   "source": [
    "# Apéndice"
   ]
  },
  {
   "cell_type": "markdown",
   "metadata": {},
   "source": [
    "## Creación de índices múltiples\n",
    "\n",
    "La forma más directa de construir una `Serie` o un `DataFrame` con índices múltiples es simplemente pasar una lista de dos o más arrays de índices al constructor. Por ejemplo:"
   ]
  },
  {
   "cell_type": "code",
   "execution_count": null,
   "metadata": {},
   "outputs": [],
   "source": [
    "df = pd.DataFrame(np.random.rand(4, 2),\n",
    "                  index=[['a', 'a', 'b', 'b'], [1, 2, 1, 2]],\n",
    "                  columns=['data1', 'data2'])\n",
    "df"
   ]
  },
  {
   "cell_type": "markdown",
   "metadata": {},
   "source": [
    "El trabajo de crear el `MultiIndex` se hace en segundo plano.\n",
    "\n",
    "Del mismo modo, si se pasa un diccionario con tuplas apropiadas como claves, Pandas lo reconocerá automáticamente y utilizará un `MultiIndex` por defecto:"
   ]
  },
  {
   "cell_type": "code",
   "execution_count": null,
   "metadata": {},
   "outputs": [],
   "source": [
    "data = {('California', 2000): 33871648,\n",
    "        ('California', 2010): 37253956,\n",
    "        ('Texas', 2000): 20851820,\n",
    "        ('Texas', 2010): 25145561,\n",
    "        ('New York', 2000): 18976457,\n",
    "        ('New York', 2010): 19378102}\n",
    "pd.Series(data)"
   ]
  },
  {
   "cell_type": "markdown",
   "metadata": {},
   "source": [
    "Sin embargo, a veces es útil crear explícitamente un `MultiIndex`; aquí veremos un par de estos métodos."
   ]
  },
  {
   "cell_type": "markdown",
   "metadata": {},
   "source": [
    "### Constructores explícitos de índices múltiples\n",
    "\n",
    "Para una mayor flexibilidad en la construcción del índice, puedes utilizar los métodos constructores de la clase `pd.MultiIndex`.\n",
    "Por ejemplo, como hicimos antes, puedes construir el `MultiIndex` a partir de una simple lista de arrays que den los valores del índice dentro de cada nivel:"
   ]
  },
  {
   "cell_type": "code",
   "execution_count": null,
   "metadata": {},
   "outputs": [],
   "source": [
    "pd.MultiIndex.from_arrays([['a', 'a', 'b', 'b'], [1, 2, 1, 2]])"
   ]
  },
  {
   "cell_type": "markdown",
   "metadata": {},
   "source": [
    "Se puede construir a partir de una lista de tuplas que dan los valores de los índices múltiples de cada punto:"
   ]
  },
  {
   "cell_type": "code",
   "execution_count": null,
   "metadata": {
    "scrolled": true
   },
   "outputs": [],
   "source": [
    "pd.MultiIndex.from_tuples([('a', 1), ('a', 2), ('b', 1), ('b', 2)])"
   ]
  },
  {
   "cell_type": "markdown",
   "metadata": {},
   "source": [
    "El `MultiIndex` puede pasarse como argumento `index` cuando se crea una `Serie` o `Dataframe`, o pasarse al método `reindex` de una `Serie` o `DataFrame` existente."
   ]
  }
 ],
 "metadata": {
  "anaconda-cloud": {},
  "kernelspec": {
   "display_name": "Python 3 (ipykernel)",
   "language": "python",
   "name": "python3"
  },
  "language_info": {
   "codemirror_mode": {
    "name": "ipython",
    "version": 3
   },
   "file_extension": ".py",
   "mimetype": "text/x-python",
   "name": "python",
   "nbconvert_exporter": "python",
   "pygments_lexer": "ipython3",
   "version": "3.7.12"
  },
  "toc": {
   "base_numbering": 1,
   "nav_menu": {},
   "number_sections": true,
   "sideBar": true,
   "skip_h1_title": false,
   "title_cell": "Tabla de contenidos",
   "title_sidebar": "Contents",
   "toc_cell": true,
   "toc_position": {
    "height": "calc(100% - 180px)",
    "left": "10px",
    "top": "150px",
    "width": "414.85px"
   },
   "toc_section_display": true,
   "toc_window_display": true
  }
 },
 "nbformat": 4,
 "nbformat_minor": 1
}
