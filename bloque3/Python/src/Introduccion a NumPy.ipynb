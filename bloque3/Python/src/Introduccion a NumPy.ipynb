{
 "cells": [
  {
   "cell_type": "markdown",
   "metadata": {
    "toc": true
   },
   "source": [
    "<h1>Tabla de contenidos<span class=\"tocSkip\"></span></h1>\n",
    "<div class=\"toc\"><ul class=\"toc-item\"><li><span><a href=\"#Introducción-a-NumPy\" data-toc-modified-id=\"Introducción-a-NumPy-1\"><span class=\"toc-item-num\">1&nbsp;&nbsp;</span>Introducción a NumPy</a></span><ul class=\"toc-item\"><li><span><a href=\"#Entendiendo-los-tipos-de-datos-de-Python\" data-toc-modified-id=\"Entendiendo-los-tipos-de-datos-de-Python-1.1\"><span class=\"toc-item-num\">1.1&nbsp;&nbsp;</span>Entendiendo los tipos de datos de Python</a></span><ul class=\"toc-item\"><li><span><a href=\"#Un-entero-en-Python-es-más-que-un-entero\" data-toc-modified-id=\"Un-entero-en-Python-es-más-que-un-entero-1.1.1\"><span class=\"toc-item-num\">1.1.1&nbsp;&nbsp;</span>Un entero en Python es más que un entero</a></span></li><li><span><a href=\"#Una-lista-de-Python-es-más-que-una-lista\" data-toc-modified-id=\"Una-lista-de-Python-es-más-que-una-lista-1.1.2\"><span class=\"toc-item-num\">1.1.2&nbsp;&nbsp;</span>Una lista de Python es más que una lista</a></span></li></ul></li><li><span><a href=\"#Los-arrays-de-NumPy\" data-toc-modified-id=\"Los-arrays-de-NumPy-1.2\"><span class=\"toc-item-num\">1.2&nbsp;&nbsp;</span>Los arrays de NumPy</a></span></li><li><span><a href=\"#Operaciones-con-arrays-Numpy:-Universal-Functions-(UFuncs)\" data-toc-modified-id=\"Operaciones-con-arrays-Numpy:-Universal-Functions-(UFuncs)-1.3\"><span class=\"toc-item-num\">1.3&nbsp;&nbsp;</span>Operaciones con arrays Numpy: Universal Functions (UFuncs)</a></span></li></ul></li><li><span><a href=\"#Apéndice\" data-toc-modified-id=\"Apéndice-2\"><span class=\"toc-item-num\">2&nbsp;&nbsp;</span>Apéndice</a></span><ul class=\"toc-item\"><li><span><a href=\"#Creación-de-arrays-en-NumPy\" data-toc-modified-id=\"Creación-de-arrays-en-NumPy-2.1\"><span class=\"toc-item-num\">2.1&nbsp;&nbsp;</span>Creación de arrays en NumPy</a></span><ul class=\"toc-item\"><li><span><a href=\"#Creación-de-arrays-a-partir-de-listas-de-Python\" data-toc-modified-id=\"Creación-de-arrays-a-partir-de-listas-de-Python-2.1.1\"><span class=\"toc-item-num\">2.1.1&nbsp;&nbsp;</span>Creación de arrays a partir de listas de Python</a></span></li><li><span><a href=\"#Creación-de-Arrays-desde-cero\" data-toc-modified-id=\"Creación-de-Arrays-desde-cero-2.1.2\"><span class=\"toc-item-num\">2.1.2&nbsp;&nbsp;</span>Creación de Arrays desde cero</a></span></li><li><span><a href=\"#Tipos-de-datos-estándar-de-NumPy\" data-toc-modified-id=\"Tipos-de-datos-estándar-de-NumPy-2.1.3\"><span class=\"toc-item-num\">2.1.3&nbsp;&nbsp;</span>Tipos de datos estándar de NumPy</a></span></li></ul></li><li><span><a href=\"#Manipulación-de-arrays-en-Numpy\" data-toc-modified-id=\"Manipulación-de-arrays-en-Numpy-2.2\"><span class=\"toc-item-num\">2.2&nbsp;&nbsp;</span>Manipulación de arrays en Numpy</a></span><ul class=\"toc-item\"><li><span><a href=\"#Atributos-de-los-arrays-de-Numpy\" data-toc-modified-id=\"Atributos-de-los-arrays-de-Numpy-2.2.1\"><span class=\"toc-item-num\">2.2.1&nbsp;&nbsp;</span>Atributos de los arrays de Numpy</a></span></li><li><span><a href=\"#Indexación-de-matrices:-Acceso-a-elementos-individuales\" data-toc-modified-id=\"Indexación-de-matrices:-Acceso-a-elementos-individuales-2.2.2\"><span class=\"toc-item-num\">2.2.2&nbsp;&nbsp;</span>Indexación de matrices: Acceso a elementos individuales</a></span></li><li><span><a href=\"#Array-Slicing:-Accediendo-a-subarrays\" data-toc-modified-id=\"Array-Slicing:-Accediendo-a-subarrays-2.2.3\"><span class=\"toc-item-num\">2.2.3&nbsp;&nbsp;</span>Array Slicing: Accediendo a subarrays</a></span><ul class=\"toc-item\"><li><span><a href=\"#Subarrays-unidimensionales\" data-toc-modified-id=\"Subarrays-unidimensionales-2.2.3.1\"><span class=\"toc-item-num\">2.2.3.1&nbsp;&nbsp;</span>Subarrays unidimensionales</a></span></li><li><span><a href=\"#Subarrays-multidimensionales\" data-toc-modified-id=\"Subarrays-multidimensionales-2.2.3.2\"><span class=\"toc-item-num\">2.2.3.2&nbsp;&nbsp;</span>Subarrays multidimensionales</a></span></li></ul></li><li><span><a href=\"#Creando-copias-de-arrays\" data-toc-modified-id=\"Creando-copias-de-arrays-2.2.4\"><span class=\"toc-item-num\">2.2.4&nbsp;&nbsp;</span>Creando copias de arrays</a></span></li><li><span><a href=\"#Redimensionando-arrays\" data-toc-modified-id=\"Redimensionando-arrays-2.2.5\"><span class=\"toc-item-num\">2.2.5&nbsp;&nbsp;</span>Redimensionando arrays</a></span></li><li><span><a href=\"#Concatenación-de-arrays\" data-toc-modified-id=\"Concatenación-de-arrays-2.2.6\"><span class=\"toc-item-num\">2.2.6&nbsp;&nbsp;</span>Concatenación de arrays</a></span></li></ul></li><li><span><a href=\"#Ejemplos-de-UFuncs\" data-toc-modified-id=\"Ejemplos-de-UFuncs-2.3\"><span class=\"toc-item-num\">2.3&nbsp;&nbsp;</span>Ejemplos de UFuncs</a></span><ul class=\"toc-item\"><li><ul class=\"toc-item\"><li><span><a href=\"#Aritmética-de-arrays\" data-toc-modified-id=\"Aritmética-de-arrays-2.3.0.1\"><span class=\"toc-item-num\">2.3.0.1&nbsp;&nbsp;</span>Aritmética de arrays</a></span></li></ul></li></ul></li><li><span><a href=\"#Selección-de-datos-e-indexación-avanzada\" data-toc-modified-id=\"Selección-de-datos-e-indexación-avanzada-2.4\"><span class=\"toc-item-num\">2.4&nbsp;&nbsp;</span>Selección de datos e indexación avanzada</a></span><ul class=\"toc-item\"><li><span><a href=\"#Operaciones-lógicas\" data-toc-modified-id=\"Operaciones-lógicas-2.4.1\"><span class=\"toc-item-num\">2.4.1&nbsp;&nbsp;</span>Operaciones lógicas</a></span></li><li><span><a href=\"#Máscaras\" data-toc-modified-id=\"Máscaras-2.4.2\"><span class=\"toc-item-num\">2.4.2&nbsp;&nbsp;</span>Máscaras</a></span></li><li><span><a href=\"#Indexación-selectiva\" data-toc-modified-id=\"Indexación-selectiva-2.4.3\"><span class=\"toc-item-num\">2.4.3&nbsp;&nbsp;</span>Indexación selectiva</a></span></li></ul></li><li><span><a href=\"#Introducción-al-broadcasting-(difusión)\" data-toc-modified-id=\"Introducción-al-broadcasting-(difusión)-2.5\"><span class=\"toc-item-num\">2.5&nbsp;&nbsp;</span>Introducción al <em>broadcasting</em> (difusión)</a></span></li></ul></li></ul></div>"
   ]
  },
  {
   "cell_type": "markdown",
   "metadata": {},
   "source": [
    "# Introducción a NumPy"
   ]
  },
  {
   "cell_type": "markdown",
   "metadata": {},
   "source": [
    "Este notebook describe las técnicas para cargar, almacenar y manipular eficazmente datos en memoria en Python.\n",
    "El tema es muy amplio: los conjuntos de datos pueden provenir de una amplia gama de fuentes y una amplia gama de formatos, incluyendo colecciones de documentos, colecciones de imágenes, colecciones de clips de sonido, colecciones de medidas numéricas, o casi cualquier otra cosa. A pesar de esta aparente heterogeneidad, nos ayudará pensar en todos los datos fundamentalmente como matrices de números.\n",
    "\n",
    "Por ejemplo, las imágenes digitales pueden considerarse simplemente como matrices bidimensionales de números que representan el brillo de los píxeles en la zona. Los clips de sonido pueden considerarse matrices unidimensionales de intensidad en función del tiempo. El texto puede convertirse de varias maneras en representaciones numéricas, tal vez en dígitos binarios que representan la frecuencia de ciertas palabras o pares de palabras.\n",
    "Sean cuales sean los datos, el primer paso para hacerlos analizables será transformarlos en matrices de números.\n",
    "\n",
    "Por esta razón, el almacenamiento y la manipulación eficiente de matrices numéricas es absolutamente fundamental para el proceso de hacer ciencia de datos. A continuación veremos las herramientas especializadas que tiene Python para manejar dichos arrays numéricos: el paquete NumPy, y el paquete Pandas.\n",
    "\n",
    "NumPy proporciona una interfaz eficiente para almacenar y operar con arrays de datos densos. En cierto modo, los arrays de NumPy son como el tipo ``list`` de Python, pero los arrays de NumPy proporcionan un almacenamiento y unas operaciones de datos mucho más eficientes a medida que los arrays crecen en tamaño. Las matrices NumPy forman el núcleo de casi todo el ecosistema de herramientas de ciencia de datos en Python, por lo que el tiempo dedicado a aprender a utilizar NumPy de forma eficaz será valioso independientemente del aspecto de la ciencia de datos que te interese.\n",
    "\n",
    "NumPy proporciona rutinas básicas y estructuras de datos optimizadas para manipular datos numéricos multidimensionales, y está implementado en gran medida en código C pre-compilado. \n",
    "Su eficiencia en el procesamiento datos hace que NumPy sea utilizado internamente por muchas otras librerías de computación numérica de Python como `SciPy`, `matplotlib` o `pandas`.\n",
    "\n",
    "\n",
    "En esta sección, motivaremos el uso de NumPy e introduciremos los aspectos básicos de los arrays de NumPy, llamados `ndarray`. Por su parte, el apéndice de este notebook amplía la breve introducción a NumPy que veremos a continuación, con el fin de cubrir aspectos adicionales sobre su uso que permitan a este notebook servir como punto de partida en el aprendizaje de la computación numérica con Python.\n"
   ]
  },
  {
   "cell_type": "code",
   "execution_count": null,
   "metadata": {},
   "outputs": [],
   "source": [
    "import numpy\n",
    "numpy.__version__"
   ]
  },
  {
   "cell_type": "markdown",
   "metadata": {},
   "source": [
    "Lo habitual es simplificar el nombre del paquete a una abreviatura que ya se considera estándar."
   ]
  },
  {
   "cell_type": "code",
   "execution_count": null,
   "metadata": {},
   "outputs": [],
   "source": [
    "import numpy as np"
   ]
  },
  {
   "cell_type": "markdown",
   "metadata": {},
   "source": [
    "Esta es la forma habitual de importar el módulo numpy."
   ]
  },
  {
   "cell_type": "markdown",
   "metadata": {},
   "source": [
    "## Entendiendo los tipos de datos de Python"
   ]
  },
  {
   "cell_type": "markdown",
   "metadata": {},
   "source": [
    "### Un entero en Python es más que un entero\n",
    "\n",
    "La implementación estándar de Python está escrita en C.\n",
    "Esto significa que cada objeto de Python es simplemente una estructura de C inteligentemente disfrazada, que contiene no sólo su valor, sino también otra información. Por ejemplo, cuando definimos un entero en Python, como ``x = 10000``, ``x`` no es sólo un entero \"en bruto\". En realidad es un puntero a una estructura compuesta en C, que contiene varios valores. Mirando el código fuente de Python, encontramos que la definición del tipo entero (largo) se ve efectivamente así (una vez que las macros C se expanden):\n",
    "\n",
    "```C\n",
    "struct _longobject {\n",
    "    long ob_refcnt;\n",
    "    PyTypeObject *ob_type;\n",
    "    size_t ob_size;\n",
    "    long ob_digit[1];\n",
    "};\n",
    "```\n",
    "\n",
    "Un único entero en Python contiene en realidad cuatro partes:\n",
    "\n",
    "- ``ob_refcnt``, un recuento de referencias que ayuda a Python a manejar silenciosamente la asignación y liberación de memoria\n",
    "- ``ob_type``, que codifica el tipo de la variable\n",
    "- ``ob_size``, que especifica el tamaño de los siguientes miembros de datos\n",
    "- ``ob_digit``, que contiene el valor entero real que esperamos que represente la variable de Python.\n",
    "\n",
    "Esto significa que hay una cierta sobrecarga en el almacenamiento de un entero en Python en comparación con un entero en un lenguaje compilado como C, como se ilustra en la siguiente figura:\n"
   ]
  },
  {
   "cell_type": "markdown",
   "metadata": {},
   "source": [
    "![Integer Memory Layout](figures/cint_vs_pyint.png)"
   ]
  },
  {
   "cell_type": "markdown",
   "metadata": {},
   "source": [
    "Aquí ``PyObject_HEAD`` es la parte de la estructura que contiene el recuento de referencias, el código de tipo y otras piezas mencionadas anteriormente.\n",
    "\n",
    "Fíjate en la diferencia: un entero en C es esencialmente una etiqueta para una posición en memoria cuyos bytes codifican un valor entero.\n",
    "Un entero de Python es un puntero a una posición en memoria que contiene toda la información del objeto de Python, incluyendo los bytes que contienen el valor del entero.\n",
    "Esta información adicional en la estructura de enteros de Python es lo que permite codificar Python de forma tan libre y dinámica.\n",
    "Sin embargo, toda esta información adicional en los tipos de Python tiene un coste, que se hace especialmente evidente en las estructuras que combinan muchos de estos objetos."
   ]
  },
  {
   "cell_type": "markdown",
   "metadata": {},
   "source": [
    "### Una lista de Python es más que una lista\n",
    "\n",
    "Consideremos ahora lo que sucede cuando usamos una estructura de datos de Python que contiene muchos objetos de Python. El contenedor multi-elemento mutable estándar en Python es la lista. Podemos crear una lista de enteros de la siguiente manera:"
   ]
  },
  {
   "cell_type": "code",
   "execution_count": null,
   "metadata": {},
   "outputs": [],
   "source": [
    "L = list(range(10))\n",
    "L"
   ]
  },
  {
   "cell_type": "code",
   "execution_count": null,
   "metadata": {},
   "outputs": [],
   "source": [
    "type(L[0])"
   ]
  },
  {
   "cell_type": "markdown",
   "metadata": {},
   "source": [
    "Recordemos que, debido al tipado dinámico de Python, también podemos definir una lista de varios tipos diferentes."
   ]
  },
  {
   "cell_type": "code",
   "execution_count": null,
   "metadata": {},
   "outputs": [],
   "source": [
    "L3 = [True, \"2\", 3.0, 4]\n",
    "[type(item) for item in L3]"
   ]
  },
  {
   "cell_type": "markdown",
   "metadata": {},
   "source": [
    "Pero esta flexibilidad tiene un precio: para permitir estos tipos flexibles, cada elemento de la lista debe contener su propia información de tipo, número de referencias y otra información adicional, es decir, cada elemento es un objeto Python completo. En el caso especial de que todas las variables sean del mismo tipo, mucha de esta información es redundante: puede ser mucho más eficiente almacenar los datos en un array de tipo fijo.\n",
    "La diferencia entre una lista de tipo dinámico y una matriz de tipo fijo (estilo NumPy) se ilustra en la siguiente figura:"
   ]
  },
  {
   "cell_type": "markdown",
   "metadata": {},
   "source": [
    "![Array Memory Layout](figures/array_vs_list.png)"
   ]
  },
  {
   "cell_type": "markdown",
   "metadata": {},
   "source": [
    "A nivel de implementación, el array contiene esencialmente un único puntero a un bloque contiguo de datos.\n",
    "La lista de Python, por otro lado, contiene un puntero a un bloque de punteros, cada uno de los cuales apunta a su vez a un objeto completo de Python como el entero de Python que vimos antes.\n",
    "De nuevo, la ventaja de la lista es la flexibilidad: como cada elemento de la lista es una estructura completa que contiene tanto datos como información de tipo, la lista puede llenarse con datos de cualquier tipo deseado.\n",
    "Las matrices de tipo fijo al estilo de NumPy carecen de esta flexibilidad, pero son mucho más eficientes para almacenar y manipular datos."
   ]
  },
  {
   "cell_type": "markdown",
   "metadata": {},
   "source": [
    "## Los arrays de NumPy\n",
    "En primer lugar, podemos utilizar ``np.array`` para crear arrays a partir de listas de Python:"
   ]
  },
  {
   "cell_type": "code",
   "execution_count": null,
   "metadata": {},
   "outputs": [],
   "source": [
    "# integer array:\n",
    "np.array([1, 4, 2, 5, 3])"
   ]
  },
  {
   "cell_type": "markdown",
   "metadata": {},
   "source": [
    "Sin embargo, ahora no podemos mezclar tipos. Si lo hacemos, Numpy intentará usar un tipo suficientemente general como para incluir a todos los elementos. En este caso al poner un float, todo pasa a ser de tipo float."
   ]
  },
  {
   "cell_type": "code",
   "execution_count": null,
   "metadata": {},
   "outputs": [],
   "source": [
    "np.array([3.14, 4, 2, 3])"
   ]
  },
  {
   "cell_type": "markdown",
   "metadata": {},
   "source": [
    "Los arrays de NumPy contienen **valores de un solo tipo** (enteros, reales o complejos de distinta precisión). Podemos indicar explícitamente el tipo del array con el argumento ``dtype``:"
   ]
  },
  {
   "cell_type": "code",
   "execution_count": null,
   "metadata": {},
   "outputs": [],
   "source": [
    "np.array([1, 2, 3, 4], dtype='float32')"
   ]
  },
  {
   "cell_type": "markdown",
   "metadata": {},
   "source": [
    "A diferencia de las listas de Python, los arrays de NumPy son de **tamaño fijo**, definido en el momento de su creación."
   ]
  },
  {
   "cell_type": "markdown",
   "metadata": {},
   "source": [
    "Además, los arrays de NumPy pueden ser explícitamente *multidimensionales*, al contrario que las listas (unidimensionales).\n",
    "\n",
    "He aquí una forma de inicializar un array multidimensional usando una lista de listas:"
   ]
  },
  {
   "cell_type": "code",
   "execution_count": null,
   "metadata": {},
   "outputs": [],
   "source": [
    "# nested lists result in multi-dimensional arrays\n",
    "x = np.array([[2, 3, 4], [4, 5, 6], [6, 7, 8]])\n",
    "print(x)"
   ]
  },
  {
   "cell_type": "markdown",
   "metadata": {},
   "source": [
    "Las listas interiores se tratan como filas de la matriz bidimensional resultante."
   ]
  },
  {
   "cell_type": "code",
   "execution_count": null,
   "metadata": {},
   "outputs": [],
   "source": [
    "print(x[0])\n",
    "print(x[-1]) # Podemos indexar desde la última fila"
   ]
  },
  {
   "cell_type": "markdown",
   "metadata": {},
   "source": [
    "En un array multidimensional, se puede acceder a los elementos utilizando una tupla de índices separada por comas:"
   ]
  },
  {
   "cell_type": "code",
   "execution_count": null,
   "metadata": {},
   "outputs": [],
   "source": [
    "print(x[2,1])"
   ]
  },
  {
   "cell_type": "markdown",
   "metadata": {},
   "source": [
    "Los valores pueden ser modificados con la misma notación:"
   ]
  },
  {
   "cell_type": "code",
   "execution_count": null,
   "metadata": {},
   "outputs": [],
   "source": [
    "x[-1, -2] = 12\n",
    "x"
   ]
  },
  {
   "cell_type": "markdown",
   "metadata": {},
   "source": [
    "Cada array tiene los atributos ``ndim`` (el número de dimensiones), ``shape`` (el tamaño de cada dimensión) y ``size`` (el tamaño total del array):"
   ]
  },
  {
   "cell_type": "code",
   "execution_count": null,
   "metadata": {},
   "outputs": [],
   "source": [
    "print(\"ndim: \", x.ndim)\n",
    "print(\"shape:\", x.shape)\n",
    "print(\"size: \", x.size)"
   ]
  },
  {
   "cell_type": "markdown",
   "metadata": {},
   "source": [
    "Otro atributo útil es el ``dtype``, el tipo de datos del array (del que ya hablamos antes)."
   ]
  },
  {
   "cell_type": "code",
   "execution_count": null,
   "metadata": {},
   "outputs": [],
   "source": [
    "print(\"dtype:\", x.dtype)"
   ]
  },
  {
   "cell_type": "markdown",
   "metadata": {},
   "source": [
    "Otros atributos son ``itemsize``, que indica el tamaño (en bytes) de cada elemento del array, y ``nbytes``, que indica el tamaño total (en bytes) del array:"
   ]
  },
  {
   "cell_type": "code",
   "execution_count": null,
   "metadata": {},
   "outputs": [],
   "source": [
    "print(\"itemsize:\", x.itemsize, \"bytes\")\n",
    "print(\"nbytes:\", x.nbytes, \"bytes\")"
   ]
  },
  {
   "cell_type": "markdown",
   "metadata": {},
   "source": [
    "En general, esperamos que ``nbytes`` sea igual a ``itemsize`` por ``size``."
   ]
  },
  {
   "cell_type": "markdown",
   "metadata": {},
   "source": [
    "Ten en cuenta que, a diferencia de las listas de Python, los arrays de NumPy tienen un tipo fijo.\n",
    "Esto significa, por ejemplo, que si intentas insertar un valor de punto flotante en un array de enteros, el valor se truncará silenciosamente."
   ]
  },
  {
   "cell_type": "code",
   "execution_count": null,
   "metadata": {},
   "outputs": [],
   "source": [
    "x[0,0] = 3.14159  # Este valor se truncará a 3\n",
    "x"
   ]
  },
  {
   "cell_type": "markdown",
   "metadata": {},
   "source": [
    "También podemos acceder a subarrays con la notación *slice* que conocemos de las listas Python, marcada por el carácter dos puntos (``:``): para acceder a un trozo de una matriz ``x``, usa esto:\n",
    "``` python\n",
    "x[inicio:parada:paso]\n",
    "```"
   ]
  },
  {
   "cell_type": "code",
   "execution_count": null,
   "metadata": {},
   "outputs": [],
   "source": [
    "y = np.array([ x for x in range(10,20)])\n",
    "y"
   ]
  },
  {
   "cell_type": "code",
   "execution_count": null,
   "metadata": {},
   "outputs": [],
   "source": [
    "y[:2]  # primeros 2 elementos"
   ]
  },
  {
   "cell_type": "code",
   "execution_count": null,
   "metadata": {},
   "outputs": [],
   "source": [
    "y[2:]  # elementos después del índice 2"
   ]
  },
  {
   "cell_type": "code",
   "execution_count": null,
   "metadata": {},
   "outputs": [],
   "source": [
    "y[2:5]  # subarray entre índices 2 y 5"
   ]
  },
  {
   "cell_type": "markdown",
   "metadata": {},
   "source": [
    "Una consideración importante es que los slices de arrays devuelven **vistas** de los datos del array, al contrario que en las listas de Python, donde los slices generan **copias**. Esto permite acceder y procesar trozos de arrays NumPy sin necesidad de copiar el buffer de datos subyacente."
   ]
  },
  {
   "cell_type": "code",
   "execution_count": null,
   "metadata": {},
   "outputs": [],
   "source": [
    "y_sub = y[2:5]\n",
    "y_sub[0] = 0\n",
    "y"
   ]
  },
  {
   "cell_type": "markdown",
   "metadata": {},
   "source": [
    "## Operaciones con arrays Numpy: Universal Functions (UFuncs)"
   ]
  },
  {
   "cell_type": "markdown",
   "metadata": {},
   "source": [
    "NumPy es importante en el mundo de la ciencia de datos de Python porque proporciona una interfaz fácil y flexible para la computación optimizada con arrays de datos. La clave para hacer que la computación con arrays de NumPy sea rápida es usar operaciones *vectorizadas*, generalmente implementadas a través de las *funciones universales* de NumPy (*ufuncs*) que pueden usarse para hacer cálculos repetidos sobre elementos del array de una forma mucho más eficiente."
   ]
  },
  {
   "cell_type": "code",
   "execution_count": null,
   "metadata": {},
   "outputs": [],
   "source": [
    "import numpy as np\n",
    "np.random.seed(0)\n",
    "\n",
    "def compute_reciprocals(values):\n",
    "    output = np.empty(len(values))\n",
    "    for i in range(len(values)):\n",
    "        output[i] = 1.0 / values[i]\n",
    "    return output\n",
    "        \n",
    "values = np.random.randint(1, 10, size=5)\n",
    "print(values)\n",
    "compute_reciprocals(values)"
   ]
  },
  {
   "cell_type": "markdown",
   "metadata": {},
   "source": [
    "Esta implementación probablemente resulte bastante natural para alguien que tenga, por ejemplo, conocimientos de C o Java. Pero si medimos el tiempo de ejecución de este código para una entrada grande, vemos que esta operación es muy lenta; sorprendentemente lenta.\n",
    "Vamos a comparar esto con la orden *mágica* ``%timeit`` del notebook, que nos permite saber lo que tarda en ejecutarse la orden que la sigue."
   ]
  },
  {
   "cell_type": "code",
   "execution_count": null,
   "metadata": {},
   "outputs": [],
   "source": [
    "big_array = np.random.randint(1, 100, size=1000000)\n",
    "%timeit compute_reciprocals(big_array)"
   ]
  },
  {
   "cell_type": "markdown",
   "metadata": {},
   "source": [
    "El tiempo empleado en el cálculo de 10 millones de operaciones puede variar dependiendo del entorno en que se ejecute; en el mejor de los casos, supera ampliamente el segundo de duración. Cuando incluso los teléfonos móviles tienen velocidades de procesamiento que se miden en Giga-FLOPS (miles de millones de operaciones por segundo), vemos que resulta absurdamente lento. El cuello de botella aquí no son las operaciones en sí, sino la comprobación dinámica de tipos y los envíos de funciones que Python debe hacer en cada ciclo del bucle. Cada vez que se calcula el recíproco, Python examina primero el tipo del objeto y hace una búsqueda dinámica de la función correcta a utilizar para ese tipo.\n",
    "Si estuviéramos trabajando en código compilado, esta especificación de tipo sería conocida antes de que el código se ejecute y el resultado podría ser calculado mucho más eficientemente. Todo eso sin olvidar que los arrays NumPy almacenan los elementos en memoria densamente empaquetados, por lo que consigue los beneficios en términos de rendimiento derivados del principio de localidad de referencia."
   ]
  },
  {
   "cell_type": "markdown",
   "metadata": {},
   "source": [
    "Para muchos tipos de operaciones, NumPy proporciona un interfaz a una versión de cada rutina ya compilada para cada tipo de datos para hacerla sumamente eficiente. Esto se conoce como una operación *vectorizada*. Esto puede lograrse simplemente operando directamente con el array, sabiendo que esa operación se aplicará a cada elemento por separado.\n",
    "Este enfoque vectorizado está diseñado para llevar el bucle hasta la capa compilada que tiene por debajo NumPy, lo que lleva a una ejecución mucho más rápida."
   ]
  },
  {
   "cell_type": "markdown",
   "metadata": {},
   "source": [
    "*NOTA: En el contexto de lenguajes de programación de alto nivel como Python, Matlab o R, el término **vectorizado** hace referencia al uso de código pre-compilado optimizado, escrito en un lenguaje de más bajo nivel (por ejemplo, C) con el fin de realizar operaciones matemáticas sobre una secuencia de datos, sustituyendo las iteraciones explícitas escritas en el código del lenguaje nativo (e.g., un bucle for en Python).*"
   ]
  },
  {
   "cell_type": "markdown",
   "metadata": {},
   "source": [
    "Para ilustrar la diferencia, comparemos los resultados de las dos operaciones siguientes y su tiempo de ejecución:"
   ]
  },
  {
   "cell_type": "code",
   "execution_count": null,
   "metadata": {},
   "outputs": [],
   "source": [
    "print(compute_reciprocals(values))\n",
    "print(1.0 / values) # true_divide ufunc in NumPy"
   ]
  },
  {
   "cell_type": "markdown",
   "metadata": {},
   "source": [
    "Si observamos el tiempo de ejecución de nuestro gran array, vemos que se completa órdenes de magnitud más rápido que el bucle de Python:"
   ]
  },
  {
   "cell_type": "code",
   "execution_count": null,
   "metadata": {},
   "outputs": [],
   "source": [
    "%timeit (1.0 / big_array)"
   ]
  },
  {
   "cell_type": "markdown",
   "metadata": {},
   "source": [
    "Las operaciones vectoriales en NumPy se implementan a través de *ufuncs*, cuyo propósito principal es ejecutar rápidamente operaciones repetidas sobre valores en arrays de NumPy.\n",
    "Las *ufuncs* son extremadamente flexibles - antes vimos una operación entre un escalar y un array, pero también podemos operar entre dos arrays:"
   ]
  },
  {
   "cell_type": "code",
   "execution_count": null,
   "metadata": {},
   "outputs": [],
   "source": [
    "np.arange(5) / np.arange(1, 6)  # divide elemento a elemento los dos arrays"
   ]
  },
  {
   "cell_type": "markdown",
   "metadata": {},
   "source": [
    "Con esto podemos ver la importancia"
   ]
  },
  {
   "cell_type": "markdown",
   "metadata": {},
   "source": [
    "# Apéndice"
   ]
  },
  {
   "cell_type": "markdown",
   "metadata": {},
   "source": [
    "## Creación de arrays en NumPy"
   ]
  },
  {
   "cell_type": "markdown",
   "metadata": {},
   "source": [
    "### Creación de arrays a partir de listas de Python\n",
    "\n",
    "En primer lugar, podemos utilizar ``np.array`` para crear arrays a partir de listas de Python:"
   ]
  },
  {
   "cell_type": "code",
   "execution_count": null,
   "metadata": {},
   "outputs": [],
   "source": [
    "# integer array:\n",
    "np.array([1, 4, 2, 5, 3])"
   ]
  },
  {
   "cell_type": "markdown",
   "metadata": {},
   "source": [
    "Sin embargo, ahora no podemos mezclar tipos. Si lo hacemos, Numpy intentará usar un tipo suficientemente general como para incluir a todos los elementos. En este caso al poner un float, todo pasa a ser de tipo float."
   ]
  },
  {
   "cell_type": "code",
   "execution_count": null,
   "metadata": {},
   "outputs": [],
   "source": [
    "np.array([3.14, 4, 2, 3])"
   ]
  },
  {
   "cell_type": "markdown",
   "metadata": {},
   "source": [
    "Podemos indicar explícitamente el tipo del array con el argumento ``dtype``:"
   ]
  },
  {
   "cell_type": "code",
   "execution_count": null,
   "metadata": {},
   "outputs": [],
   "source": [
    "np.array([1, 2, 3, 4], dtype='float32')"
   ]
  },
  {
   "cell_type": "markdown",
   "metadata": {},
   "source": [
    "Finalmente, a diferencia de las listas de Python, los arrays de NumPy pueden ser explícitamente multidimensionales; he aquí una forma de inicializar un array multidimensional usando una lista de listas:"
   ]
  },
  {
   "cell_type": "code",
   "execution_count": null,
   "metadata": {},
   "outputs": [],
   "source": [
    "# nested lists result in multi-dimensional arrays\n",
    "np.array([[2, 3, 4], [4, 5, 6], [6, 7, 8]])"
   ]
  },
  {
   "cell_type": "markdown",
   "metadata": {},
   "source": [
    "Las listas interiores se tratan como filas de la matriz bidimensional resultante."
   ]
  },
  {
   "cell_type": "markdown",
   "metadata": {},
   "source": [
    "### Creación de Arrays desde cero\n",
    "\n",
    "Especialmente para los arrays más grandes, es más eficiente crear arrays desde cero utilizando las rutinas incorporadas en NumPy. Aquí hay varios ejemplos:"
   ]
  },
  {
   "cell_type": "code",
   "execution_count": null,
   "metadata": {},
   "outputs": [],
   "source": [
    "# Crea una matriz de enteros de longitud 10 llena de ceros\n",
    "np.zeros(10, dtype=int)"
   ]
  },
  {
   "cell_type": "code",
   "execution_count": null,
   "metadata": {},
   "outputs": [],
   "source": [
    "# Crea una matriz de 3x5 puntos flotantes llena de unos\n",
    "np.ones((3, 5), dtype=float)"
   ]
  },
  {
   "cell_type": "code",
   "execution_count": null,
   "metadata": {},
   "outputs": [],
   "source": [
    "# Crea una matriz de 3x5 llena de 3,14\n",
    "np.full((3, 5), 3.14)"
   ]
  },
  {
   "cell_type": "code",
   "execution_count": null,
   "metadata": {},
   "outputs": [],
   "source": [
    "# Crea un array lleno de una secuencia lineal\n",
    "# Empezando en 0, terminando en 20, pasando por 2\n",
    "# (esto es similar a la función incorporada range())\n",
    "np.arange(0, 20, 2)"
   ]
  },
  {
   "cell_type": "code",
   "execution_count": null,
   "metadata": {},
   "outputs": [],
   "source": [
    "# Crear una matriz de cinco valores espaciados uniformemente entre 0 y 1\n",
    "np.linspace(0, 1, 5)"
   ]
  },
  {
   "cell_type": "code",
   "execution_count": null,
   "metadata": {},
   "outputs": [],
   "source": [
    "# Crear una matriz de 3x3 de valores distribuidos uniformemente\n",
    "# valores aleatorios entre 0 y 1\n",
    "np.random.random((3, 3))"
   ]
  },
  {
   "cell_type": "code",
   "execution_count": null,
   "metadata": {},
   "outputs": [],
   "source": [
    "# Crear una matriz 3x3 de valores aleatorios normalmente distribuidos\n",
    "# con media 0 y desviación estándar 1\n",
    "np.random.normal(0, 1, (3, 3))"
   ]
  },
  {
   "cell_type": "code",
   "execution_count": null,
   "metadata": {},
   "outputs": [],
   "source": [
    "# Crea una matriz 3x3 de enteros aleatorios en el intervalo [0, 10)\n",
    "np.random.randint(0, 10, (3, 3))"
   ]
  },
  {
   "cell_type": "code",
   "execution_count": null,
   "metadata": {},
   "outputs": [],
   "source": [
    "# Crea una matriz de identidad 3x3\n",
    "np.eye(3)"
   ]
  },
  {
   "cell_type": "code",
   "execution_count": null,
   "metadata": {},
   "outputs": [],
   "source": [
    "# Crea un array no inicializado de tres enteros\n",
    "# Los valores serán los que ya existan en esa posición de memoria\n",
    "np.empty(3)"
   ]
  },
  {
   "cell_type": "markdown",
   "metadata": {},
   "source": [
    "### Tipos de datos estándar de NumPy\n",
    "\n",
    "Los arrays de NumPy contienen valores de un solo tipo, por lo que es importante tener un conocimiento detallado de esos tipos y sus limitaciones. Como NumPy está construido en C, los tipos serán familiares para los usuarios de C.\n",
    "\n",
    "Los tipos de datos estándar de NumPy se enumeran en la siguiente tabla.\n",
    "Ten en cuenta que cuando se construye un array, se pueden especificar utilizando una cadena:\n",
    "\n",
    "```python\n",
    "np.zeros(10, dtype='int16')\n",
    "```\n",
    "\n",
    "O utilizando el objeto NumPy asociado:\n",
    "\n",
    "```python\n",
    "np.zeros(10, dtype=np.int16)\n",
    "```"
   ]
  },
  {
   "cell_type": "markdown",
   "metadata": {},
   "source": [
    "| Tipo de datos\t    | Descripción |\n",
    "|---------------|-------------|\n",
    "| ``bool_``     | Boolean (True o False) almacenado como un byte |\n",
    "| ``int8``      | Byte (-128 to 127)| \n",
    "| ``int16``     | Integer (-32768 to 32767)|\n",
    "| ``int32``     | Integer (-2147483648 to 2147483647)|\n",
    "| ``int64``     | Integer (-9223372036854775808 to 9223372036854775807)| \n",
    "| ``uint8``     | Unsigned integer (0 to 255)| \n",
    "| ``uint16``    | Unsigned integer (0 to 65535)| \n",
    "| ``uint32``    | Unsigned integer (0 to 4294967295)| \n",
    "| ``uint64``    | Unsigned integer (0 to 18446744073709551615)| \n",
    "| ``float32``   | Single precision float| \n",
    "| ``float64``   | Double precision float| \n",
    "| ``complex64`` | Complex number, dos floats de 32-bits| \n",
    "| ``complex128``| Complex number, dos floats de 64-bits| "
   ]
  },
  {
   "cell_type": "markdown",
   "metadata": {},
   "source": [
    "## Manipulación de arrays en Numpy"
   ]
  },
  {
   "cell_type": "markdown",
   "metadata": {},
   "source": [
    "La manipulación de datos en Python es casi sinónimo de manipulación de arrays en NumPy: incluso las herramientas más nuevas como Pandas (que veremos más adelante) están construidas alrededor de los arrays de NumPy.\n",
    "Esta sección presentará varios ejemplos de uso de la manipulación de arrays de NumPy.\n",
    "Los tipos de operaciones que se verán aquí tienen mucho en común con el paquete Pandas, así que no está de más conocerlas.\n"
   ]
  },
  {
   "cell_type": "markdown",
   "metadata": {},
   "source": [
    "### Atributos de los arrays de Numpy"
   ]
  },
  {
   "cell_type": "markdown",
   "metadata": {},
   "source": [
    "Primero vamos a discutir algunos atributos útiles de los arrays.\n",
    "Empezaremos definiendo tres arrays aleatorios, uno unidimensional, otro bidimensional y otro tridimensional.\n",
    "Utilizaremos el generador de números aleatorios de NumPy, que *sembraremos* con un valor establecido para asegurar que se generen las mismas matrices aleatorias cada vez que se ejecute este código:"
   ]
  },
  {
   "cell_type": "code",
   "execution_count": null,
   "metadata": {},
   "outputs": [],
   "source": [
    "import numpy as np\n",
    "np.random.seed(0)  # semilla para reproducibilidad. Numpy tiene submódulos como random.\n",
    "\n",
    "x1 = np.random.randint(10, size=6)  # Array unidimensional\n",
    "x2 = np.random.randint(10, size=(3, 4))  # Array bidimensional\n",
    "x3 = np.random.randint(10, size=(3, 4, 5))  # Array tridimensional"
   ]
  },
  {
   "cell_type": "markdown",
   "metadata": {},
   "source": [
    "Cada array tiene los atributos ``ndim`` (el número de dimensiones), ``shape`` (el tamaño de cada dimensión) y ``size`` (el tamaño total del array):"
   ]
  },
  {
   "cell_type": "code",
   "execution_count": null,
   "metadata": {},
   "outputs": [],
   "source": [
    "print(\"x3 ndim: \", x3.ndim)\n",
    "print(\"x3 shape:\", x3.shape)\n",
    "print(\"x3 size: \", x3.size)"
   ]
  },
  {
   "cell_type": "markdown",
   "metadata": {},
   "source": [
    "Otro atributo útil es el ``dtype``, el tipo de datos del array (del que ya hablamos antes)."
   ]
  },
  {
   "cell_type": "code",
   "execution_count": null,
   "metadata": {},
   "outputs": [],
   "source": [
    "print(\"dtype:\", x3.dtype)"
   ]
  },
  {
   "cell_type": "markdown",
   "metadata": {},
   "source": [
    "Otros atributos son ``itemsize``, que indica el tamaño (en bytes) de cada elemento del array, y ``nbytes``, que indica el tamaño total (en bytes) del array:"
   ]
  },
  {
   "cell_type": "code",
   "execution_count": null,
   "metadata": {},
   "outputs": [],
   "source": [
    "print(\"itemsize:\", x3.itemsize, \"bytes\")\n",
    "print(\"nbytes:\", x3.nbytes, \"bytes\")"
   ]
  },
  {
   "cell_type": "markdown",
   "metadata": {},
   "source": [
    "En general, esperamos que ``nbytes`` sea igual a ``itemsize`` por ``size``."
   ]
  },
  {
   "cell_type": "markdown",
   "metadata": {},
   "source": [
    "### Indexación de matrices: Acceso a elementos individuales"
   ]
  },
  {
   "cell_type": "markdown",
   "metadata": {},
   "source": [
    "Los arrays de Numpy se indexan exactamente igual que las listas de Python, así que ya estamos familiarizados con ellos."
   ]
  },
  {
   "cell_type": "code",
   "execution_count": null,
   "metadata": {},
   "outputs": [],
   "source": [
    "x1"
   ]
  },
  {
   "cell_type": "code",
   "execution_count": null,
   "metadata": {},
   "outputs": [],
   "source": [
    "x1[0]"
   ]
  },
  {
   "cell_type": "code",
   "execution_count": null,
   "metadata": {},
   "outputs": [],
   "source": [
    "x1[4]"
   ]
  },
  {
   "cell_type": "markdown",
   "metadata": {},
   "source": [
    "Por supuesto, podemos usar números negativos para indexar desde el final del array."
   ]
  },
  {
   "cell_type": "code",
   "execution_count": null,
   "metadata": {},
   "outputs": [],
   "source": [
    "x1[-1]"
   ]
  },
  {
   "cell_type": "code",
   "execution_count": null,
   "metadata": {},
   "outputs": [],
   "source": [
    "x1[-2]"
   ]
  },
  {
   "cell_type": "markdown",
   "metadata": {},
   "source": [
    "En un array multidimensional, se puede acceder a los elementos utilizando una tupla de índices separada por comas:"
   ]
  },
  {
   "cell_type": "code",
   "execution_count": null,
   "metadata": {},
   "outputs": [],
   "source": [
    "x2"
   ]
  },
  {
   "cell_type": "code",
   "execution_count": null,
   "metadata": {},
   "outputs": [],
   "source": [
    "x2[0, 0]"
   ]
  },
  {
   "cell_type": "code",
   "execution_count": null,
   "metadata": {},
   "outputs": [],
   "source": [
    "x2[2, 0]"
   ]
  },
  {
   "cell_type": "code",
   "execution_count": null,
   "metadata": {},
   "outputs": [],
   "source": [
    "x2[2, -1]"
   ]
  },
  {
   "cell_type": "markdown",
   "metadata": {},
   "source": [
    "Los valores pueden ser modificados con la misma notación:"
   ]
  },
  {
   "cell_type": "code",
   "execution_count": null,
   "metadata": {},
   "outputs": [],
   "source": [
    "x2[0, 0] = 12\n",
    "x2"
   ]
  },
  {
   "cell_type": "markdown",
   "metadata": {},
   "source": [
    "Ten en cuenta que, a diferencia de las listas de Python, los arrays de NumPy tienen un tipo fijo.\n",
    "Esto significa, por ejemplo, que si intentas insertar un valor de punto flotante en un array de enteros, el valor se truncará silenciosamente."
   ]
  },
  {
   "cell_type": "code",
   "execution_count": null,
   "metadata": {},
   "outputs": [],
   "source": [
    "x1[0] = 3.14159  # Este valor se truncará a 3\n",
    "x1"
   ]
  },
  {
   "cell_type": "markdown",
   "metadata": {},
   "source": [
    "### Array Slicing: Accediendo a subarrays"
   ]
  },
  {
   "cell_type": "markdown",
   "metadata": {},
   "source": [
    "Al igual que podemos utilizar los corchetes para acceder a elementos individuales de un array, también podemos utilizarlos para acceder a subarrays con la notación *slice*, marcada por el carácter dos puntos (``:``).\n",
    "La sintaxis de los slices de NumPy es la misma que en la lista estándar de Python; para acceder a un trozo de una matriz ``x``:\n",
    "``` python\n",
    "x[inicio:parada:paso]\n",
    "```\n",
    "Si alguno de estos valores no se especifica, por defecto son ``inicio=0``, ``parada=``*``tamaño de la dimensión``*, ``paso=1``.\n",
    "Veremos cómo acceder a las submatrices en una dimensión y en múltiples dimensiones."
   ]
  },
  {
   "cell_type": "markdown",
   "metadata": {},
   "source": [
    "####  Subarrays unidimensionales"
   ]
  },
  {
   "cell_type": "code",
   "execution_count": null,
   "metadata": {},
   "outputs": [],
   "source": [
    "x = np.arange(10)\n",
    "x"
   ]
  },
  {
   "cell_type": "code",
   "execution_count": null,
   "metadata": {},
   "outputs": [],
   "source": [
    "x[:5]  # primeros 5 elementos"
   ]
  },
  {
   "cell_type": "code",
   "execution_count": null,
   "metadata": {},
   "outputs": [],
   "source": [
    "x[5:]  # elementos después del índice 5"
   ]
  },
  {
   "cell_type": "code",
   "execution_count": null,
   "metadata": {},
   "outputs": [],
   "source": [
    "x[4:7]  # un subarray del medio"
   ]
  },
  {
   "cell_type": "code",
   "execution_count": null,
   "metadata": {},
   "outputs": [],
   "source": [
    "x[::2]  # elementos pares"
   ]
  },
  {
   "cell_type": "code",
   "execution_count": null,
   "metadata": {},
   "outputs": [],
   "source": [
    "x[1::2]  # elementos impares"
   ]
  },
  {
   "cell_type": "markdown",
   "metadata": {},
   "source": [
    "Un caso potencialmente confuso es cuando el valor de ``step`` es negativo.\n",
    "En este caso, los valores por defecto de ``start`` y ``stop`` se intercambian.\n",
    "Esto se convierte en una forma conveniente de invertir un array, como se hacía con las listas:"
   ]
  },
  {
   "cell_type": "code",
   "execution_count": null,
   "metadata": {},
   "outputs": [],
   "source": [
    "x[::-1]  # todos los elementos al revés"
   ]
  },
  {
   "cell_type": "code",
   "execution_count": null,
   "metadata": {},
   "outputs": [],
   "source": [
    "x[5::-2]  # ponemos al revés cada dos elementos desde el índice 5 hasta el comienzo del array"
   ]
  },
  {
   "cell_type": "markdown",
   "metadata": {},
   "source": [
    "#### Subarrays multidimensionales\n",
    "\n",
    "Funcionan de la misma forma, pero separando las slices por comas."
   ]
  },
  {
   "cell_type": "code",
   "execution_count": null,
   "metadata": {},
   "outputs": [],
   "source": [
    "x2"
   ]
  },
  {
   "cell_type": "code",
   "execution_count": null,
   "metadata": {},
   "outputs": [],
   "source": [
    "x2[:2, :3]  # dos filas, tres columnas"
   ]
  },
  {
   "cell_type": "code",
   "execution_count": null,
   "metadata": {},
   "outputs": [],
   "source": [
    "x2[:, ::2]  # todas las filas, columnas pares"
   ]
  },
  {
   "cell_type": "markdown",
   "metadata": {},
   "source": [
    "##### Cómo acceder a una fila o una columna\n",
    "\n",
    "Una de las operaciones más habituales es el acceso a filas o columnas individuales de un array.\n",
    "Esto puede hacerse combinando la indexación y el slice, utilizando un slice vacío marcado con dos puntos (``:``):"
   ]
  },
  {
   "cell_type": "code",
   "execution_count": null,
   "metadata": {},
   "outputs": [],
   "source": [
    "print(x2[:, 0])  # primera columna de x2"
   ]
  },
  {
   "cell_type": "code",
   "execution_count": null,
   "metadata": {},
   "outputs": [],
   "source": [
    "print(x2[0, :])  # primera fila de x2"
   ]
  },
  {
   "cell_type": "markdown",
   "metadata": {},
   "source": [
    "En el caso del acceso a las filas, se puede omitir segundo índice con slice para una notación más compacta:"
   ]
  },
  {
   "cell_type": "code",
   "execution_count": null,
   "metadata": {},
   "outputs": [],
   "source": [
    "print(x2[0])  # equivalente a x2[0, :]"
   ]
  },
  {
   "cell_type": "markdown",
   "metadata": {},
   "source": [
    "### Creando copias de arrays"
   ]
  },
  {
   "cell_type": "markdown",
   "metadata": {},
   "source": [
    "\n",
    "A veces es útil copiar explícitamente los datos dentro de un array o un subarray. Esto se puede hacer más fácilmente con el método ``copy()``:"
   ]
  },
  {
   "cell_type": "code",
   "execution_count": null,
   "metadata": {},
   "outputs": [],
   "source": [
    "x2_sub_copy = x2[:2, :2].copy()\n",
    "print(x2_sub_copy)"
   ]
  },
  {
   "cell_type": "markdown",
   "metadata": {},
   "source": [
    "Si ahora modificamos este subarray, el original no se modifica."
   ]
  },
  {
   "cell_type": "code",
   "execution_count": null,
   "metadata": {},
   "outputs": [],
   "source": [
    "x2_sub_copy[0, 0] = 42\n",
    "print(x2_sub_copy)"
   ]
  },
  {
   "cell_type": "code",
   "execution_count": null,
   "metadata": {},
   "outputs": [],
   "source": [
    "print(x2)"
   ]
  },
  {
   "cell_type": "markdown",
   "metadata": {},
   "source": [
    "### Redimensionando arrays\n",
    "\n",
    "Otro tipo de operación útil es la remodelación de arrays.\n",
    "La forma más flexible de hacerlo es con el método ``reshape``.\n",
    "Por ejemplo, si quieres poner los números del 1 al 9 en una matriz de $3 \\times 3$, puedes hacer lo siguiente:"
   ]
  },
  {
   "cell_type": "code",
   "execution_count": null,
   "metadata": {},
   "outputs": [],
   "source": [
    "grid = np.arange(1, 10).reshape((3, 3))\n",
    "print(grid)"
   ]
  },
  {
   "cell_type": "markdown",
   "metadata": {},
   "source": [
    "Ten en cuenta que para que esto funcione, el tamaño del array inicial debe coincidir con el tamaño del array redimensionado. Siempre que sea posible, el método ``reshape`` utilizará una vista del array inicial, pero esto no siempre es así.\n",
    "\n",
    "Otro patrón común de redimensionado es la conversión de un array unidimensional en una matriz bidimensional de filas o columnas. Esto puede hacerse con el método ``reshape``, o más fácilmente haciendo uso de la palabra clave ``newaxis`` dentro de una operación de slice:"
   ]
  },
  {
   "cell_type": "code",
   "execution_count": null,
   "metadata": {},
   "outputs": [],
   "source": [
    "x = np.array([1, 2, 3])\n",
    "\n",
    "# lo convertimos en una matriz con una única fila\n",
    "x.reshape((1, 3))"
   ]
  },
  {
   "cell_type": "code",
   "execution_count": null,
   "metadata": {},
   "outputs": [],
   "source": [
    "# podemos hacer lo mismos con newaxis\n",
    "x[np.newaxis, :]"
   ]
  },
  {
   "cell_type": "code",
   "execution_count": null,
   "metadata": {},
   "outputs": [],
   "source": [
    "# para convertirlo en una matriz con una única columna\n",
    "x.reshape((3, 1))"
   ]
  },
  {
   "cell_type": "code",
   "execution_count": null,
   "metadata": {},
   "outputs": [],
   "source": [
    "# de la misma forma se puede hacer con newaxis\n",
    "x[:, np.newaxis]"
   ]
  },
  {
   "cell_type": "markdown",
   "metadata": {},
   "source": [
    "Este tipo de transformaciones son muy utilizadas cuando queremos realizar cálculos con datos en arrays."
   ]
  },
  {
   "cell_type": "markdown",
   "metadata": {},
   "source": [
    "### Concatenación de arrays\n",
    "\n",
    "Todo lo anterior ha funcionado con arrays individuales. También es posible combinar múltiples arrays en uno solo."
   ]
  },
  {
   "cell_type": "markdown",
   "metadata": {},
   "source": [
    "La concatenación, o unión de dos arrays en NumPy, se realiza principalmente con las rutinas ``np.concatenate``, ``np.vstack`` y ``np.hstack``.\n",
    "``np.concatenate`` toma una tupla o lista de arrays como primer argumento, como podemos ver aquí:"
   ]
  },
  {
   "cell_type": "code",
   "execution_count": null,
   "metadata": {},
   "outputs": [],
   "source": [
    "x = np.array([1, 2, 3])\n",
    "y = np.array([3, 2, 1])\n",
    "np.concatenate([x, y])"
   ]
  },
  {
   "cell_type": "markdown",
   "metadata": {},
   "source": [
    "También puedes concatenar más de dos arrays a la vez:"
   ]
  },
  {
   "cell_type": "code",
   "execution_count": null,
   "metadata": {},
   "outputs": [],
   "source": [
    "z = [99, 99, 99]\n",
    "print(np.concatenate([x, y, z]))"
   ]
  },
  {
   "cell_type": "markdown",
   "metadata": {},
   "source": [
    "Y también puede usarse para arrays de más dimensiones:"
   ]
  },
  {
   "cell_type": "code",
   "execution_count": null,
   "metadata": {},
   "outputs": [],
   "source": [
    "grid = np.array([[1, 2, 3],\n",
    "                 [4, 5, 6]])"
   ]
  },
  {
   "cell_type": "code",
   "execution_count": null,
   "metadata": {},
   "outputs": [],
   "source": [
    "# concatena a lo largo del primer eje\n",
    "np.concatenate([grid, grid])"
   ]
  },
  {
   "cell_type": "code",
   "execution_count": null,
   "metadata": {},
   "outputs": [],
   "source": [
    "# concatena a lo largo del segundo eje (los ejes se numeran a partir de 0)\n",
    "np.concatenate([grid, grid], axis=1)"
   ]
  },
  {
   "cell_type": "markdown",
   "metadata": {},
   "source": [
    "Para trabajar con arrays de dimensiones mixtas, puede ser más claro utilizar las funciones ``np.vstack`` (apilado vertical) y ``np.hstack`` (apilado horizontal):"
   ]
  },
  {
   "cell_type": "code",
   "execution_count": null,
   "metadata": {},
   "outputs": [],
   "source": [
    "x = np.array([1, 2, 3])\n",
    "grid = np.array([[9, 8, 7],\n",
    "                 [6, 5, 4]])\n",
    "\n",
    "# apila verticalmente los arrays\n",
    "np.vstack([x, grid])"
   ]
  },
  {
   "cell_type": "code",
   "execution_count": null,
   "metadata": {},
   "outputs": [],
   "source": [
    "# apila horizontalmente los arrays\n",
    "y = np.array([[99],\n",
    "              [99]])\n",
    "np.hstack([grid, y])"
   ]
  },
  {
   "cell_type": "markdown",
   "metadata": {},
   "source": [
    "## Ejemplos de UFuncs\n",
    "\n",
    "Hay *ufuncs* unitarias y binarias, como los operadores habituales. Vamos a ver unas cuantas como ilustración."
   ]
  },
  {
   "cell_type": "markdown",
   "metadata": {},
   "source": [
    "#### Aritmética de arrays\n",
    "\n",
    "Las *ufuncs* de NumPy se usan con naturalidad porque hacen uso de los operadores aritméticos nativos de Python.\n",
    "Se puede utilizar la suma, la resta, la multiplicación y la división estándar:"
   ]
  },
  {
   "cell_type": "code",
   "execution_count": null,
   "metadata": {},
   "outputs": [],
   "source": [
    "x = np.arange(4)\n",
    "print(\"x     =\", x)\n",
    "print(\"x + 5 =\", x + 5)\n",
    "print(\"x - 5 =\", x - 5)\n",
    "print(\"x * 2 =\", x * 2)\n",
    "print(\"x / 2 =\", x / 2)\n",
    "print(\"x // 2 =\", x // 2)  # floor division"
   ]
  },
  {
   "cell_type": "markdown",
   "metadata": {},
   "source": [
    "También hay otras operaciones, como la potencia o el módulo, o un operador negativo unitario."
   ]
  },
  {
   "cell_type": "code",
   "execution_count": null,
   "metadata": {},
   "outputs": [],
   "source": [
    "print(\"-x     = \", -x)\n",
    "print(\"x ** 2 = \", x ** 2)\n",
    "print(\"x % 2  = \", x % 2)"
   ]
  },
  {
   "cell_type": "markdown",
   "metadata": {},
   "source": [
    "Además, se pueden encadenar como se quiera y se respeta el orden estándar de las operaciones:"
   ]
  },
  {
   "cell_type": "code",
   "execution_count": null,
   "metadata": {},
   "outputs": [],
   "source": [
    "-(0.5*x + 1) ** 2"
   ]
  },
  {
   "cell_type": "markdown",
   "metadata": {},
   "source": [
    "Cada una de estas operaciones aritméticas son simplemente *wrappers* alrededor de funciones específicas construidas en NumPy; por ejemplo, el operador ``+`` es un *wrapper* para la función ``add``:"
   ]
  },
  {
   "cell_type": "code",
   "execution_count": null,
   "metadata": {},
   "outputs": [],
   "source": [
    "np.add(x, 2)"
   ]
  },
  {
   "cell_type": "markdown",
   "metadata": {},
   "source": [
    "La siguiente tabla lista los operadores aritméticos implementados en NumPy:\n",
    "\n",
    "| Operador\t    | ufunc equivalente    | Descripción                           |\n",
    "|---------------|---------------------|---------------------------------------|\n",
    "|``+``          |``np.add``           |Suma (p.ej., ``1 + 1 = 2``)         |\n",
    "|``-``          |``np.subtract``      |Resta (p.ej., ``3 - 2 = 1``)      |\n",
    "|``-``          |``np.negative``      |Negación unitaria (p.ej., ``-2``)          |\n",
    "|``*``          |``np.multiply``      |Multiplicación (p.ej.., ``2 * 3 = 6``)   |\n",
    "|``/``          |``np.divide``        |División (p.ej., ``3 / 2 = 1.5``)       |\n",
    "|``//``         |``np.floor_divide``  |División entera inferior (p.ej., ``3 // 2 = 1``)  |\n",
    "|``**``         |``np.power``         |Exponenciación (p.ej., ``2 ** 3 = 8``)  |\n",
    "|``%``          |``np.mod``           |Módulo/resto (p.ej., ``9 % 4 = 1``)|\n",
    "\n",
    "Hay más operaciones, como pueden ser las lógicas, de comparación y máscaras, que veremos en su momento."
   ]
  },
  {
   "cell_type": "markdown",
   "metadata": {},
   "source": [
    "Y por supuesto, tenemos una versión en ufunc para cada función habitual, como puede ser: `np.abs()`, `np.exp()`, `np.sin()`, etc."
   ]
  },
  {
   "cell_type": "markdown",
   "metadata": {},
   "source": [
    "## Selección de datos e indexación avanzada"
   ]
  },
  {
   "cell_type": "markdown",
   "metadata": {},
   "source": [
    "### Operaciones lógicas"
   ]
  },
  {
   "cell_type": "markdown",
   "metadata": {},
   "source": [
    "En esta sección vamos a ver aspectos más avanzados para seleccionar elementos de un arrays. En primer lugar vamos a ver cómo funcionan las operaciones de comparación y lógicas con los arrays de NumPy. Empezaremos creando un array y haremos comparaciones para ver la salida de cada una de ellas."
   ]
  },
  {
   "cell_type": "code",
   "execution_count": null,
   "metadata": {},
   "outputs": [],
   "source": [
    "x = np.array([1, 2, 3, 4, 5])"
   ]
  },
  {
   "cell_type": "code",
   "execution_count": null,
   "metadata": {},
   "outputs": [],
   "source": [
    "x < 3"
   ]
  },
  {
   "cell_type": "code",
   "execution_count": null,
   "metadata": {},
   "outputs": [],
   "source": [
    "x > 3"
   ]
  },
  {
   "cell_type": "code",
   "execution_count": null,
   "metadata": {},
   "outputs": [],
   "source": [
    "x <= 3"
   ]
  },
  {
   "cell_type": "markdown",
   "metadata": {},
   "source": [
    "También es posible comparar expresiones formadas a partir de arrays, por ejemplo, si queremos saber cuántos elementos del array cumplen que cuando se duplican coinciden con su cuadrado, haríamos esto:"
   ]
  },
  {
   "cell_type": "code",
   "execution_count": null,
   "metadata": {},
   "outputs": [],
   "source": [
    "(2 * x) == (x ** 2)"
   ]
  },
  {
   "cell_type": "markdown",
   "metadata": {},
   "source": [
    "Por supuesto, esto funciona con arrays de cualquier dimensión. Veamos cómo sería en un array bidimensional:"
   ]
  },
  {
   "cell_type": "code",
   "execution_count": null,
   "metadata": {},
   "outputs": [],
   "source": [
    "np.random.seed(0)\n",
    "x = np.random.randint(10, size=(3, 4))\n",
    "x"
   ]
  },
  {
   "cell_type": "code",
   "execution_count": null,
   "metadata": {},
   "outputs": [],
   "source": [
    "x < 6"
   ]
  },
  {
   "cell_type": "markdown",
   "metadata": {},
   "source": [
    "Dada una matriz booleana, hay una gran cantidad de operaciones útiles que puedes hacer.\n",
    "Trabajaremos con ``x``, la matriz bidimensional que creamos antes."
   ]
  },
  {
   "cell_type": "code",
   "execution_count": null,
   "metadata": {},
   "outputs": [],
   "source": [
    "print(x)"
   ]
  },
  {
   "cell_type": "markdown",
   "metadata": {},
   "source": [
    "Podemos contar el número de entradas a ``True`` con ``np.count_nonzero``:"
   ]
  },
  {
   "cell_type": "code",
   "execution_count": null,
   "metadata": {},
   "outputs": [],
   "source": [
    "print(x < 6)\n",
    "np.count_nonzero(x < 6)"
   ]
  },
  {
   "cell_type": "markdown",
   "metadata": {},
   "source": [
    "Vemos que hay ocho entradas del array que son menores que 6.\n",
    "Otra forma de obtener esta información es utilizar ``np.sum``; en este caso, ``False`` se interpreta como ``0``, y ``True`` se interpreta como ``1``:"
   ]
  },
  {
   "cell_type": "code",
   "execution_count": null,
   "metadata": {},
   "outputs": [],
   "source": [
    "print(x < 6)\n",
    "np.sum(x < 6)"
   ]
  },
  {
   "cell_type": "code",
   "execution_count": null,
   "metadata": {},
   "outputs": [],
   "source": [
    "# ¿Hay algún valor mayor que 8?\n",
    "np.any(x > 8)"
   ]
  },
  {
   "cell_type": "code",
   "execution_count": null,
   "metadata": {},
   "outputs": [],
   "source": [
    "# ¿son todos los valores menores que 10?\n",
    "np.all(x < 10)"
   ]
  },
  {
   "cell_type": "markdown",
   "metadata": {},
   "source": [
    "``np.all`` y ``np.any`` pueden usarse en ejes concretos. Por ejemplo:"
   ]
  },
  {
   "cell_type": "code",
   "execution_count": null,
   "metadata": {},
   "outputs": [],
   "source": [
    "# ¿son todos los valores de cada fila menores que 8?\n",
    "np.all(x < 8, axis=1)"
   ]
  },
  {
   "cell_type": "markdown",
   "metadata": {},
   "source": [
    "El poder calcular condiciones y que nos devuelvan un array de booleanos, nos permite también usar operaciones lógicas: &, | (and y or). No se usan ``and`` y ``or`` porque estas últimas comprueban si el objeto array en sí, se evalúa como verdadero o falso."
   ]
  },
  {
   "cell_type": "code",
   "execution_count": null,
   "metadata": {},
   "outputs": [],
   "source": [
    "np.sum((x > 3) & (x < 8))"
   ]
  },
  {
   "cell_type": "markdown",
   "metadata": {},
   "source": [
    "### Máscaras\n",
    "\n",
    "Los arrays booleanos se pueden usar como un índice que aplicado a un array de sus mismas dimensiones selecciona los elementos en los que estamos interesados:"
   ]
  },
  {
   "cell_type": "code",
   "execution_count": null,
   "metadata": {},
   "outputs": [],
   "source": [
    "x"
   ]
  },
  {
   "cell_type": "code",
   "execution_count": null,
   "metadata": {},
   "outputs": [],
   "source": [
    "x < 5"
   ]
  },
  {
   "cell_type": "markdown",
   "metadata": {},
   "source": [
    "Ahora, para *seleccionar* estos valores de la matriz, podemos simplemente indexar en esta matriz booleana; esto se conoce como una operación de *enmascaramiento*:"
   ]
  },
  {
   "cell_type": "code",
   "execution_count": null,
   "metadata": {},
   "outputs": [],
   "source": [
    "x[x < 5]"
   ]
  },
  {
   "cell_type": "markdown",
   "metadata": {},
   "source": [
    "Lo que se devuelve es un array unidimensional lleno de todos los valores que cumplen esta condición; en otras palabras, todos los valores en posiciones en las que el array de la máscara es ``True``.\n",
    "A continuación, somos libres de operar con estos valores como queramos.\n"
   ]
  },
  {
   "cell_type": "markdown",
   "metadata": {},
   "source": [
    "### Indexación selectiva"
   ]
  },
  {
   "cell_type": "markdown",
   "metadata": {},
   "source": [
    "Como hemos visto, se puede usar un array de booleanos para seleccionar los elementos que queremos de otro array, pero hay otra forma de hacer esa selección que simplemente consiste en pasar como índice la lista de los elementos que queremos extraer. Veamos un ejemplo:"
   ]
  },
  {
   "cell_type": "code",
   "execution_count": null,
   "metadata": {},
   "outputs": [],
   "source": [
    "x"
   ]
  },
  {
   "cell_type": "code",
   "execution_count": null,
   "metadata": {},
   "outputs": [],
   "source": [
    "# Selecciona las filas 0 y 2 de la matriz\n",
    "x[[0, 2]]   "
   ]
  },
  {
   "cell_type": "code",
   "execution_count": null,
   "metadata": {},
   "outputs": [],
   "source": [
    "y = x[2]  # cogemos la tercera fila de la matriz\n",
    "y[[1, 3]]  # extraemos los elementos 1 y 3."
   ]
  },
  {
   "cell_type": "markdown",
   "metadata": {},
   "source": [
    "También podemos usar esta forma de indexación con arrays multidimensionales:"
   ]
  },
  {
   "cell_type": "code",
   "execution_count": null,
   "metadata": {},
   "outputs": [],
   "source": [
    "x[[0,2],[1,2]]"
   ]
  },
  {
   "cell_type": "code",
   "execution_count": null,
   "metadata": {},
   "outputs": [],
   "source": [
    "filas = np.array([0,2])  # estamos interesados en las filas 0 y 2\n",
    "columnas = np.array([1,2])  # y de la fila 0 tomaremos el elemento 1 y de la 2 el elemento 2\n",
    "x[filas, columnas]"
   ]
  },
  {
   "cell_type": "markdown",
   "metadata": {},
   "source": [
    "## Introducción al *broadcasting* (difusión)\n",
    "\n",
    "Recordemos que para matrices del mismo tamaño, las operaciones binarias se realizan elemento por elemento:"
   ]
  },
  {
   "cell_type": "code",
   "execution_count": null,
   "metadata": {},
   "outputs": [],
   "source": [
    "import numpy as np"
   ]
  },
  {
   "cell_type": "code",
   "execution_count": null,
   "metadata": {},
   "outputs": [],
   "source": [
    "a = np.array([0, 1, 2])\n",
    "b = np.array([5, 5, 5])\n",
    "a + b"
   ]
  },
  {
   "cell_type": "markdown",
   "metadata": {},
   "source": [
    "La difusión permite realizar este tipo de operaciones binarias en matrices de diferentes tamaños: por ejemplo, podemos añadir fácilmente un escalar (piense en él como una matriz de cero dimensiones) a una matriz:"
   ]
  },
  {
   "cell_type": "code",
   "execution_count": null,
   "metadata": {},
   "outputs": [],
   "source": [
    "a + 5"
   ]
  },
  {
   "cell_type": "markdown",
   "metadata": {},
   "source": [
    "Podemos pensar en esto como una operación que estira o duplica el valor ``5`` en el array ``[5, 5, 5]``, y suma los resultados.\n",
    "La ventaja de la difusión de NumPy es que esta duplicación de valores no tiene lugar realmente, pero es un modelo mental útil cuando pensamos en la difusión.\n",
    "\n",
    "Podemos extender esto de forma similar a arrays de mayor dimensión. Observa el resultado cuando añadimos un array unidimensional a un array bidimensional:\n"
   ]
  },
  {
   "cell_type": "code",
   "execution_count": null,
   "metadata": {},
   "outputs": [],
   "source": [
    "M = np.ones((3, 3))\n",
    "M"
   ]
  },
  {
   "cell_type": "code",
   "execution_count": null,
   "metadata": {},
   "outputs": [],
   "source": [
    "M + a"
   ]
  },
  {
   "cell_type": "markdown",
   "metadata": {},
   "source": [
    "En este caso, la matriz unidimensional ``a`` se estira, o se difunde a través de la segunda dimensión para que coincida con la forma de ``M``.\n",
    "\n",
    "Aunque estos ejemplos son relativamente fáciles de entender, los casos más complicados pueden implicar la difusión de ambas matrices. Considere el siguiente ejemplo:\n"
   ]
  },
  {
   "cell_type": "code",
   "execution_count": null,
   "metadata": {
    "scrolled": true
   },
   "outputs": [],
   "source": [
    "a = np.arange(3)   # vector horizontal de 3 elementos\n",
    "b = np.arange(3)[:, np.newaxis]   # matriz de una única columna de 3 elementos\n",
    "\n",
    "print(a)\n",
    "print(b)"
   ]
  },
  {
   "cell_type": "code",
   "execution_count": null,
   "metadata": {},
   "outputs": [],
   "source": [
    "a + b"
   ]
  },
  {
   "cell_type": "markdown",
   "metadata": {},
   "source": [
    "Al igual que antes hemos estirado o repetido un valor para que coincida con la forma del otro, aquí hemos estirado *ambos* ``a`` y ``b`` para que coincidan con una forma común, ¡y el resultado es una matriz bidimensional!\n",
    "La geometría de estos ejemplos se visualiza en la siguiente figura:"
   ]
  },
  {
   "cell_type": "markdown",
   "metadata": {},
   "source": [
    "![Broadcasting Visual](figures/02.05-broadcasting.png)"
   ]
  },
  {
   "cell_type": "markdown",
   "metadata": {},
   "source": [
    "Las cajas en gris claro representan los valores emitidos: de nuevo, esta memoria extra no se asigna realmente en el curso de la operación, pero puede ser útil conceptualmente imaginar que sí."
   ]
  }
 ],
 "metadata": {
  "anaconda-cloud": {},
  "kernelspec": {
   "display_name": "Python 3 (ipykernel)",
   "language": "python",
   "name": "python3"
  },
  "language_info": {
   "codemirror_mode": {
    "name": "ipython",
    "version": 3
   },
   "file_extension": ".py",
   "mimetype": "text/x-python",
   "name": "python",
   "nbconvert_exporter": "python",
   "pygments_lexer": "ipython3",
   "version": "3.7.12"
  },
  "toc": {
   "base_numbering": 1,
   "nav_menu": {},
   "number_sections": true,
   "sideBar": true,
   "skip_h1_title": false,
   "title_cell": "Tabla de contenidos",
   "title_sidebar": "Contents",
   "toc_cell": true,
   "toc_position": {},
   "toc_section_display": true,
   "toc_window_display": true
  }
 },
 "nbformat": 4,
 "nbformat_minor": 1
}
