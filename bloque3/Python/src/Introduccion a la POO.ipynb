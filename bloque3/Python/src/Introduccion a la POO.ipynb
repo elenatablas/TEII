{
 "cells": [
  {
   "cell_type": "markdown",
   "id": "unique-charity",
   "metadata": {
    "toc": true
   },
   "source": [
    "<h1>Tabla de contenidos<span class=\"tocSkip\"></span></h1>\n",
    "<div class=\"toc\"><ul class=\"toc-item\"><li><span><a href=\"#Introducción-a-la-POO-en-Python\" data-toc-modified-id=\"Introducción-a-la-POO-en-Python-1\"><span class=\"toc-item-num\">1&nbsp;&nbsp;</span>Introducción a la POO en Python</a></span><ul class=\"toc-item\"><li><span><a href=\"#Clases\" data-toc-modified-id=\"Clases-1.1\"><span class=\"toc-item-num\">1.1&nbsp;&nbsp;</span>Clases</a></span></li><li><span><a href=\"#Decoradores\" data-toc-modified-id=\"Decoradores-1.2\"><span class=\"toc-item-num\">1.2&nbsp;&nbsp;</span>Decoradores</a></span></li><li><span><a href=\"#Herencia-básica\" data-toc-modified-id=\"Herencia-básica-1.3\"><span class=\"toc-item-num\">1.3&nbsp;&nbsp;</span>Herencia básica</a></span></li><li><span><a href=\"#Monkey-Patching\" data-toc-modified-id=\"Monkey-Patching-1.4\"><span class=\"toc-item-num\">1.4&nbsp;&nbsp;</span><em>Monkey Patching</em></a></span></li><li><span><a href=\"#Propiedades\" data-toc-modified-id=\"Propiedades-1.5\"><span class=\"toc-item-num\">1.5&nbsp;&nbsp;</span>Propiedades</a></span></li><li><span><a href=\"#Uso-del-subrayado-en-Python\" data-toc-modified-id=\"Uso-del-subrayado-en-Python-1.6\"><span class=\"toc-item-num\">1.6&nbsp;&nbsp;</span>Uso del subrayado en Python</a></span></li><li><span><a href=\"#Gestores-de-contexto:-sentencia-with\" data-toc-modified-id=\"Gestores-de-contexto:-sentencia-with-1.7\"><span class=\"toc-item-num\">1.7&nbsp;&nbsp;</span>Gestores de contexto: sentencia <em>with</em></a></span></li></ul></li><li><span><a href=\"#Apéndice\" data-toc-modified-id=\"Apéndice-2\"><span class=\"toc-item-num\">2&nbsp;&nbsp;</span>Apéndice</a></span><ul class=\"toc-item\"><li><span><a href=\"#Métodos-alternativos-de-inicialización\" data-toc-modified-id=\"Métodos-alternativos-de-inicialización-2.1\"><span class=\"toc-item-num\">2.1&nbsp;&nbsp;</span>Métodos alternativos de inicialización</a></span></li></ul></li></ul></div>"
   ]
  },
  {
   "cell_type": "markdown",
   "id": "organic-nursing",
   "metadata": {},
   "source": [
    "# Introducción a la POO en Python"
   ]
  },
  {
   "cell_type": "markdown",
   "id": "judicial-third",
   "metadata": {},
   "source": [
    "Python no sólo se ofrece como un popular lenguaje de *scripting*, sino que también soporta el paradigma de la programación orientada a objetos. Las clases describen datos y proporcionan métodos para manipular esos datos, todo ello englobado en un único objeto. Además, las clases permiten la abstracción al separar los detalles de implementación concretos de las representaciones abstractas de los datos."
   ]
  },
  {
   "cell_type": "markdown",
   "id": "large-medium",
   "metadata": {},
   "source": [
    "## Clases"
   ]
  },
  {
   "cell_type": "code",
   "execution_count": null,
   "id": "extended-population",
   "metadata": {},
   "outputs": [],
   "source": [
    "class Persona(object):\n",
    "    \"\"\" Una clase sencilla. \"\"\"   # esto es un docstring\n",
    "    especie = \"Homo Sapiens\"   # atributo de clase compartido entre todas las instancias\n",
    "    \n",
    "    def __init__(self, nombre):   # método mágico (dunder method)\n",
    "        \"\"\" Este es el inicializador, un método mágico. \"\"\"\n",
    "        self.nombre = nombre   # atributo de instancia diferente para cada objeto\n",
    "        \n",
    "    def __str__(self):   # método mágico\n",
    "        \"\"\" Este método lo usa Python cuando necesita imprimir el objeto como una cadena.\n",
    "        Por ejemplo, lo usa la función print(). \"\"\"\n",
    "        return self.nombre\n",
    "    \n",
    "    def rename(self, nuevo_nombre):   # método común\n",
    "        \"\"\" Reasigna el nombre y lo imprime. \"\"\"\n",
    "        self.nombre = nuevo_nombre\n",
    "        print(f\"Ahora me llamo {self.nombre}\")"
   ]
  },
  {
   "cell_type": "markdown",
   "id": "front-agreement",
   "metadata": {},
   "source": [
    "Hay algunas cosas que hay que tener en cuenta al ver el ejemplo anterior.\n",
    "\n",
    "1. La clase está formada por atributos y métodos.\n",
    "2. Los atributos y los métodos se definen simplemente como variables y funciones normales.\n",
    "3. Como se indica en el *docstring* correspondiente, el método ``__init__()`` se llama inicializador. Es equivalente al constructor de otros lenguajes orientados a objetos, y es el método que se ejecuta por primera vez cuando se crea un nuevo objeto, o una nueva instancia de la clase.\n",
    "4. Los atributos que se aplican a toda la clase se definen primero y se llaman atributos de clase.\n",
    "5. Los atributos que se aplican a una instancia específica de una clase (un objeto) se llaman atributos de instancia. Se definen generalmente dentro de ``__init__()``. Esto no es necesario, pero se recomienda (ya que los atributos definidos en otros métodos distintos de ``__init__()`` corren el riesgo de ser accedidos antes de ser definidos).\n",
    "6. Cada método, incluido en la definición de la clase, pasa el objeto en cuestión como su primer parámetro. Para ello, se utiliza palabra clave ``self``. El uso de ``self`` es en realidad una convención, ya que la palabra self no tiene ningún significado inherente en Python, pero esta es una de las convenciones más respetadas de Python.\n",
    "7. En Python **no existen los elementos privados**, por lo que todo, por defecto, imita el comportamiento de la palabra clave public de C++/Java. Hablaremos de estos elementos más adelante.\n",
    "8. Algunos de los métodos de la clase tienen la siguiente forma ``__nombre_de_función__(self, otras_cosas)``. Todos estos métodos se llaman **métodos mágicos** (*dunder methods*) y son una parte importante de las clases en Python. Por ejemplo, la sobrecarga de operadores en Python se implementa con métodos mágicos.\n",
    "\n",
    "Ahora creamos algunas instancias de nuestra clase Persona."
   ]
  },
  {
   "cell_type": "code",
   "execution_count": null,
   "id": "competitive-conjunction",
   "metadata": {},
   "outputs": [],
   "source": [
    "juan = Persona(\"Juan\")\n",
    "jose = Persona(\"Jose\")\n",
    "antonio = Persona(\"Antonio\")"
   ]
  },
  {
   "cell_type": "markdown",
   "id": "weird-finder",
   "metadata": {},
   "source": [
    "Ahora tenemos tres instancias de Persona. Podemos acceder a sus atributos con el operador punto `.`. Observa la diferencia entre los atributos de clase y los de instancia."
   ]
  },
  {
   "cell_type": "code",
   "execution_count": null,
   "id": "greatest-germany",
   "metadata": {},
   "outputs": [],
   "source": [
    "juan.especie"
   ]
  },
  {
   "cell_type": "code",
   "execution_count": null,
   "id": "flying-middle",
   "metadata": {},
   "outputs": [],
   "source": [
    "jose.especie"
   ]
  },
  {
   "cell_type": "code",
   "execution_count": null,
   "id": "married-suffering",
   "metadata": {},
   "outputs": [],
   "source": [
    "antonio.especie"
   ]
  },
  {
   "cell_type": "code",
   "execution_count": null,
   "id": "expected-imperial",
   "metadata": {},
   "outputs": [],
   "source": [
    "juan.nombre"
   ]
  },
  {
   "cell_type": "code",
   "execution_count": null,
   "id": "challenging-banana",
   "metadata": {},
   "outputs": [],
   "source": [
    "antonio.nombre"
   ]
  },
  {
   "cell_type": "markdown",
   "id": "authentic-pattern",
   "metadata": {},
   "source": [
    "También podemos usar el operador `.` para ejecutar los métodos:"
   ]
  },
  {
   "cell_type": "code",
   "execution_count": null,
   "id": "grateful-costa",
   "metadata": {},
   "outputs": [],
   "source": [
    "juan.__str__()"
   ]
  },
  {
   "cell_type": "code",
   "execution_count": null,
   "id": "corrected-technology",
   "metadata": {
    "tags": []
   },
   "outputs": [],
   "source": [
    "print(juan)"
   ]
  },
  {
   "cell_type": "code",
   "execution_count": null,
   "id": "celtic-august",
   "metadata": {},
   "outputs": [],
   "source": [
    "juan.rename(\"Juan José\")"
   ]
  },
  {
   "cell_type": "markdown",
   "id": "protected-switch",
   "metadata": {},
   "source": [
    "En Python 3 cuando se declara un método con una clase, se utiliza la palabra clave ``def``, creando así un objeto función. Se trata de una función normal, y la clase que la rodea funciona como su espacio de nombres. En el siguiente ejemplo declaramos el método ``f`` dentro de la clase ``A`` que se convierte en una función ``A.f``:"
   ]
  },
  {
   "cell_type": "code",
   "execution_count": null,
   "id": "absent-capture",
   "metadata": {},
   "outputs": [],
   "source": [
    "class A(object):\n",
    "    def f(self, x):\n",
    "        return 2 * x"
   ]
  },
  {
   "cell_type": "code",
   "execution_count": null,
   "id": "north-montgomery",
   "metadata": {},
   "outputs": [],
   "source": [
    "A.f"
   ]
  },
  {
   "cell_type": "markdown",
   "id": "professional-gossip",
   "metadata": {
    "tags": []
   },
   "source": [
    "Ahora supongamos que ``a`` es una instancia de la clase ``A``, ¿qué es entonces `a.f`? Intuitivamente debería ser el mismo método ``f`` de la clase ``A``, solo que debería \"saber\" de alguna manera que se aplica al objeto ``a``. En Python a esto se le llama método **vinculado** a ``a``."
   ]
  },
  {
   "cell_type": "code",
   "execution_count": null,
   "id": "mysterious-relationship",
   "metadata": {
    "tags": []
   },
   "outputs": [],
   "source": [
    "a = A()\n",
    "a.f"
   ]
  },
  {
   "cell_type": "code",
   "execution_count": null,
   "id": "challenging-kingdom",
   "metadata": {},
   "outputs": [],
   "source": [
    "a.f(2)"
   ]
  },
  {
   "cell_type": "code",
   "execution_count": null,
   "id": "nasty-convergence",
   "metadata": {},
   "outputs": [],
   "source": [
    "a.__dict__   # no tiene métodos definidos en el objeto"
   ]
  },
  {
   "cell_type": "code",
   "execution_count": null,
   "id": "descending-possibility",
   "metadata": {},
   "outputs": [],
   "source": [
    "A.__dict__   # el método f se define en la clase"
   ]
  },
  {
   "cell_type": "markdown",
   "id": "proprietary-linux",
   "metadata": {},
   "source": [
    "Por último, Python tiene dos tipos especiales de métodos: métodos de clase y métodos estáticos. Los métodos de clase funcionan de la misma manera que los métodos normales, excepto que cuando se invocan sobre un objeto se vinculan a la clase del objeto en lugar de al objeto. Cuando se llama a un método de clase vinculado, se pasa la clase de ``a`` como primer argumento. Los métodos estáticos son aún más simples: no vinculan nada en absoluto, y simplemente devuelven la función subyacente sin ninguna transformación."
   ]
  },
  {
   "cell_type": "code",
   "execution_count": null,
   "id": "wooden-story",
   "metadata": {},
   "outputs": [],
   "source": [
    "class D(object):\n",
    "    multiplicador = 2\n",
    "    \n",
    "    @classmethod   # esto es un decorador, después hablaremos de ellos\n",
    "    def f(cls, x):\n",
    "        return cls.multiplicador * x\n",
    "    \n",
    "    @staticmethod\n",
    "    def g(nombre):\n",
    "        print(\"Hola, {}\".format(nombre))"
   ]
  },
  {
   "cell_type": "code",
   "execution_count": null,
   "id": "comprehensive-roller",
   "metadata": {},
   "outputs": [],
   "source": [
    "D.f"
   ]
  },
  {
   "cell_type": "code",
   "execution_count": null,
   "id": "postal-theology",
   "metadata": {},
   "outputs": [],
   "source": [
    "D.f(2)"
   ]
  },
  {
   "cell_type": "code",
   "execution_count": null,
   "id": "dependent-image",
   "metadata": {},
   "outputs": [],
   "source": [
    "D.g"
   ]
  },
  {
   "cell_type": "code",
   "execution_count": null,
   "id": "collectible-ordering",
   "metadata": {},
   "outputs": [],
   "source": [
    "D.g(\"mundo\")"
   ]
  },
  {
   "cell_type": "markdown",
   "id": "latin-tender",
   "metadata": {},
   "source": [
    "Como puedes comprobar los métodos de clase y los estáticos están vinculados a la clase, no al objeto, y funcionan aunque se llamen a través de una instancia de la clase."
   ]
  },
  {
   "cell_type": "code",
   "execution_count": null,
   "id": "cathedral-jackson",
   "metadata": {},
   "outputs": [],
   "source": [
    "d = D()\n",
    "d.multiplicador = 200\n",
    "(D.multiplicador, d.multiplicador)   # ¿por qué ha cambiado el valor de multiplicador en d pero no en D?"
   ]
  },
  {
   "cell_type": "code",
   "execution_count": null,
   "id": "offshore-junior",
   "metadata": {},
   "outputs": [],
   "source": [
    "d.f"
   ]
  },
  {
   "cell_type": "code",
   "execution_count": null,
   "id": "acceptable-longitude",
   "metadata": {},
   "outputs": [],
   "source": [
    "d.f(10)   # fíjate que sigue usando el multiplicador de D que es 2, aunque el multiplicador de 'd' sea 200"
   ]
  },
  {
   "cell_type": "markdown",
   "id": "occasional-circuit",
   "metadata": {},
   "source": [
    "## Decoradores"
   ]
  },
  {
   "cell_type": "markdown",
   "id": "vertical-workstation",
   "metadata": {},
   "source": [
    "Un decorador con la forma ``@midecorador`` que precede a la definición de la función `mifuncion` es lo mismo que ``mifuncion = midecorador(mifuncion)``:"
   ]
  },
  {
   "cell_type": "markdown",
   "id": "educational-mandate",
   "metadata": {},
   "source": [
    "```python\n",
    "@midecorador\n",
    "def mifuncion(self):\n",
    "    pass\n",
    "````\n",
    "\n",
    "es lo mismo que\n",
    "\n",
    "```python\n",
    "def mifuncion(self):\n",
    "    pass\n",
    "mifuncion = midecorador(mifuncion)\n",
    "```"
   ]
  },
  {
   "cell_type": "markdown",
   "id": "tribal-process",
   "metadata": {},
   "source": [
    "Aunque no los estudiaremos en detalle, sí que es interesante saber que se usan para cambiar el comportamiento de una función sin cambiar su código, lo que es muy interesante en algunos casos. Por ejemplo, supongamos que queremos alterar cualquier función que no recibe parámetros e imprime un mensaje, para que se imprima algo antes y después. Entonces haríamos lo siguiente:"
   ]
  },
  {
   "cell_type": "code",
   "execution_count": null,
   "id": "polish-andrew",
   "metadata": {},
   "outputs": [],
   "source": [
    "def midecorador(mifuncion_decorada):\n",
    "    def _midecorador():\n",
    "        print('Antes de la ejecución de la función a decorar')\n",
    "        mifuncion_decorada()\n",
    "        print('Después de la ejecución de la función a decorar')\n",
    "\n",
    "    return _midecorador"
   ]
  },
  {
   "cell_type": "code",
   "execution_count": null,
   "id": "second-marker",
   "metadata": {},
   "outputs": [],
   "source": [
    "@midecorador\n",
    "def saludar():\n",
    "    print('Hola mundo!!')"
   ]
  },
  {
   "cell_type": "code",
   "execution_count": null,
   "id": "excess-rider",
   "metadata": {},
   "outputs": [],
   "source": [
    "saludar()"
   ]
  },
  {
   "cell_type": "markdown",
   "id": "agreed-architecture",
   "metadata": {},
   "source": [
    "## Herencia básica"
   ]
  },
  {
   "cell_type": "markdown",
   "id": "informational-worst",
   "metadata": {},
   "source": [
    "La herencia en Python es similar a la de otros lenguajes como Java."
   ]
  },
  {
   "cell_type": "code",
   "execution_count": null,
   "id": "secret-drain",
   "metadata": {},
   "outputs": [],
   "source": [
    "class ClaseBase(object):\n",
    "    pass\n",
    "\n",
    "class ClaseDerivada(ClaseBase):\n",
    "    pass"
   ]
  },
  {
   "cell_type": "markdown",
   "id": "capable-recognition",
   "metadata": {},
   "source": [
    "La clase derivada hereda todos los atributos y métodos de la clase base. Vamos a definir la típica clase de ejemplo que se usa en OO."
   ]
  },
  {
   "cell_type": "code",
   "execution_count": null,
   "id": "elder-texas",
   "metadata": {},
   "outputs": [],
   "source": [
    "class Rectangulo():   # si no se pone object, se hereda implícitamente de él\n",
    "    def __init__(self, w, h):\n",
    "        self.w = w\n",
    "        self.h = h\n",
    "\n",
    "    def area(self):\n",
    "        return self.w * self.h\n",
    "\n",
    "    def perimetro(self):\n",
    "        return 2 * (self.w + self.h)"
   ]
  },
  {
   "cell_type": "markdown",
   "id": "based-craps",
   "metadata": {},
   "source": [
    "La clase `Rectangulo` puede usarse como clase base para una clase heredada llamada `Cuadrado`, que es un caso especial de rectángulo."
   ]
  },
  {
   "cell_type": "code",
   "execution_count": null,
   "id": "instructional-bearing",
   "metadata": {},
   "outputs": [],
   "source": [
    "class Cuadrado(Rectangulo):\n",
    "    def __init__(self, s):\n",
    "        super().__init__(s, s)   # llama al inicializador del padre\n",
    "        self.s = s"
   ]
  },
  {
   "cell_type": "markdown",
   "id": "silent-storage",
   "metadata": {},
   "source": [
    "La clase ``Cuadrado`` hereda automáticamente todos los atributos de la clase ``Rectangulo``, así como de la clase ``object``. ``super()`` se utiliza para llamar al método ``__init__()`` de la clase ``Rectangulo`` porque el método `__init__` también está definido en la clase `Cuadrado`.\n",
    "\n",
    "Los objetos de clases derivadas pueden acceder y modificar los atributos de sus clases base."
   ]
  },
  {
   "cell_type": "code",
   "execution_count": null,
   "id": "eastern-runner",
   "metadata": {},
   "outputs": [],
   "source": [
    "r = Rectangulo(4, 5)\n",
    "print(r.area())\n",
    "print(r.perimetro())"
   ]
  },
  {
   "cell_type": "code",
   "execution_count": null,
   "id": "regional-confidence",
   "metadata": {},
   "outputs": [],
   "source": [
    "c = Cuadrado(2)\n",
    "print(c.area())\n",
    "print(c.perimetro())"
   ]
  },
  {
   "cell_type": "markdown",
   "id": "stretch-trouble",
   "metadata": {},
   "source": [
    "Existen unas funciones de Python que nos permiten consultar las relaciones de herencia entre clases.\n",
    "\n",
    "- ``issubclass(ClaseDerivada, ClaseBase)`` devuelve ``True`` si la primera es una subclase de la segunda\n",
    "- ``isinstance(o, C)`` devuelve ``True`` si el objeto `o` es una instancia de la clase `C`"
   ]
  },
  {
   "cell_type": "code",
   "execution_count": null,
   "id": "municipal-documentation",
   "metadata": {},
   "outputs": [],
   "source": [
    "issubclass(Cuadrado, Rectangulo)"
   ]
  },
  {
   "cell_type": "code",
   "execution_count": null,
   "id": "little-arabic",
   "metadata": {},
   "outputs": [],
   "source": [
    "isinstance(r, Rectangulo)"
   ]
  },
  {
   "cell_type": "code",
   "execution_count": null,
   "id": "afraid-function",
   "metadata": {},
   "outputs": [],
   "source": [
    "isinstance(r, Cuadrado)"
   ]
  },
  {
   "cell_type": "code",
   "execution_count": null,
   "id": "emerging-halifax",
   "metadata": {},
   "outputs": [],
   "source": [
    "isinstance(c, Cuadrado)"
   ]
  },
  {
   "cell_type": "code",
   "execution_count": null,
   "id": "injured-century",
   "metadata": {},
   "outputs": [],
   "source": [
    "isinstance(c, Rectangulo)   # un cuadrado es también un rectángulo"
   ]
  },
  {
   "cell_type": "markdown",
   "id": "intended-secretariat",
   "metadata": {},
   "source": [
    "## *Monkey Patching*\n",
    "\n",
    "Esta expresión significa añadir una nueva variable o método a una clase una vez que ya está definida. Por ejemplo, supongamos que definimos la siguiente clase A."
   ]
  },
  {
   "cell_type": "code",
   "execution_count": null,
   "id": "unsigned-season",
   "metadata": {},
   "outputs": [],
   "source": [
    "class A(object):\n",
    "    def __init__(self, num):\n",
    "        self.num = num\n",
    "\n",
    "    def suma(self, other):\n",
    "        return self.num + other.num"
   ]
  },
  {
   "cell_type": "code",
   "execution_count": null,
   "id": "fifty-minister",
   "metadata": {},
   "outputs": [],
   "source": [
    "a = A(4)\n",
    "b = A(5)\n",
    "print(a.suma(b));"
   ]
  },
  {
   "cell_type": "markdown",
   "id": "circular-garlic",
   "metadata": {},
   "source": [
    "Pero ahora queremos añadir otra función en nuestro código, digamos que la siguiente:\n"
   ]
  },
  {
   "cell_type": "code",
   "execution_count": null,
   "id": "conscious-source",
   "metadata": {},
   "outputs": [],
   "source": [
    "def get_num(self):\n",
    "    return self.num"
   ]
  },
  {
   "cell_type": "markdown",
   "id": "experimental-happiness",
   "metadata": {},
   "source": [
    "¿Cómo podemos añadir este método a A? Pues sencillamente asignándoselo directamente."
   ]
  },
  {
   "cell_type": "markdown",
   "id": "excessive-hampshire",
   "metadata": {},
   "source": [
    "``A.get_num = get_num``"
   ]
  },
  {
   "cell_type": "markdown",
   "id": "united-hawaii",
   "metadata": {},
   "source": [
    "¿Por qué funciona esto? Pues porque las funciones son objetos como cualquier otro objeto y los métodos no son más que funciones que pertenecen a una clase. La función `get_num()` estará disponible para todas las instancias de A ya creadas y las que se creen a partir de ahora."
   ]
  },
  {
   "cell_type": "code",
   "execution_count": null,
   "id": "theoretical-third",
   "metadata": {},
   "outputs": [],
   "source": [
    "foo = A(42)\n",
    "A.get_num = get_num\n",
    "bar = A(6)\n",
    "print(foo.get_num())\n",
    "print(bar.get_num())"
   ]
  },
  {
   "cell_type": "markdown",
   "id": "endangered-heritage",
   "metadata": {},
   "source": [
    "Esta técnica no es considerada un buen estilo de programación pero ayuda a entender la flexibilidad que tiene Python a la hora de alterar el propio código. Además, hay que tener cuidado porque un error al teclear un atributo y no se quejará, sino que creará el atributo en ese momento y seguirá la ejecución como si nada. Por ejemplo, si queremos modificar nuestro atributo ``foo.atributo = 4`` pero nos equivocamos y ponemos ``foo.atibuto = 4``, creará un nuevo atributo llamado ``atibuto`` en el objeto y resultará muy difícil encontrar el fallo si no somos cuidadosos leyendo el código."
   ]
  },
  {
   "cell_type": "markdown",
   "id": "realistic-detective",
   "metadata": {},
   "source": [
    "## Propiedades"
   ]
  },
  {
   "cell_type": "markdown",
   "id": "collect-effectiveness",
   "metadata": {},
   "source": [
    "Las clases Python soportan **propiedades** que parecen atributos normales, pero que realmente tienen métodos asociados que devuelven o asignan el valor de dicho atributo."
   ]
  },
  {
   "cell_type": "code",
   "execution_count": null,
   "id": "immediate-arizona",
   "metadata": {},
   "outputs": [],
   "source": [
    "class MyClass(object):\n",
    "    def __init__(self):\n",
    "        self._my_string = \"\"   # al comenzar por _, se indica que _my_string se considera un atributo privado\n",
    "    \n",
    "    @property\n",
    "    def string(self):\n",
    "        \"\"\" Una cadena enormemente importante. \"\"\"\n",
    "        return self._my_string\n",
    "    \n",
    "    @string.setter\n",
    "    def string(self, new_value):\n",
    "        assert isinstance(new_value, str), f\"¡Dame una cadena, no un {type(new_value)}!\"\n",
    "        self._my_string = new_value"
   ]
  },
  {
   "cell_type": "markdown",
   "id": "urban-mistake",
   "metadata": {},
   "source": [
    "Los objetos de la clase `MyClass` parecerá que tienen un atributo (propiedad) ``string`` pero su comportamiento estará controlado por nosotros.\n",
    "\n",
    "Por cierto, podemos ver que ``self._my_string`` comienza por un carácter subrayado ``_``. Python no tiene métodos o atributos privados, pero si alguno de ellos comienza por ``_``(uno solamente) se deberá considerar privado, es decir, que puede desaparecer o ser cambiado en el futuro sin previo aviso. Es solamente una convención pero es necesario mantenerla."
   ]
  },
  {
   "cell_type": "code",
   "execution_count": null,
   "id": "green-kazakhstan",
   "metadata": {},
   "outputs": [],
   "source": [
    "mc = MyClass()"
   ]
  },
  {
   "cell_type": "code",
   "execution_count": null,
   "id": "weekly-whale",
   "metadata": {
    "tags": []
   },
   "outputs": [],
   "source": [
    "mc.__dict__"
   ]
  },
  {
   "cell_type": "code",
   "execution_count": null,
   "id": "9e1f5f14-a174-48ec-aa14-d13e0c000433",
   "metadata": {},
   "outputs": [],
   "source": [
    "mc.string"
   ]
  },
  {
   "cell_type": "code",
   "execution_count": null,
   "id": "closing-circular",
   "metadata": {},
   "outputs": [],
   "source": [
    "mc.string = \"hola\""
   ]
  },
  {
   "cell_type": "code",
   "execution_count": null,
   "id": "indian-mandate",
   "metadata": {},
   "outputs": [],
   "source": [
    "mc.string"
   ]
  },
  {
   "cell_type": "code",
   "execution_count": null,
   "id": "frequent-tokyo",
   "metadata": {},
   "outputs": [],
   "source": [
    "mc.__dict__"
   ]
  },
  {
   "cell_type": "code",
   "execution_count": null,
   "id": "87ed706d-49bf-4db8-b52a-2c839e8f7171",
   "metadata": {},
   "outputs": [],
   "source": [
    "mc.string = 5"
   ]
  },
  {
   "cell_type": "markdown",
   "id": "noted-underground",
   "metadata": {},
   "source": [
    "## Uso del subrayado en Python\n",
    "\n",
    "Curiosamente Python usa de diferentes formas el carácter ``_``, y es interesante conocerlas.\n",
    "\n",
    "* Usado solo, simboliza habitualmente una variable que no queremos usar, y la ponemos para ocupar un hueco. Ejemplo:\n",
    "\n",
    "```python\n",
    "a, _, b = [1, 2, 3]   # a=1 y b=3\n",
    "```\n",
    "* Si pones uno delante del nombre de un atributo o método de una clase, significa que es de uso interno. Aunque en Python no puedes evitar que se vea dicho atributo, estás indicando que en un futuro puede que no esté, o que cambie su uso.\n",
    "\n",
    "    Además, si en un módulo defines una función cuyo nombre comienza por un subrayado, entonces esa función no se importará cuando se importe el módulo con la orden ``from modulo import *``, aunque sí lo hará si hacemos simplemente ``import modulo``\n",
    "\n",
    "```python\n",
    "class Test:\n",
    "    def __init__(self):\n",
    "        self.name = \"datacamp\"\n",
    "        self._num = 7   # privado\n",
    "```\n",
    "\n",
    "\n",
    "\n",
    "\n",
    "* Un subrayado al final del nombre de una variable se suele utilizar cuando dicho nombre coincide con una palabra reservada de Python. Por ejemplo, si quieres definir una variable ``class`` no puedes, así que se suele definir ``class_`` en su lugar.\n",
    "\n",
    "* El nombre de un atributo o método de una clase puede comenzar por dos subrayados si queremos que no pueda ser sobreescrito por una clase heredada. Python tomará el nombre construirá una versión que contiene el nombre de la clase como prefijo. Veamos un ejemplo:\n"
   ]
  },
  {
   "cell_type": "code",
   "execution_count": null,
   "id": "entertaining-mobility",
   "metadata": {},
   "outputs": [],
   "source": [
    "class Test:\n",
    "    def __mangled_name(self):\n",
    "        print(\"__mangled_name\")\n",
    "    def normal_name(self):\n",
    "        self.__normal_name_attribute = \"hola\"\n",
    "        print(f\"normal_name: {self.__normal_name_attribute}\")\n",
    "\n",
    "t = Test()\n",
    "t.normal_name()\n",
    "[attr for attr in dir(t) if \"name\" in attr]   # la función dir() devuelve todos los atributos y métodos de una clase"
   ]
  },
  {
   "cell_type": "markdown",
   "id": "consistent-buffer",
   "metadata": {},
   "source": [
    "Como se puede ver, se ha añadido el prefijo ``_Test`` tanto al método ``__mangled_name`` como al atributo de instancia `__normal_name_atributo`. Si ahora heredamos de esta clase e intentamos cambiar el método, no perderemos el de la clase padre. Por supuesto podemos usar la variable dentro de la clase, pero si la intentamos usar desde otro sitio, no tendrá el prefijo adecuado y no la encontrará."
   ]
  },
  {
   "cell_type": "code",
   "execution_count": null,
   "id": "virgin-luxembourg",
   "metadata": {},
   "outputs": [],
   "source": [
    "t.normal_name()"
   ]
  },
  {
   "cell_type": "code",
   "execution_count": null,
   "id": "minus-belfast",
   "metadata": {},
   "outputs": [],
   "source": [
    "t.__mangled_name()   # esto dará error porque no existe un método llamado así"
   ]
  },
  {
   "cell_type": "code",
   "execution_count": null,
   "id": "prompt-fossil",
   "metadata": {},
   "outputs": [],
   "source": [
    "t._Test__mangled_name()   # recordemos que no hay nada privado en Python"
   ]
  },
  {
   "cell_type": "markdown",
   "id": "superb-dictionary",
   "metadata": {},
   "source": [
    "Y hemos dejado para el final una utilización del subrayado que ya hemos comprobado con anterioridad: el uso de doble subrayado delante y detrás de un nombre. Esta notación se usa para crear lo que en Python se denominan ***magic methods*** o ***dunder methods*** (contracción de *double underscore*). No están pensados para que los llamemos nosotros mismos, sino para que los use internamente Python para ciertas acciones. La función ``dir()`` nos proporcionará todos los métodos y atributos de una clase, incluyendo los métodos mágicos. Veamos un ejemplo:"
   ]
  },
  {
   "cell_type": "code",
   "execution_count": null,
   "id": "alternate-carter",
   "metadata": {},
   "outputs": [],
   "source": [
    "dir(list)"
   ]
  },
  {
   "cell_type": "markdown",
   "id": "fdcbdd0b",
   "metadata": {},
   "source": [
    "Algunos de ellos nos sirven para implementar el comportamiento de los operadores cuando se aplican a los objetos de esa clase. Por ejemplo, cómo se invocan los métodos mágicos *__str__* y *__add__* en el siguiente código:"
   ]
  },
  {
   "cell_type": "code",
   "execution_count": null,
   "id": "41375fd6",
   "metadata": {},
   "outputs": [],
   "source": [
    "class A(object):\n",
    "    def __init__(self, num):\n",
    "        self.num = num\n",
    "    \n",
    "    def __add__(self, other):\n",
    "        print(\"Ejecutando __add__...\")\n",
    "        return A(self.num + other.num)   # este método mágico está asociado al operador +\n",
    "    \n",
    "    def __str__(self):\n",
    "        print(\"Ejecutando __str__...\")\n",
    "        return str(self.num)   # este método mágico nos devuelve una representación del objeto como una cadena\n",
    "    \n",
    "    def __repr__(self):\n",
    "        print(\"Ejecutando __repr__...\")\n",
    "        return str(self.num)   # este método mágico nos devuelve el objeto en un formato evaluable por Python"
   ]
  },
  {
   "cell_type": "code",
   "execution_count": null,
   "id": "081208c8",
   "metadata": {},
   "outputs": [],
   "source": [
    "a = A(5)\n",
    "b = A(6)\n",
    "print(a+b)"
   ]
  },
  {
   "cell_type": "markdown",
   "id": "white-transcript",
   "metadata": {},
   "source": [
    "Así, por ejemplo, implementando el método ``__add__`` podremos decir qué sucede cuando dos listas se suman."
   ]
  },
  {
   "cell_type": "code",
   "execution_count": null,
   "id": "union-georgia",
   "metadata": {},
   "outputs": [],
   "source": [
    "L1 = [1,2,3]\n",
    "L1 + [4,5,6]"
   ]
  },
  {
   "cell_type": "code",
   "execution_count": null,
   "id": "above-inquiry",
   "metadata": {},
   "outputs": [],
   "source": [
    "L1.__add__([4,5,6])   # exactamente el mismo comportamiento"
   ]
  },
  {
   "cell_type": "markdown",
   "id": "desirable-pound",
   "metadata": {},
   "source": [
    "Estos métodos mágicos son la base del uso del *duck typing*, ya que para que podamos utilizar nuestra clase en cualquier función que esté esperando un objeto iterable (una lista, una tupla, un conjunto, un diccionario, etc.) solamente tendremos que proporcionarle un método mágico ``__getitem__`` y otro ``__len__``. A partir de ese momento podremos hacer ``for x in miobjeto:`` y funcionará sin problemas. Si tiene los métodos de un iterador, se puede usar donde se necesita un objeto que itere, y esa es la idea del *duck typing*. \n",
    "\n",
    "De la misma forma, si queremos que nuestro objeto pueda ser mostrado por la orden ``print(objeto)``, solamente necesitaremos implementar el método mágico ``__str__`` que devolverá una cadena con la representación del objeto. Curiosamente, esta representación no es la misma que si evaluamos un objeto directamente en Python y nos muestra su valor. En ese caso no se usará ``__str__`` sino ``__expr__``, que lo que devuelve es una cadena que consiste en la representación del objeto tal y como lo definiríamos en nuestro código, de manera que si lo copiamos y pegamos en un código Python, sería ejecutable sin problemas. Esto último se ve fácilmente con un ejemplo."
   ]
  },
  {
   "cell_type": "code",
   "execution_count": null,
   "id": "geological-vegetation",
   "metadata": {},
   "outputs": [],
   "source": [
    "cad = 'cadena de prueba'"
   ]
  },
  {
   "cell_type": "code",
   "execution_count": null,
   "id": "molecular-longitude",
   "metadata": {},
   "outputs": [],
   "source": [
    "cad   # mostrará la cadena con comillas para que podamos usarla en nuestro código directamente"
   ]
  },
  {
   "cell_type": "code",
   "execution_count": null,
   "id": "wound-optimization",
   "metadata": {},
   "outputs": [],
   "source": [
    "print(cad)   # mostrará la cadena sin comillas porque es lo que esperamos que imprima"
   ]
  },
  {
   "cell_type": "code",
   "execution_count": null,
   "id": "c89d0f06-cbf1-4644-9f8b-2f6af51c70c7",
   "metadata": {},
   "outputs": [],
   "source": [
    "class MiIterable():\n",
    "    def __init__(self, lista):\n",
    "        self._elementos = lista\n",
    "\n",
    "    def __getitem__(self, idx):\n",
    "        return self._elementos[idx]\n",
    "\n",
    "    def __len__(self):\n",
    "        return len(self._elementos)\n",
    "\n",
    "    def __repr__(self):\n",
    "        return f\"{__class__.__name__}({self._elementos})\"\n",
    "\n",
    "    def __str__(self):\n",
    "        return f\"[{', '.join(str(e) for e in self._elementos)}]\""
   ]
  },
  {
   "cell_type": "code",
   "execution_count": null,
   "id": "248ccf93-5b8d-4339-88bb-12539793b8e2",
   "metadata": {},
   "outputs": [],
   "source": [
    "mi = MiIterable([1, 2, 3])"
   ]
  },
  {
   "cell_type": "code",
   "execution_count": null,
   "id": "e9a07356-0d8a-420c-b0a9-8e3f739f17c9",
   "metadata": {},
   "outputs": [],
   "source": [
    "for e in mi:\n",
    "    print(e)\n",
    "print(len(mi))"
   ]
  },
  {
   "cell_type": "code",
   "execution_count": null,
   "id": "bee95004-7078-4840-a0a1-50f21f7b4833",
   "metadata": {},
   "outputs": [],
   "source": [
    "mi   # muestra la representación de mi que podemos usar en nuestro código directamente"
   ]
  },
  {
   "cell_type": "code",
   "execution_count": null,
   "id": "7d8ba2ad-442a-4784-b6d5-ae30cfb7691e",
   "metadata": {
    "tags": []
   },
   "outputs": [],
   "source": [
    "print(mi)   # muestra la representación de mi como una cadena de caracteres"
   ]
  },
  {
   "cell_type": "markdown",
   "id": "8a10f539",
   "metadata": {},
   "source": [
    "## Gestores de contexto: sentencia *with*"
   ]
  },
  {
   "cell_type": "markdown",
   "id": "40d42ca3",
   "metadata": {},
   "source": [
    "La sentencia `with` se utiliza en Python para asegurar que la ejecución de un bloque de código siempre viene inmediatamente precedida y seguida de la llamada a determinadas funciones. En otras palabras, `with` permite ejecutar un código en un determinado *contexto*."
   ]
  },
  {
   "cell_type": "markdown",
   "id": "c11b0ae5",
   "metadata": {},
   "source": [
    "Cualquier clase que implemente el protocolo *context manager* (es decir, los *dunder methods* `__enter__` y `__exit__` se convierte un gestor de contexto:"
   ]
  },
  {
   "cell_type": "code",
   "execution_count": null,
   "id": "b29d9cc5",
   "metadata": {},
   "outputs": [],
   "source": [
    "class Saludo:\n",
    "    def __init__(self, name):\n",
    "        self.name = name\n",
    "\n",
    "    def __enter__(self):\n",
    "        print(f\"Entrando en el contexto {self.name}\")\n",
    "        return self\n",
    "\n",
    "    def __exit__(self, exc_type, exc_value, exc_tb):\n",
    "        print(f\"Saliendo del contexto {self.name}\")"
   ]
  },
  {
   "cell_type": "markdown",
   "id": "3c0e97c9",
   "metadata": {},
   "source": [
    "En el siguiente ejemplo, `Saludo(\"MiContexto\")` es una expresión que retorna un objeto gestor de contexto. Opcionalmente, dicho objeto puede ligarse a una variable usando `as`. "
   ]
  },
  {
   "cell_type": "code",
   "execution_count": null,
   "id": "8eee87f7",
   "metadata": {},
   "outputs": [],
   "source": [
    "with Saludo(\"MiContexto\") as ctx:\n",
    "    print(\"Dentro del contexto \"+ctx.name)"
   ]
  },
  {
   "cell_type": "markdown",
   "id": "295e86f8",
   "metadata": {},
   "source": [
    "El uso más común de los gestores de contexto es probablemente para manejar diferentes recursos tales como ficheros, cerrojos o conexiones a bases de datos. Veámoslo con un ejemplo. Imaginemos que tenemos un fichero de texto que contiene un número y queremos escribir un programa que opere sobre el contenido de dicho fichero:"
   ]
  },
  {
   "cell_type": "code",
   "execution_count": null,
   "id": "da697ce8",
   "metadata": {},
   "outputs": [],
   "source": [
    "!echo \"100\" > data.txt\n",
    "\n",
    "f = open('data.txt')\n",
    "data = f.readlines()\n",
    "print(int(data[0]))\n",
    "\n",
    "f.close()"
   ]
  },
  {
   "cell_type": "markdown",
   "id": "e3eb8d00",
   "metadata": {},
   "source": [
    "Sin embargo, en el caso de que el fichero contenga datos que no puedan ser convertidos a entero, se lanzaría una excepción `ValueError: invalid literal for int() .... ` y el fichero quedaría abierto, lo cual podría provocar inconsistencias, pérdida de datos, etc."
   ]
  },
  {
   "cell_type": "code",
   "execution_count": null,
   "id": "548284ad",
   "metadata": {},
   "outputs": [],
   "source": [
    "f.closed   # Prueba a cambiar el echo anterior por un valor no numérico y re-ejecutar esta celda"
   ]
  },
  {
   "cell_type": "markdown",
   "id": "5596ef1d",
   "metadata": {},
   "source": [
    "Para evitar esta situación, se podría haber usado la sentencia `try...except...finally`"
   ]
  },
  {
   "cell_type": "code",
   "execution_count": null,
   "id": "e01cbd4b",
   "metadata": {},
   "outputs": [],
   "source": [
    "\n",
    "try:\n",
    "    f = open('data.txt')\n",
    "    data = f.readlines()\n",
    "    # convert the number to integer and display it\n",
    "    print(int(data[0]))\n",
    "except ValueError as error:\n",
    "    print(error)\n",
    "finally:\n",
    "    f.close()"
   ]
  },
  {
   "cell_type": "markdown",
   "id": "e60a5a8b",
   "metadata": {},
   "source": [
    "Puesto que el código del bloque `finally` siempre se ejecuta, el fichero se cerrará adecuadamente en todos los casos. Aunque esta solución funciona adecuadamente, el resultado es bastante verboso. Vemos claramente cómo la sentencia `with` proporciona una forma más *pythónica* de liberar un recurso automáticamente tras terminar de procesarlo.\n",
    "\n",
    "El siguiente código muestra cómo usar un gestor de contexto para procesar el fichero anterior:"
   ]
  },
  {
   "cell_type": "code",
   "execution_count": null,
   "id": "d94449ec",
   "metadata": {},
   "outputs": [],
   "source": [
    "with open('data.txt') as f:\n",
    "    data = f.readlines()\n",
    "    print(int(data[0]))"
   ]
  },
  {
   "cell_type": "markdown",
   "id": "67aba4c4",
   "metadata": {},
   "source": [
    "# Apéndice"
   ]
  },
  {
   "cell_type": "markdown",
   "id": "rolled-authority",
   "metadata": {},
   "source": [
    "## Métodos alternativos de inicialización"
   ]
  },
  {
   "cell_type": "markdown",
   "id": "sonic-hanging",
   "metadata": {},
   "source": [
    "A veces querremos que el constructor de nuestra clase incluya un parámetro con un valor por defecto. Hay que tener cuidado porque estaremos tentados a hacer lo siguiente:"
   ]
  },
  {
   "cell_type": "code",
   "execution_count": null,
   "id": "absolute-davis",
   "metadata": {},
   "outputs": [],
   "source": [
    "class A:\n",
    "    def __init__(self, items=[]):   # ¡ojo! el inicializador solo se evalúa una vez\n",
    "        self.items = items"
   ]
  },
  {
   "cell_type": "markdown",
   "id": "opening-palace",
   "metadata": {},
   "source": [
    "Sin embargo esto tiene el siguiente problema:"
   ]
  },
  {
   "cell_type": "code",
   "execution_count": null,
   "id": "charitable-advantage",
   "metadata": {},
   "outputs": [],
   "source": [
    "a = A()\n",
    "b = A()\n",
    "a.items.append(5)\n",
    "print(b.items)"
   ]
  },
  {
   "cell_type": "markdown",
   "id": "checked-multimedia",
   "metadata": {},
   "source": [
    "¿Qué ha sucedido? Que el valor por defecto solo se evalúa una vez, así que se crea una sola vez y a todas las instancias se les asigna la misma lista. En estos casos se suele utilizar un código parecido al siguiente:"
   ]
  },
  {
   "cell_type": "code",
   "execution_count": null,
   "id": "filled-detection",
   "metadata": {},
   "outputs": [],
   "source": [
    "class B(object):\n",
    "    def __init__(self, items=None):\n",
    "        if items is None:\n",
    "            self.items = []\n",
    "        else:\n",
    "            self.items = items"
   ]
  },
  {
   "cell_type": "markdown",
   "id": "turned-stereo",
   "metadata": {},
   "source": [
    "A veces también querremos tener varios constructores diferentes que devuelvan una instancia a partir de parámetros diferentes. Supongamos que tenemos la siguiente clase `Persona`:"
   ]
  },
  {
   "cell_type": "code",
   "execution_count": null,
   "id": "medium-quick",
   "metadata": {},
   "outputs": [],
   "source": [
    "class Persona(object):\n",
    "    def __init__(self, nombre, primer_apellido, edad):\n",
    "        self.nombre = nombre\n",
    "        self.primer_apellido = primer_apellido\n",
    "        self.edad = edad\n",
    "        self.nombre_completo = f\"{self.nombre} {self.primer_apellido}\"\n",
    "        \n",
    "    def saludo(self):\n",
    "        print(f\"Hola, mi nombre es {self.nombre_completo}\")"
   ]
  },
  {
   "cell_type": "markdown",
   "id": "oriented-return",
   "metadata": {},
   "source": [
    "Sería útil tener una forma de crear objetos pasándole el nombre completo en lugar del nombre y los apellidos por separado. Una forma de hacer esto sería poniendo el primer apellido como un argumento opcional, y asumir que si no se nos pasa, lo que contiene nombre es el nombre completo."
   ]
  },
  {
   "cell_type": "code",
   "execution_count": null,
   "id": "mineral-poland",
   "metadata": {},
   "outputs": [],
   "source": [
    "class Persona(object):\n",
    "    def __init__(self, nombre, edad, primer_apellido=None):  # hay que cambiar el orden\n",
    "        if primer_apellido is None:\n",
    "            self.nombre, self.primer_apellido = nombre.split(\" \", 2)\n",
    "        else:\n",
    "            self.nombre = nombre\n",
    "            self.primer_apellido = primer_apellido\n",
    "        self.edad = edad\n",
    "        self.nombre_completo = f\"{self.nombre} {self.primer_apellido}\"\n",
    "\n",
    "    def saludo(self):\n",
    "        print(f\"Hola, mi nombre es {self.nombre_completo}\")"
   ]
  },
  {
   "cell_type": "markdown",
   "id": "surprised-airfare",
   "metadata": {},
   "source": [
    "Sin embargo este código tiene dos problemas:\n",
    "\n",
    "- Los parámetros nombre y apellido son ahora engañosos, ya que se puede introducir un nombre completo para nombre. Además, si hay más casos y/o más parámetros que tienen este tipo de flexibilidad, el tener que usar comprobaciones `if/elif/else` puede volverse molesto rápidamente.\n",
    "- No es tan importante, pero vale la pena señalarlo: ¿qué pasa si `primer_apellido` es `None`, pero nombre no se divide en dos o más cosas mediante espacios? Tenemos otra capa de validación de entrada y/o manejo de excepciones...\n",
    "\n",
    "Y aquí entran los métodos de clase. En lugar de tener un único inicializador, crearemos un inicializador separado para este caso, llamado `a_partir_de_nombre_completo` y usaremos el decorador `@classmethod`. "
   ]
  },
  {
   "cell_type": "code",
   "execution_count": null,
   "id": "architectural-plumbing",
   "metadata": {},
   "outputs": [],
   "source": [
    "class Persona(object):\n",
    "    def __init__(self, nombre, primer_apellido, edad):\n",
    "        self.nombre = nombre\n",
    "        self.primer_apellido = primer_apellido\n",
    "        self.edad = edad\n",
    "        self.nombre_completo = f\"{self.nombre} {self.primer_apellido}\"\n",
    "\n",
    "    @classmethod\n",
    "    def a_partir_de_nombre_completo(cls, nombre_completo, edad):   # se usa cls y no self\n",
    "        if \" \" not in nombre_completo:\n",
    "            raise ValueError\n",
    "        nombre, primer_apellido = nombre_completo.split(\" \", 2)\n",
    "        return cls(nombre, primer_apellido, edad)\n",
    "\n",
    "    def saludo(self):\n",
    "        print(f\"Hola, mi nombre es {self.nombre_completo}\")"
   ]
  },
  {
   "cell_type": "markdown",
   "id": "sudden-penalty",
   "metadata": {},
   "source": [
    "Observa que ``cls`` en lugar de ``self`` es el primer argumento de ``a_partir_de_nombre_completo``. Los métodos de clase se aplican a la clase en general, no a una instancia de una clase dada (que es lo que normalmente denota ``self``). Así, si ``cls`` es nuestra clase ``Persona``, entonces el valor devuelto por el método de clase ``a_partir_de_nombre_completo`` es ``Persona(nombre, primer_apellido, edad)``, que utiliza el ``__init__`` de ``Persona`` para crear una instancia de la clase ``Persona``. En particular, si hiciéramos una subclase ``Empleado`` de ``Persona``, entonces ``a_partir_de_nombre_completo`` funcionaría también en la clase ``Empleado``.\n",
    "\n",
    "Veamos que funciona creando unas instancias."
   ]
  },
  {
   "cell_type": "code",
   "execution_count": null,
   "id": "efficient-monitoring",
   "metadata": {},
   "outputs": [],
   "source": [
    "bob = Persona(\"Bob\", \"Bobberson\", 42)"
   ]
  },
  {
   "cell_type": "code",
   "execution_count": null,
   "id": "convenient-sessions",
   "metadata": {},
   "outputs": [],
   "source": [
    "alice = Persona.a_partir_de_nombre_completo(\"Alice Henderson\", 31)"
   ]
  },
  {
   "cell_type": "code",
   "execution_count": null,
   "id": "congressional-installation",
   "metadata": {},
   "outputs": [],
   "source": [
    "bob.saludo()"
   ]
  },
  {
   "cell_type": "code",
   "execution_count": null,
   "id": "ready-vintage",
   "metadata": {},
   "outputs": [],
   "source": [
    "alice.saludo()"
   ]
  }
 ],
 "metadata": {
  "kernelspec": {
   "display_name": "Python 3 (ipykernel)",
   "language": "python",
   "name": "python3"
  },
  "language_info": {
   "codemirror_mode": {
    "name": "ipython",
    "version": 3
   },
   "file_extension": ".py",
   "mimetype": "text/x-python",
   "name": "python",
   "nbconvert_exporter": "python",
   "pygments_lexer": "ipython3",
   "version": "3.7.12"
  },
  "toc": {
   "base_numbering": 1,
   "nav_menu": {},
   "number_sections": true,
   "sideBar": true,
   "skip_h1_title": false,
   "title_cell": "Tabla de contenidos",
   "title_sidebar": "Contents",
   "toc_cell": true,
   "toc_position": {
    "height": "calc(100% - 180px)",
    "left": "10px",
    "top": "150px",
    "width": "291.85px"
   },
   "toc_section_display": true,
   "toc_window_display": true
  }
 },
 "nbformat": 4,
 "nbformat_minor": 5
}
