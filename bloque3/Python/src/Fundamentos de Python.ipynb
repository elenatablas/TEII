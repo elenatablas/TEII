{
 "cells": [
  {
   "cell_type": "markdown",
   "metadata": {
    "toc": true
   },
   "source": [
    "<h1>Tabla de contenidos<span class=\"tocSkip\"></span></h1>\n",
    "<div class=\"toc\"><ul class=\"toc-item\"><li><span><a href=\"#Fundamentos-de-Python\" data-toc-modified-id=\"Fundamentos-de-Python-1\"><span class=\"toc-item-num\">1&nbsp;&nbsp;</span>Fundamentos de Python</a></span><ul class=\"toc-item\"><li><span><a href=\"#Generalidades\" data-toc-modified-id=\"Generalidades-1.1\"><span class=\"toc-item-num\">1.1&nbsp;&nbsp;</span>Generalidades</a></span><ul class=\"toc-item\"><li><span><a href=\"#Programas-estructurados-a-través-de-la-indentación\" data-toc-modified-id=\"Programas-estructurados-a-través-de-la-indentación-1.1.1\"><span class=\"toc-item-num\">1.1.1&nbsp;&nbsp;</span>Programas estructurados a través de la indentación</a></span></li><li><span><a href=\"#Características-de-las-variables-en-Python\" data-toc-modified-id=\"Características-de-las-variables-en-Python-1.1.2\"><span class=\"toc-item-num\">1.1.2&nbsp;&nbsp;</span>Características de las variables en Python</a></span></li></ul></li><li><span><a href=\"#Tipos-de-datos-en-Python\" data-toc-modified-id=\"Tipos-de-datos-en-Python-1.2\"><span class=\"toc-item-num\">1.2&nbsp;&nbsp;</span>Tipos de datos en Python</a></span><ul class=\"toc-item\"><li><span><a href=\"#Tipos-inmutables\" data-toc-modified-id=\"Tipos-inmutables-1.2.1\"><span class=\"toc-item-num\">1.2.1&nbsp;&nbsp;</span>Tipos inmutables</a></span><ul class=\"toc-item\"><li><span><a href=\"#Enteros\" data-toc-modified-id=\"Enteros-1.2.1.1\"><span class=\"toc-item-num\">1.2.1.1&nbsp;&nbsp;</span>Enteros</a></span></li><li><span><a href=\"#Reales\" data-toc-modified-id=\"Reales-1.2.1.2\"><span class=\"toc-item-num\">1.2.1.2&nbsp;&nbsp;</span>Reales</a></span></li><li><span><a href=\"#Booleanos\" data-toc-modified-id=\"Booleanos-1.2.1.3\"><span class=\"toc-item-num\">1.2.1.3&nbsp;&nbsp;</span><em>Booleanos</em></a></span></li><li><span><a href=\"#Números-complejos\" data-toc-modified-id=\"Números-complejos-1.2.1.4\"><span class=\"toc-item-num\">1.2.1.4&nbsp;&nbsp;</span>Números complejos</a></span></li><li><span><a href=\"#Cadenas-de-caracteres\" data-toc-modified-id=\"Cadenas-de-caracteres-1.2.1.5\"><span class=\"toc-item-num\">1.2.1.5&nbsp;&nbsp;</span>Cadenas de caracteres</a></span></li><li><span><a href=\"#Tuplas\" data-toc-modified-id=\"Tuplas-1.2.1.6\"><span class=\"toc-item-num\">1.2.1.6&nbsp;&nbsp;</span>Tuplas</a></span></li></ul></li><li><span><a href=\"#Tipos-mutables\" data-toc-modified-id=\"Tipos-mutables-1.2.2\"><span class=\"toc-item-num\">1.2.2&nbsp;&nbsp;</span>Tipos mutables</a></span><ul class=\"toc-item\"><li><span><a href=\"#Listas\" data-toc-modified-id=\"Listas-1.2.2.1\"><span class=\"toc-item-num\">1.2.2.1&nbsp;&nbsp;</span>Listas</a></span></li><li><span><a href=\"#Diccionarios\" data-toc-modified-id=\"Diccionarios-1.2.2.2\"><span class=\"toc-item-num\">1.2.2.2&nbsp;&nbsp;</span>Diccionarios</a></span></li><li><span><a href=\"#Conjuntos\" data-toc-modified-id=\"Conjuntos-1.2.2.3\"><span class=\"toc-item-num\">1.2.2.3&nbsp;&nbsp;</span>Conjuntos</a></span></li></ul></li><li><span><a href=\"#Comprobación-de-tipos\" data-toc-modified-id=\"Comprobación-de-tipos-1.2.3\"><span class=\"toc-item-num\">1.2.3&nbsp;&nbsp;</span>Comprobación de tipos</a></span></li><li><span><a href=\"#Conversiones-de-tipos\" data-toc-modified-id=\"Conversiones-de-tipos-1.2.4\"><span class=\"toc-item-num\">1.2.4&nbsp;&nbsp;</span>Conversiones de tipos</a></span></li></ul></li><li><span><a href=\"#Operadores-y-sentencias\" data-toc-modified-id=\"Operadores-y-sentencias-1.3\"><span class=\"toc-item-num\">1.3&nbsp;&nbsp;</span>Operadores y sentencias</a></span><ul class=\"toc-item\"><li><span><a href=\"#Operadores-aritméticos-y-lógicos\" data-toc-modified-id=\"Operadores-aritméticos-y-lógicos-1.3.1\"><span class=\"toc-item-num\">1.3.1&nbsp;&nbsp;</span>Operadores aritméticos y lógicos</a></span></li><li><span><a href=\"#Sentencias-condicionales-(if-elif-else)\" data-toc-modified-id=\"Sentencias-condicionales-(if-elif-else)-1.3.2\"><span class=\"toc-item-num\">1.3.2&nbsp;&nbsp;</span>Sentencias condicionales (<code>if-elif-else</code>)</a></span></li><li><span><a href=\"#Sentencia-while\" data-toc-modified-id=\"Sentencia-while-1.3.3\"><span class=\"toc-item-num\">1.3.3&nbsp;&nbsp;</span>Sentencia <code>while</code></a></span></li><li><span><a href=\"#Sentencia-for-in\" data-toc-modified-id=\"Sentencia-for-in-1.3.4\"><span class=\"toc-item-num\">1.3.4&nbsp;&nbsp;</span>Sentencia <code>for-in</code></a></span></li></ul></li><li><span><a href=\"#Cadenas-de-caracteres:-operaciones-y-formato\" data-toc-modified-id=\"Cadenas-de-caracteres:-operaciones-y-formato-1.4\"><span class=\"toc-item-num\">1.4&nbsp;&nbsp;</span>Cadenas de caracteres: operaciones y formato</a></span><ul class=\"toc-item\"><li><ul class=\"toc-item\"><li><span><a href=\"#Operaciones-básicas\" data-toc-modified-id=\"Operaciones-básicas-1.4.0.1\"><span class=\"toc-item-num\">1.4.0.1&nbsp;&nbsp;</span>Operaciones básicas</a></span></li><li><span><a href=\"#Operaciones-comunes\" data-toc-modified-id=\"Operaciones-comunes-1.4.0.2\"><span class=\"toc-item-num\">1.4.0.2&nbsp;&nbsp;</span>Operaciones comunes</a></span></li><li><span><a href=\"#Formato-de-cadenas\" data-toc-modified-id=\"Formato-de-cadenas-1.4.0.3\"><span class=\"toc-item-num\">1.4.0.3&nbsp;&nbsp;</span>Formato de cadenas</a></span></li></ul></li></ul></li><li><span><a href=\"#Operaciones-con-tipos-mutables\" data-toc-modified-id=\"Operaciones-con-tipos-mutables-1.5\"><span class=\"toc-item-num\">1.5&nbsp;&nbsp;</span>Operaciones con tipos mutables</a></span><ul class=\"toc-item\"><li><span><a href=\"#Listas\" data-toc-modified-id=\"Listas-1.5.1\"><span class=\"toc-item-num\">1.5.1&nbsp;&nbsp;</span>Listas</a></span><ul class=\"toc-item\"><li><span><a href=\"#List-comprehensions\" data-toc-modified-id=\"List-comprehensions-1.5.1.1\"><span class=\"toc-item-num\">1.5.1.1&nbsp;&nbsp;</span><em>List comprehensions</em></a></span></li><li><span><a href=\"#Recorridos-avanzados\" data-toc-modified-id=\"Recorridos-avanzados-1.5.1.2\"><span class=\"toc-item-num\">1.5.1.2&nbsp;&nbsp;</span>Recorridos avanzados</a></span></li></ul></li><li><span><a href=\"#Diccionarios\" data-toc-modified-id=\"Diccionarios-1.5.2\"><span class=\"toc-item-num\">1.5.2&nbsp;&nbsp;</span>Diccionarios</a></span><ul class=\"toc-item\"><li><span><a href=\"#Dict-comprehensions\" data-toc-modified-id=\"Dict-comprehensions-1.5.2.1\"><span class=\"toc-item-num\">1.5.2.1&nbsp;&nbsp;</span><em>Dict comprehensions</em></a></span></li></ul></li><li><span><a href=\"#Conjuntos\" data-toc-modified-id=\"Conjuntos-1.5.3\"><span class=\"toc-item-num\">1.5.3&nbsp;&nbsp;</span>Conjuntos</a></span></li></ul></li><li><span><a href=\"#Funciones\" data-toc-modified-id=\"Funciones-1.6\"><span class=\"toc-item-num\">1.6&nbsp;&nbsp;</span>Funciones</a></span></li><li><span><a href=\"#Entrada/Salida\" data-toc-modified-id=\"Entrada/Salida-1.7\"><span class=\"toc-item-num\">1.7&nbsp;&nbsp;</span>Entrada/Salida</a></span><ul class=\"toc-item\"><li><span><a href=\"#Entrada-estándar\" data-toc-modified-id=\"Entrada-estándar-1.7.1\"><span class=\"toc-item-num\">1.7.1&nbsp;&nbsp;</span>Entrada estándar</a></span></li><li><span><a href=\"#Salida-estándar\" data-toc-modified-id=\"Salida-estándar-1.7.2\"><span class=\"toc-item-num\">1.7.2&nbsp;&nbsp;</span>Salida estándar</a></span></li><li><span><a href=\"#Lectura/escritura-de-archivos\" data-toc-modified-id=\"Lectura/escritura-de-archivos-1.7.3\"><span class=\"toc-item-num\">1.7.3&nbsp;&nbsp;</span>Lectura/escritura de archivos</a></span></li></ul></li><li><span><a href=\"#Obteniendo-Ayuda\" data-toc-modified-id=\"Obteniendo-Ayuda-1.8\"><span class=\"toc-item-num\">1.8&nbsp;&nbsp;</span>Obteniendo Ayuda</a></span></li><li><span><a href=\"#Referencias\" data-toc-modified-id=\"Referencias-1.9\"><span class=\"toc-item-num\">1.9&nbsp;&nbsp;</span>Referencias</a></span></li></ul></li></ul></div>"
   ]
  },
  {
   "cell_type": "markdown",
   "metadata": {},
   "source": [
    "# Fundamentos de Python"
   ]
  },
  {
   "cell_type": "markdown",
   "metadata": {},
   "source": [
    "## Generalidades\n",
    "\n",
    "* Lenguaje creado por Guido Van Rossum en los años 80\n",
    "* Su  nombre es un homenaje a los cómicos ingleses Monty Python\n",
    "* Combina un compilador y un intérprete, al igual que hace Java\n",
    "* Los archivos fuente tienen extensión `.py` y los compilados `.pyc`\n",
    "* Se puede usar interactivamente desde un terminal o con *notebooks*\n",
    "* Lenguaje orientado a objetos y dinámicamente tipado\n",
    "* Gestiona automáticamente (implícitamente) la memoria dinámica\n",
    "* Tiene una librería estándar muy potente con cientos de miles de paquetes disponibles\n",
    "* La biblioteca estándar incluye funciones y clases que admiten un estilo de programación funcional"
   ]
  },
  {
   "cell_type": "markdown",
   "metadata": {
    "tags": []
   },
   "source": [
    "### Programas estructurados a través de la indentación\n",
    "\n",
    "Todas las sentencias con la misma distancia desde el margen izquierdo pertenecen al mismo bloque de código."
   ]
  },
  {
   "cell_type": "code",
   "execution_count": null,
   "metadata": {},
   "outputs": [],
   "source": [
    "def calcula_media(x, y, umbral):\n",
    "    resultado = (x + y) / 2\n",
    "    if resultado > umbral:\n",
    "        print(\"Media por encima del umbral\")\n",
    "    else:\n",
    "        print(\"No hemos llegado al umbral\")\n",
    "    return resultado\n",
    "\n",
    "calcula_media(2, 4, 3)"
   ]
  },
  {
   "cell_type": "markdown",
   "metadata": {},
   "source": [
    "### Características de las variables en Python\n",
    "\n",
    "* Son secuencias arbitrariamente largas de letras, dígitos y el carácter `_`\n",
    "* No deben empezar por un dígito\n",
    "* Distinguen mayúsculas y minúsculas\n",
    "* Pueden contener caracteres Unicode\n",
    "* No se pueden usar las siguientes palabras reservadas como nombres de variables:\n",
    "```\n",
    "False None True and as assert async await break class continue def del elif else except finally for from global if import in is lambda nonlocal not or pass raise return try while with yield\n",
    "```"
   ]
  },
  {
   "cell_type": "code",
   "execution_count": null,
   "metadata": {},
   "outputs": [],
   "source": [
    "print('variable'.isidentifier())"
   ]
  },
  {
   "cell_type": "markdown",
   "metadata": {},
   "source": [
    "* **No hay declaración de variables**, se crean cuando se les asigna un valor\n",
    "* Una variable contiene una referencia a un objeto, **no contiene el objeto en sí**, por lo que las asignaciones a veces son poco intuitivas"
   ]
  },
  {
   "cell_type": "code",
   "execution_count": null,
   "metadata": {},
   "outputs": [],
   "source": [
    "saludo = \"Hola, TEII!\"\n",
    "print(saludo)"
   ]
  },
  {
   "cell_type": "markdown",
   "metadata": {},
   "source": [
    "Para entender la diferencia entre el contenido de la variable y el objeto, podemos usar la función `id(variable)` que nos devuelve el identificador del objeto asociado a la variable. Normalmente se puede interpretar como un puntero, es decir, una dirección de memoria."
   ]
  },
  {
   "cell_type": "code",
   "execution_count": null,
   "metadata": {},
   "outputs": [],
   "source": [
    "x = 5  # asociamos a la variable x el objeto entero 5\n",
    "y = 1  # asociamos a la variable y el objeto entero 1\n",
    "id(x), id(y)  # los dos objectos/valores son diferentes"
   ]
  },
  {
   "cell_type": "code",
   "execution_count": null,
   "metadata": {},
   "outputs": [],
   "source": [
    "z = 5  # sin embargo, si asignamos el mismo objeto entero 5 a la variable z\n",
    "id(z)"
   ]
  },
  {
   "cell_type": "markdown",
   "metadata": {},
   "source": [
    "Con el operador `is` podemos verificar si dos variables hacen referencia al mismo objeto."
   ]
  },
  {
   "cell_type": "code",
   "execution_count": null,
   "metadata": {},
   "outputs": [],
   "source": [
    "s1 = 'hola'\n",
    "print(id(s1))\n",
    "s2 = s1\n",
    "print(id(s2))\n",
    "s3 = 'hola'\n",
    "print(id(s3))\n",
    "print(s1 is s2, s2 is s3, s1 is s3)"
   ]
  },
  {
   "cell_type": "markdown",
   "metadata": {},
   "source": [
    "Se pueden realizar asignaciones encadenadas, o incluso asignaciones múltiples con un valor diferente para cada variable."
   ]
  },
  {
   "cell_type": "code",
   "execution_count": null,
   "metadata": {},
   "outputs": [],
   "source": [
    "a = b = c = 2\n",
    "x, y, z = 1, 2, 3"
   ]
  },
  {
   "cell_type": "markdown",
   "metadata": {},
   "source": [
    "## Tipos de datos en Python\n",
    "\n",
    "* **Tipos inmutables**: sus instancias no se pueden modificar\n",
    "    - Los tipos básicos (`int`, `float`, `bool`), los números complejos, las cadenas de caracteres y las tuplas\n",
    "    - Todas las operaciones sobre tipos inmutables generan nuevas instancias, es decir, nuevos objetos"
   ]
  },
  {
   "cell_type": "code",
   "execution_count": null,
   "metadata": {},
   "outputs": [],
   "source": [
    "x = 1\n",
    "y = x\n",
    "x = 5\n",
    "print(y)"
   ]
  },
  {
   "cell_type": "markdown",
   "metadata": {},
   "source": [
    "Los números son inmutables, es decir, un 5 siempre es el mismo 5, y si le sumamos 1, se convierte en un 6 que es otra instancia diferente, el número 6."
   ]
  },
  {
   "cell_type": "code",
   "execution_count": null,
   "metadata": {},
   "outputs": [],
   "source": [
    "x = 5\n",
    "print(x, id(x))\n",
    "x = 5 + 1\n",
    "print(x, id(x))\n",
    "y = 6\n",
    "print(y, id(y))"
   ]
  },
  {
   "cell_type": "markdown",
   "metadata": {},
   "source": [
    "* **Tipos mutables**: sus instancias se pueden modificar\n",
    "    - Listas, diccionarios y conjuntos"
   ]
  },
  {
   "cell_type": "code",
   "execution_count": null,
   "metadata": {},
   "outputs": [],
   "source": [
    "x = [4, 1, 3, 2]  # las listas usan los corchetes\n",
    "print(x, id(x))\n",
    "x.sort()\n",
    "print(x, id(x))  # la lista ha cambiado pero su id no"
   ]
  },
  {
   "cell_type": "markdown",
   "metadata": {},
   "source": [
    "* **Tipos especiales**: `None` es un *singleton* de la clase `NoneType`. Sirve para indicar la no existencia de un valor, por ejemplo, una función que no tiene `return` devuelve `None`."
   ]
  },
  {
   "cell_type": "markdown",
   "metadata": {},
   "source": [
    "### Tipos inmutables"
   ]
  },
  {
   "cell_type": "markdown",
   "metadata": {},
   "source": [
    "#### Enteros\n",
    "\n",
    "Tienen un tamaño ilimitado."
   ]
  },
  {
   "cell_type": "code",
   "execution_count": null,
   "metadata": {},
   "outputs": [],
   "source": [
    "x = 2 ** 200  # 2 elevado a 200\n",
    "print(x)\n",
    "print(x * x * x)  # imprime x elevado a 3"
   ]
  },
  {
   "cell_type": "markdown",
   "metadata": {},
   "source": [
    "Se puede comenzar con `0b` para un número binario, `0o` para un octal y `0x`para un hexadecimal."
   ]
  },
  {
   "cell_type": "code",
   "execution_count": null,
   "metadata": {
    "tags": []
   },
   "outputs": [],
   "source": [
    "print(0b101)\n",
    "print(0o101)\n",
    "print(0x101)"
   ]
  },
  {
   "cell_type": "markdown",
   "metadata": {},
   "source": [
    "#### Reales\n",
    "\n",
    "No hay diferencias con otros lenguajes de programación."
   ]
  },
  {
   "cell_type": "code",
   "execution_count": null,
   "metadata": {
    "tags": []
   },
   "outputs": [],
   "source": [
    "x = -3.1416\n",
    "y = 2e-3\n",
    "print(x, y)"
   ]
  },
  {
   "cell_type": "markdown",
   "metadata": {
    "tags": []
   },
   "source": [
    "#### *Booleanos*\n",
    "\n",
    "Se representan por `True` y `False`."
   ]
  },
  {
   "cell_type": "code",
   "execution_count": null,
   "metadata": {
    "tags": []
   },
   "outputs": [],
   "source": [
    "print(4 == 5)\n",
    "print(4 < 5)"
   ]
  },
  {
   "cell_type": "markdown",
   "metadata": {},
   "source": [
    "#### Números complejos\n",
    "\n",
    "Python permite trabajar directamente con números complejos, usando `j` en lugar de `i`."
   ]
  },
  {
   "cell_type": "code",
   "execution_count": null,
   "metadata": {},
   "outputs": [],
   "source": [
    "print((1 + 3j) + (2 + 5j))"
   ]
  },
  {
   "cell_type": "code",
   "execution_count": null,
   "metadata": {},
   "outputs": [],
   "source": [
    "z = 1 + 3j\n",
    "print(z.real)\n",
    "print(z.imag)\n",
    "print(abs(z))"
   ]
  },
  {
   "cell_type": "markdown",
   "metadata": {},
   "source": [
    "#### Cadenas de caracteres\n",
    "* Las cadenas de caracteres se representan entre comillas simples o dobles comillas\n",
    "* Con un grupo de tres comillas, simples o dobles, se puede crear una cadena multilínea\n",
    "* La barra invertida `\\` se usa como carácter de *escape* para poder insertar comillas en una cadena"
   ]
  },
  {
   "cell_type": "code",
   "execution_count": null,
   "metadata": {
    "tags": []
   },
   "outputs": [],
   "source": [
    "c1 = 'Una cadena con comillas simples'\n",
    "c2 = \"Una cadena con comillas dobles\"\n",
    "c3 = \"\"\"Una cadena\n",
    "en varias líneas\n",
    "con retornos de carro\"\"\"\n",
    "print(c1)\n",
    "print(c2)\n",
    "print(c3)"
   ]
  },
  {
   "cell_type": "markdown",
   "metadata": {
    "tags": []
   },
   "source": [
    "#### Tuplas\n",
    "\n",
    "- Secuencias **ordenadas** e **inmutables** de objetos\n",
    "- Una tupla puede contener objetos de diferentes tipos\n",
    "- Una vez creada una tupla no se puede añadir o borrar elementos de la misma (inmutable)\n",
    "- Si se sabe que los elementos de la secuencia no van a cambiar, usar una tupla previene cambios accidentales\n",
    "- Generan una excepción `IndexError` si se accede a una posición que no existe, y una excepción `TypeError` si se intentan modificar\n",
    "- Sus operaciones básicas son similares a las cadenas (indexación, concatenación, longitud, rangos, etc.)"
   ]
  },
  {
   "cell_type": "code",
   "execution_count": null,
   "metadata": {
    "tags": []
   },
   "outputs": [],
   "source": [
    "vacia = ()  # las tuplas usan los paréntesis, esta línea crea una tupla vacía\n",
    "notas = ('do','re','mi','fa','sol','la','si')\n",
    "print(notas)\n",
    "fechas = tuple(['10/01','25/02','03/04'])  # crea una tupla a partir de una lista\n",
    "print(fechas)\n",
    "# notas[0] = 'me'  # produce una excepción TypeError\n",
    "# notas[len(notas)]  # produce una excepción IndexError\n",
    "tupla = (1, -3.1416, True, 1 + 3j, \"hola\", ('a', 'b'))  # una tupla puede incluir diferentes tipos\n",
    "print(tupla)"
   ]
  },
  {
   "cell_type": "markdown",
   "metadata": {
    "tags": []
   },
   "source": [
    "Las tuplas tienen operaciones básicas similares a las de las cadenas (indexación, concatenación, longitud, rangos, etc.)."
   ]
  },
  {
   "cell_type": "code",
   "execution_count": null,
   "metadata": {},
   "outputs": [],
   "source": [
    "print(len(notas[1:6] + fechas[1:2]))"
   ]
  },
  {
   "cell_type": "markdown",
   "metadata": {},
   "source": [
    "### Tipos mutables\n",
    "\n",
    "Las listas, los diccionarios y los conjuntos son colecciones de otros objetos. Una colección puede contener objetos de diferentes tipos."
   ]
  },
  {
   "cell_type": "markdown",
   "metadata": {
    "tags": []
   },
   "source": [
    "#### Listas\n",
    "\n",
    "- Secuencias **ordenadas** y **mutables** de objetos\n",
    "- Una lista puede contener objetos de diferentes tipos\n",
    "- Una vez creada una lista se pueden añadir, modificar o borrar elementos de la misma (mutable)\n",
    "- Se accede a sus elementos por medio de un índice, por lo que pueden verse como una generalización de un array\n",
    "- Se pueden anidar, es decir, se puede crear listas de listas\n",
    "- Sus operaciones básicas son similares a las cadenas (las cadenas se pueden considerar listas de caracteres)"
   ]
  },
  {
   "cell_type": "code",
   "execution_count": null,
   "metadata": {},
   "outputs": [],
   "source": [
    "lista_vacia = []  # las listas usan los corchetes, esta línea crea una lista vacía\n",
    "lista_no_vacia = [123, 'abc', 1.23, [1, 2, 3]]\n",
    "print(lista_no_vacia)"
   ]
  },
  {
   "cell_type": "markdown",
   "metadata": {},
   "source": [
    "Las tuplas tienen operaciones básicas similares a las de las cadenas (indexación, concatenación, longitud, rangos, etc.)."
   ]
  },
  {
   "cell_type": "code",
   "execution_count": null,
   "metadata": {},
   "outputs": [],
   "source": [
    "print(lista_no_vacia[1:3])"
   ]
  },
  {
   "cell_type": "markdown",
   "metadata": {},
   "source": [
    "#### Diccionarios\n",
    "\n",
    "- Colecciones **no ordenadas** y **mutables** de **pares (clave, valor)** de objetos\n",
    "- Las claves tienen que ser de tipos inmutables (normalmente tipos básicos, pero se pueden usar objetos con ciertas restricciones)\n",
    "- Los valores pueden ser de cualquier tipo\n",
    "- Las referencias y copias funcionan como en las listas\n",
    "- No se puede usar operaciones de indexación ni rangos\n",
    "- **Son un tipo de datos fundamental en Python, ya que se usan internamente en multitud de aspectos**\n",
    "- Se basan en una implementación muy eficiente de una función de dispersión (*hash*)"
   ]
  },
  {
   "cell_type": "code",
   "execution_count": null,
   "metadata": {},
   "outputs": [],
   "source": [
    "vacio = {}  # los diccionarios usan las llaves, esta línea crea un diccionario vacío\n",
    "datos = {'nombre': 'María Martínez', 'dir': 'C/Mareas 8', 'tfno': 888888888}\n",
    "print(datos['tfno'])"
   ]
  },
  {
   "cell_type": "markdown",
   "metadata": {},
   "source": [
    "#### Conjuntos\n",
    "\n",
    "- Colecciones **no ordenadas** y **mutables** de **valores únicos**\n",
    "  - Reproducen el concepto matemático de Conjunto\n",
    "  - Los elementos duplicados se eliminan automáticamente\n",
    "  - Los elementos pueden ser de cualquier tipo **inmutable**\n",
    "  - No se pueden usar operaciones de indexación ni rangos"
   ]
  },
  {
   "cell_type": "code",
   "execution_count": null,
   "metadata": {},
   "outputs": [],
   "source": [
    "conjunto_vacio = set()  # vacio = {} sería interpretado como un diccionario vacío, no como un conjunto\n",
    "colores = {'rojo', 'verde', 'azul', 'amarillo'}  # forma habitual de inicializar un conjunto\n",
    "cifras = set([0, 1, 2, 3])  # el constructor set() genera un conjunto a partir de un iterable\n",
    "print(conjunto_vacio, colores, cifras)"
   ]
  },
  {
   "cell_type": "markdown",
   "metadata": {},
   "source": [
    "### Comprobación de tipos\n",
    "\n",
    "La función `type()` devuelve el tipo de un objeto asociado a una variable."
   ]
  },
  {
   "cell_type": "code",
   "execution_count": null,
   "metadata": {
    "tags": []
   },
   "outputs": [],
   "source": [
    "z = 1 + 2j\n",
    "print(type(z))"
   ]
  },
  {
   "cell_type": "markdown",
   "metadata": {},
   "source": [
    "La función `isinstance()` nos dice si un objeto es de un tipo o no."
   ]
  },
  {
   "cell_type": "code",
   "execution_count": null,
   "metadata": {
    "tags": []
   },
   "outputs": [],
   "source": [
    "print(isinstance(34, int))"
   ]
  },
  {
   "cell_type": "markdown",
   "metadata": {},
   "source": [
    "Hablaremos más sobre tipos cuando tratemos la programación orientada a objetos en Python."
   ]
  },
  {
   "cell_type": "markdown",
   "metadata": {},
   "source": [
    "### Conversiones de tipos"
   ]
  },
  {
   "cell_type": "code",
   "execution_count": null,
   "metadata": {},
   "outputs": [],
   "source": [
    "x = int(\"123\")          # de cadena a entero\n",
    "y = float(\"1.5e-2\")     # de cadena a real\n",
    "z = complex(\"1+3j\")     # de cadena a número complejo\n",
    "\n",
    "a = str(123)            # de entero a cadena\n",
    "b = str(1.5e-2)         # de real a cadena\n",
    "c = str(1+3j)           # de complejo a cadena"
   ]
  },
  {
   "cell_type": "markdown",
   "metadata": {},
   "source": [
    "## Operadores y sentencias"
   ]
  },
  {
   "cell_type": "markdown",
   "metadata": {},
   "source": [
    "### Operadores aritméticos y lógicos\n",
    "\n",
    "* Aritméticos: `\\+ - * / % (módulo) ** (potencia) // (división entera)`\n",
    "* Lógicos: `and or not == != < > <= >=`\n",
    "* *Aumentados*: `+= -= *= /= %= **= //=  &= |=`"
   ]
  },
  {
   "cell_type": "code",
   "execution_count": null,
   "metadata": {},
   "outputs": [],
   "source": [
    "print(3**4 % 5)   # 81 % 5 == 1"
   ]
  },
  {
   "cell_type": "markdown",
   "metadata": {},
   "source": [
    "### Sentencias condicionales (`if-elif-else`)\n",
    "\n",
    "Las sentencias que se ejecutan en cada parte del `if/elif/else` tienen un nivel de indentación adicional.\n",
    "No existe un equivalente para el `switch/case` de C, hay que usar `if/elif/else`."
   ]
  },
  {
   "cell_type": "code",
   "execution_count": null,
   "metadata": {},
   "outputs": [],
   "source": [
    "a = 5\n",
    "if a > 100:\n",
    "    print(\"a es mayor que 100\\n\")\n",
    "elif a > 10:\n",
    "    print(\"a es mayor que 10\\n\")\n",
    "else:\n",
    "    print(\"a es menor o igual que 10\\n\")"
   ]
  },
  {
   "cell_type": "markdown",
   "metadata": {},
   "source": [
    "### Sentencia `while`\n",
    "\n",
    "No hay diferencias con otros lenguajes de programación."
   ]
  },
  {
   "cell_type": "code",
   "execution_count": null,
   "metadata": {},
   "outputs": [],
   "source": [
    "i = 10\n",
    "while i > 0:\n",
    "    i -= 1\n",
    "    print(i)"
   ]
  },
  {
   "cell_type": "markdown",
   "metadata": {},
   "source": [
    "En Python no existe la sentencia `do-while` (o `do-until`), hay que emularla con el `while` clásico."
   ]
  },
  {
   "cell_type": "code",
   "execution_count": null,
   "metadata": {
    "scrolled": true
   },
   "outputs": [],
   "source": [
    "i = 10\n",
    "while True:\n",
    "    i -= 1\n",
    "    print(i)\n",
    "    if i == 0:\n",
    "        break"
   ]
  },
  {
   "cell_type": "markdown",
   "metadata": {},
   "source": [
    "### Sentencia `for-in`\n",
    "\n",
    "Sirve para recorrer los elementos de una secuencia (*iterable*)."
   ]
  },
  {
   "cell_type": "code",
   "execution_count": null,
   "metadata": {},
   "outputs": [],
   "source": [
    "for x in [5,7,11,13]:\n",
    "    print(x, 'es un número primo')"
   ]
  },
  {
   "cell_type": "markdown",
   "metadata": {},
   "source": [
    "Una cadena de caracteres también es una secuencia."
   ]
  },
  {
   "cell_type": "code",
   "execution_count": null,
   "metadata": {},
   "outputs": [],
   "source": [
    "for c in \"hola\":\n",
    "    print(c)"
   ]
  },
  {
   "cell_type": "markdown",
   "metadata": {},
   "source": [
    "A la hora de recorrer una secuencia de enteros, no es necesario utilizar una lista, sino que se pueden usar generadores como es la función `range`.\n",
    "\n",
    "- `range(stop)` genera una secuencia desde `0` hasta `stop-1`, pero sin necesidad de crear una lista.\n",
    "- `range(start, stop, step=1)` genera una secuencia desde `start` a `stop-1` incrementando `step` en cada paso. Si `step` no se indica, se entiende que el incremento es 1. Se pueden usar valores de `step` negativos para generar listas de enteros decrecientes."
   ]
  },
  {
   "cell_type": "code",
   "execution_count": null,
   "metadata": {},
   "outputs": [],
   "source": [
    "for c in range(0, -10, -1):\n",
    "    print(c)"
   ]
  },
  {
   "cell_type": "markdown",
   "metadata": {},
   "source": [
    "**IMPORTANTE**: Un ***iterable*** es un objeto que permite recorrer sus elementos con un bucle `for-in`. Un **generador** es un *iterable* que calcula los valores conforme se necesitan."
   ]
  },
  {
   "cell_type": "markdown",
   "metadata": {
    "tags": []
   },
   "source": [
    "## Cadenas de caracteres: operaciones y formato\n",
    "\n",
    "- Representan cualquier secuencia ordenada de caracteres, habitualmente codificados en `UTF-8`\n",
    "- Por medio de la **indexación** se accede a los elementos de la cadena, pudiendo ser el índice negativo\n",
    "- Generan una excepción `IndexError` si se accede a una posición que no existe, y una excepción `TypeError` si se intentan modificar"
   ]
  },
  {
   "cell_type": "code",
   "execution_count": null,
   "metadata": {},
   "outputs": [],
   "source": [
    "s = 'ANAQUEL'\n",
    "print(s[0], s[1], s[2])  # imprime A N A\n",
    "print(s[-1], s[-2], s[-3])  # imprime L E U"
   ]
  },
  {
   "cell_type": "markdown",
   "metadata": {},
   "source": [
    "![ANAQUEL.png](figures/ANAQUEL.png)"
   ]
  },
  {
   "cell_type": "markdown",
   "metadata": {
    "tags": []
   },
   "source": [
    "#### Operaciones básicas"
   ]
  },
  {
   "cell_type": "markdown",
   "metadata": {},
   "source": [
    "* Concatenación: `+`"
   ]
  },
  {
   "cell_type": "code",
   "execution_count": null,
   "metadata": {
    "tags": []
   },
   "outputs": [],
   "source": [
    "s = 'abc' + 'def'  # se crea una nueva cadena a partir de dos cadenas\n",
    "print(s)\n",
    "\n",
    "# s = 'abc' + 5  # no se puede concatenar una cadena con otro tipo"
   ]
  },
  {
   "cell_type": "markdown",
   "metadata": {},
   "source": [
    "* Conversión: `str()`"
   ]
  },
  {
   "cell_type": "code",
   "execution_count": null,
   "metadata": {
    "tags": []
   },
   "outputs": [],
   "source": [
    "s = 'abc' + str(5)  # convierte el entero 5 en una cadena\n",
    "print(s)"
   ]
  },
  {
   "cell_type": "markdown",
   "metadata": {},
   "source": [
    "* Repetición: `*`"
   ]
  },
  {
   "cell_type": "code",
   "execution_count": null,
   "metadata": {
    "tags": []
   },
   "outputs": [],
   "source": [
    "s = 'Warning ' * 5  # repite la cadena 'Warning ' cinco veces\n",
    "print(s)"
   ]
  },
  {
   "cell_type": "markdown",
   "metadata": {},
   "source": [
    "* Longitud: `len()`, devuelve la longitud de la cadena"
   ]
  },
  {
   "cell_type": "code",
   "execution_count": null,
   "metadata": {
    "tags": []
   },
   "outputs": [],
   "source": [
    "s = 'abc'\n",
    "print(len(s))  # len() devuelve la longitud de la cadena"
   ]
  },
  {
   "cell_type": "markdown",
   "metadata": {},
   "source": [
    "Un aspecto interesante de Python, del que hablaremos más adelante, es que tiene funciones genéricas como `len()`, capaces de devolver la longitud de cualquier tipo de datos que tenga definida dicha propiedad longitud. Todo esto se englobará en una forma de programación orientada a objetos denominada ***duck typing***."
   ]
  },
  {
   "cell_type": "markdown",
   "metadata": {},
   "source": [
    "* Rangos o *slices*: `[inicio:final:salto]`, devuelve una subcadena desde el carácter en la posición `inicio` hasta el carácter en la posición `final-1` cada `salto` caracteres"
   ]
  },
  {
   "cell_type": "code",
   "execution_count": null,
   "metadata": {
    "tags": []
   },
   "outputs": [],
   "source": [
    "s = 'buscadores'\n",
    "print(s[4:6])   # del 4 al 5\n",
    "print(s[4:])    # del 4 al 9\n",
    "print(s[:6])    # del 0 al 5\n",
    "print(s[1:10])  # del 1 al 9, el valor superior nunca se alcanza"
   ]
  },
  {
   "cell_type": "markdown",
   "metadata": {},
   "source": [
    "**IMPORTANTE**: La subcadena `s[1:10]` va del carácter 1 al 9.\n",
    "\n",
    "También se puede omitir `inicio` y/o `final` para incluir desde el primer carácter y/o hasta el último."
   ]
  },
  {
   "cell_type": "code",
   "execution_count": null,
   "metadata": {},
   "outputs": [],
   "source": [
    "print(s[0:10:2])  # del 0 al 9 cada 2 caracteres, el valor superior nunca se alcanza\n",
    "print(s[::2])  # omitimos el inicio y el final pero cogemos cada 2 caracteres"
   ]
  },
  {
   "cell_type": "code",
   "execution_count": null,
   "metadata": {
    "tags": []
   },
   "outputs": [],
   "source": [
    "print(s[-1::-1])  # de la misma forma podemos mostrar la cadena al revés, simplemente eligiendo bien los índices"
   ]
  },
  {
   "cell_type": "markdown",
   "metadata": {},
   "source": [
    "Recordemos que `[inicio:final:salto]` comienza en `inicio` pero no llega a `final`."
   ]
  },
  {
   "cell_type": "markdown",
   "metadata": {},
   "source": [
    "* Pertenencia: `in`, comprueba si una cadena es subcadena de otra"
   ]
  },
  {
   "cell_type": "code",
   "execution_count": null,
   "metadata": {},
   "outputs": [],
   "source": [
    "sub = 'tschu'\n",
    "if sub in 'Entschuldigung':\n",
    "    print('La contiene')"
   ]
  },
  {
   "cell_type": "markdown",
   "metadata": {
    "tags": []
   },
   "source": [
    "**Nota**: El operador `in` permite también buscar elementos en una lista o en un conjunto y, como ya vimos, se utiliza en los bucles `for`."
   ]
  },
  {
   "cell_type": "markdown",
   "metadata": {},
   "source": [
    "#### Operaciones comunes\n",
    "\n",
    "Hay un gran número de métodos asociados a la clase cadena, pero no es nuestra intención ser exhaustivos, por lo que sólo incluimos lo más usados."
   ]
  },
  {
   "cell_type": "markdown",
   "metadata": {},
   "source": [
    "- `str.find(sub [,start [,end]])`\n",
    "\n",
    "    Devuelve la *primera* posición de una cadena en otra o `-1` si no la encuentra.\n",
    "\n",
    "- `str.rfind(sub [,start [,end]])`\n",
    "\n",
    "    Devuelve la *última* posición de una cadena en otra o `-1` si no la encuentra.\n",
    "\n",
    "- `str.count(sub [,start [,end]])`\n",
    "\n",
    "    Número de ocurrencias de una cadena en otra.\n",
    "\n",
    "- `str.startswith(prefix [,start [,end]])`\n",
    "\n",
    "    Devuelve `True` si una cadena es prefijo de otra o `False` en caso contrario.\n",
    "\n",
    "- `str.endswith(suffix [,start [,end]])`\n",
    "\n",
    "    Devuelve `True` si una cadena es sufijo de otra o `False` en caso contrario.\n",
    "\n",
    "- `str.replace(old, new [,count])`\n",
    "\n",
    "    Devuelve una nueva cadena en la que se sustituye en la cadena `str`, de izquierda a derecha, las ocurrencias de la subcadena `old` por la subcadena `new`. `count` es el número de ocurrencias que se sustituyen.\n",
    "\n",
    "- `str.strip([chars])`\n",
    "\n",
    "    Devuelve una nueva cadena en la que se eliminan caracteres `chars` del comienzo y final. `str` es la cadena sobre la que se sustituye, `chars` son los caracteres que se eliminan (si no se indican, se quitan los caracteres en blanco). Existen las versiones `lstrip` y `rstrip` donde se eliminan los caracteres por la izquierda o por la derecha.\n",
    "\n",
    "- `str.split(sep=None, maxsplit=-1)`\n",
    "\n",
    "    Devuelve una lista de subcadenas resultado de fragmentar una cadena usando el separador indicado con `sep`. Si no se especifica, se separa por los espacios en blanco. `maxsplit` indica el número máximo de divisiones que se harán.\n",
    "\n",
    "    **IMPORTANTE**: Aquí podemos ver una peculiaridad de los **argumentos** que se pasan a las funciones en Python. Se pueden pasar **por posición o por nombre** y añadir un **valor por defecto** si no se pasara a la función o método. En este caso estamos indicando que hay dos posibles parámetros y, que si no se indica alguno de ellos, el valor por defecto será el que hay a la derecha del signo `=`.\n",
    "\n",
    "- `str.join(iterable)`\n",
    "\n",
    "    Concatena los elementos de la variable `iterable`, que puede ser una tupla, una lista, o cualquier otro *iterable*. `str` es el separador que se insertará entre los elementos del *iterable*."
   ]
  },
  {
   "cell_type": "markdown",
   "metadata": {},
   "source": [
    "Ejemplos de algunas de las operaciones descritas anteriormente:"
   ]
  },
  {
   "cell_type": "code",
   "execution_count": null,
   "metadata": {},
   "outputs": [],
   "source": [
    "c1 = \"Devuelve una lista de subcadenas resultado de fragmentar una cadena usando el separador indicado\"\n",
    "lista = c1.split()\n",
    "print(lista)"
   ]
  },
  {
   "cell_type": "code",
   "execution_count": null,
   "metadata": {},
   "outputs": [],
   "source": [
    "c2 = '_'.join(lista)  # '_' será el separador usado para concatenar los elementos de la lista\n",
    "print(c2)"
   ]
  },
  {
   "cell_type": "code",
   "execution_count": null,
   "metadata": {},
   "outputs": [],
   "source": [
    "c3 = c2.replace(\"_\", \" \")  # al ser la cadena inmutable, devuelve otra cadena tras el reemplazo\n",
    "print(c3)"
   ]
  },
  {
   "cell_type": "markdown",
   "metadata": {},
   "source": [
    "#### Formato de cadenas\n",
    "\n",
    "El formateo de cadenas ha evolucionado bastante desde las primeras versiones de Python hasta ahora, buscando siempre la legibilidad, sencillez en la notación y comodidad para el programador.\n",
    "\n",
    "En un primer momento las cadenas se formateaban usando el prefijo `%` dentro de la cadena, de forma parecida a como se hace en C. A continuación se muestra un ejemplo (solo para que entendáis código en el que se use este tipo de formato de cadena, ya que **no es especialmente cómodo y cada vez se usa menos**)."
   ]
  },
  {
   "cell_type": "code",
   "execution_count": null,
   "metadata": {},
   "outputs": [],
   "source": [
    "n = 80\n",
    "s = 'Hay %d alumnos en %s' % (n, 'TEII')\n",
    "print(s)"
   ]
  },
  {
   "cell_type": "markdown",
   "metadata": {},
   "source": [
    "La especificación del formato sigue la sintaxis:\n",
    "\n",
    "`%[(key)][flags][anchura][.precision]tipo`\n",
    "- `key` expresa el valor a sustituir procedente de un diccionario\n",
    "- `flags`: `-` (justificación a la izquierda), `+` (símbolo positivo/negativo según proceda), espacio en blanco (espacios antes de un número positivo), 0 (relleno de ceros a la izquierda)\n",
    "- `anchura` es la longitud mínima del texto resultante\n",
    "- `precision` es el número de dígitos después del punto decimal"
   ]
  },
  {
   "cell_type": "code",
   "execution_count": null,
   "metadata": {},
   "outputs": [],
   "source": [
    "acidez = 0.8\n",
    "tamaño = 5\n",
    "s = 'El aceite de oliva bueno tiene una acidez de %.2f y un tamaño de botella de %d litros' % (acidez, tamaño)  # consume las variables en orden\n",
    "print(s)"
   ]
  },
  {
   "cell_type": "markdown",
   "metadata": {},
   "source": [
    "Posteriormente, el formateo de cadenas evolucionó hacia el uso del método `str.format()` que se ilustra en los siguiente ejemplos."
   ]
  },
  {
   "cell_type": "code",
   "execution_count": null,
   "metadata": {},
   "outputs": [],
   "source": [
    "secret = '{} is cool'.format('Python')\n",
    "print(secret)"
   ]
  },
  {
   "cell_type": "code",
   "execution_count": null,
   "metadata": {},
   "outputs": [],
   "source": [
    "print('Mi nombre es {} {}, pero puedes llamarme {}.'.format('Francisco', 'Pérez', 'Paco'))\n",
    "# o bien, de manera más legible, pudiendo especificar las variables fuera de orden\n",
    "print('Mi nombre es {nombre} {apellido}, pero puedes llamarme {abreviado}.'.format(nombre='Francisco', abreviado='Paco', apellido='Pérez'))"
   ]
  },
  {
   "cell_type": "code",
   "execution_count": null,
   "metadata": {},
   "outputs": [],
   "source": [
    "print('El formato de los números también se puede especificar: {:03d}-{:.3f}'.format(5, 8.0))"
   ]
  },
  {
   "cell_type": "markdown",
   "metadata": {},
   "source": [
    "Sin embargo, esta solución también termina siendo engorrosa cuando el número de elementos a sustituir en la cadena crece, así que actualmente lo que se aconseja es utilizar las denominadas *cadenas f* (**f-strings**). Estas cadenas no son más que una cadena normal precedida por el carácter `f`, que hace que las expresiones que se encuentren entre llaves dentro de la cadena se evalúen como expresiones Python, insertando su resultado en la cadena."
   ]
  },
  {
   "cell_type": "code",
   "execution_count": null,
   "metadata": {},
   "outputs": [],
   "source": [
    "mi_entero = 5\n",
    "mi_cadena = \"ejemplo de cadena\"\n",
    "print(f'Las cadenas f permiten usar variables y expresiones dentro de ' +  # para evitar líneas largas\n",
    "      f'la propia cadena. Por ejemplo, mi_entero*5+1 = {mi_entero*5+1} o len(mi_cadena) = {len(mi_cadena)}.')"
   ]
  },
  {
   "cell_type": "markdown",
   "metadata": {},
   "source": [
    "## Operaciones con tipos mutables\n"
   ]
  },
  {
   "cell_type": "markdown",
   "metadata": {
    "tags": []
   },
   "source": [
    "### Listas"
   ]
  },
  {
   "cell_type": "markdown",
   "metadata": {
    "tags": []
   },
   "source": [
    "**Las operaciones de indexación, concatenación, conversión, repetición, longitud, rangos y pertenencia son iguales que en las cadenas de caracteres.**"
   ]
  },
  {
   "cell_type": "code",
   "execution_count": null,
   "metadata": {},
   "outputs": [],
   "source": [
    "print(len([1, 2, 3]))       # imprime 3\n",
    "l1 = [1, 2, 3] + [4, 5, 6]  # genera [1,2,3,4,5,6]\n",
    "l2 = [1] * 10               # genera [1,1,1,1,1,1,1,1,1,1]\n",
    "print(l1)\n",
    "print(l2)"
   ]
  },
  {
   "cell_type": "code",
   "execution_count": null,
   "metadata": {},
   "outputs": [],
   "source": [
    "l = list('123')  # convierte la cadena de caracteres \"123\" en una lista de caracteres\n",
    "print(type(l))\n",
    "print(l)"
   ]
  },
  {
   "cell_type": "code",
   "execution_count": null,
   "metadata": {},
   "outputs": [],
   "source": [
    "s = str([1, 2, 3])  # también podemos convertir en cadena una lista como cualquier otro tipo\n",
    "print(type(s))\n",
    "print(s)"
   ]
  },
  {
   "cell_type": "code",
   "execution_count": null,
   "metadata": {},
   "outputs": [],
   "source": [
    "s = ''.join(l)  # convierte de nuevo en cadena de caracteres la lista\n",
    "print(type(s))\n",
    "print(s)"
   ]
  },
  {
   "cell_type": "markdown",
   "metadata": {},
   "source": [
    "Al igual que ocurría con las cadenas, para recorrer los elementos de una lista solo necesitamos un **bucle `for-in`**. Para comprobar si un elemento está en una lista podemos usar el **operador `in`**."
   ]
  },
  {
   "cell_type": "code",
   "execution_count": null,
   "metadata": {},
   "outputs": [],
   "source": [
    "l = [1, 2, 3]\n",
    "print(2 in l)  # True porque 2 está en l[1]\n",
    "for x in l:\n",
    "    print('Contiene', x)"
   ]
  },
  {
   "cell_type": "markdown",
   "metadata": {},
   "source": [
    "De la misma forma que en las cadenas, se pueden usar la **indexación** y los **rangos** para manipular las listas."
   ]
  },
  {
   "cell_type": "code",
   "execution_count": null,
   "metadata": {},
   "outputs": [],
   "source": [
    "l = ['jerseys', 'camisas', 'pantalones', 'calcetines']\n",
    "print(l)"
   ]
  },
  {
   "cell_type": "code",
   "execution_count": null,
   "metadata": {},
   "outputs": [],
   "source": [
    "l[3] = 'pañuelos'\n",
    "print(l)"
   ]
  },
  {
   "cell_type": "code",
   "execution_count": null,
   "metadata": {},
   "outputs": [],
   "source": [
    "print(l[1:3])"
   ]
  },
  {
   "cell_type": "code",
   "execution_count": null,
   "metadata": {},
   "outputs": [],
   "source": [
    "print(l)\n",
    "l[1:3] = ['gorros', 'relojes', 'corbatas']  # sustituye l[1] y l[2] por los tres elementos de la lista a la derecha de la asignación\n",
    "print(l)"
   ]
  },
  {
   "cell_type": "code",
   "execution_count": null,
   "metadata": {},
   "outputs": [],
   "source": [
    "l[1:3] = []  # borra los elementos l[1] y l[2] que incluye el rango\n",
    "print(l)"
   ]
  },
  {
   "cell_type": "code",
   "execution_count": null,
   "metadata": {},
   "outputs": [],
   "source": [
    "l[1] = []  # no funciona si no se usa un rango\n",
    "print(l)"
   ]
  },
  {
   "cell_type": "code",
   "execution_count": null,
   "metadata": {},
   "outputs": [],
   "source": [
    "l[1:2] = []  # recuerda que este rango va desde l[1] hasta l[1]\n",
    "print(l)"
   ]
  },
  {
   "cell_type": "code",
   "execution_count": null,
   "metadata": {},
   "outputs": [],
   "source": [
    "# Si queremos insertar en un cierto punto, podemos hacerlo también así\n",
    "l[1:1] = ['gorros', 'chaquetas']  # inserta en la posición 1 los dos elementos de la lista a la derecha de la asignación\n",
    "print(l)"
   ]
  },
  {
   "cell_type": "code",
   "execution_count": null,
   "metadata": {},
   "outputs": [],
   "source": [
    "l[:0] = ['comienzo']  # inserta al comienzo de la lista\n",
    "print(l)"
   ]
  },
  {
   "cell_type": "code",
   "execution_count": null,
   "metadata": {},
   "outputs": [],
   "source": [
    "l[len(l):] = ['final']  # inserta al final de la lista\n",
    "print(l)"
   ]
  },
  {
   "cell_type": "code",
   "execution_count": null,
   "metadata": {},
   "outputs": [],
   "source": [
    "del l[1]  # borra el elemento l[1]\n",
    "print(l)"
   ]
  },
  {
   "cell_type": "code",
   "execution_count": null,
   "metadata": {},
   "outputs": [],
   "source": [
    "del l[1:3]  # borra los elementos l[1] y l[2]\n",
    "print(l)"
   ]
  },
  {
   "cell_type": "markdown",
   "metadata": {},
   "source": [
    "Las listas de Python pueden contener listas a su vez, permitiendo representar **matrices o estructuras multidimensionales**."
   ]
  },
  {
   "cell_type": "code",
   "execution_count": null,
   "metadata": {},
   "outputs": [],
   "source": [
    "m = [ [1,2,3], [4,5,6], [7,8,9] ]\n",
    "print(m[0])  # extrae la fila [1,2,3]\n",
    "print(m[1][1])  # extrae el elemento 5"
   ]
  },
  {
   "cell_type": "markdown",
   "metadata": {},
   "source": [
    "Las listas, como objetos que son, también tienen métodos para trabajar con ellas:\n"
   ]
  },
  {
   "cell_type": "code",
   "execution_count": null,
   "metadata": {},
   "outputs": [],
   "source": [
    "l = list()  # esta línea crea una lista vacía, equivalente a []\n",
    "l.append('hola')  # inserta al final de la lista\n",
    "l.append('mundo')  # inserta al final de la lista\n",
    "print(l)"
   ]
  },
  {
   "cell_type": "code",
   "execution_count": null,
   "metadata": {},
   "outputs": [],
   "source": [
    "l.insert(0, 'comienzo')  # inserta en la posición que indica el índice inicial\n",
    "print(l)"
   ]
  },
  {
   "cell_type": "code",
   "execution_count": null,
   "metadata": {},
   "outputs": [],
   "source": [
    "l.extend(['cruel', 'y', 'traidor'])  # añade una lista al final\n",
    "print(l)"
   ]
  },
  {
   "cell_type": "code",
   "execution_count": null,
   "metadata": {},
   "outputs": [],
   "source": [
    "print(f\"elementos primero y último extraídos: {l.pop(0)} {l.pop()}\")  # sacamos de la lista los elementos primero y último\n",
    "print(l)"
   ]
  },
  {
   "cell_type": "code",
   "execution_count": null,
   "metadata": {},
   "outputs": [],
   "source": [
    "l.remove('y')   # elimina la primera ocurrencia del elemento\n",
    "print(l)"
   ]
  },
  {
   "cell_type": "code",
   "execution_count": null,
   "metadata": {},
   "outputs": [],
   "source": [
    "l.clear()  # borra la lista\n",
    "print(l)"
   ]
  },
  {
   "cell_type": "code",
   "execution_count": null,
   "metadata": {},
   "outputs": [],
   "source": [
    "l = list(range(20)) # construye una lista a partir de un generador de números (0 hasta 19)\n",
    "print(l)"
   ]
  },
  {
   "cell_type": "code",
   "execution_count": null,
   "metadata": {},
   "outputs": [],
   "source": [
    "l1 = ['a', 'b', 'c', 'd', 'c', 'd', 'a', 'd']\n",
    "print(l1)\n",
    "print(l1.index('c'))  # devuelve la primera posición donde aparece el elemento\n",
    "print(l1.count('d'))  # cuenta el número de veces que aparece el elemento en la lista\n",
    "l2 = l1.copy()  # genera una copia de la lista\n",
    "print(l2)\n",
    "print(id(l1), id(l2))"
   ]
  },
  {
   "cell_type": "code",
   "execution_count": null,
   "metadata": {},
   "outputs": [],
   "source": [
    "l1 = ['a', 'b', 'c', 'd', 'c', 'd', 'a', 'd']\n",
    "print(l1)\n",
    "l2 = l1  # ¡¡¡IMPORTANTE: l1 y l2 son la misma lista!!!\n",
    "print(l2)\n",
    "print(id(l1), id(l2))\n",
    "l2.clear()\n",
    "print(l1)\n",
    "print(l2)"
   ]
  },
  {
   "cell_type": "markdown",
   "metadata": {},
   "source": [
    "Las listas también poseen **métodos que alteran la propia lista y no devuelven ningún valor**, por ejemplo, **`reverse()`** y **`sort()`**."
   ]
  },
  {
   "cell_type": "code",
   "execution_count": null,
   "metadata": {},
   "outputs": [],
   "source": [
    "l = ['a', 'b', 'C', 'd', 'c', 'd', 'A', 'd']\n",
    "l.reverse()  # invierte la lista sobre sí misma\n",
    "print(l)"
   ]
  },
  {
   "cell_type": "code",
   "execution_count": null,
   "metadata": {},
   "outputs": [],
   "source": [
    "l.sort()  # ordena la lista sobre sí misma (recuerda que las mayúsculas van primero)\n",
    "print(l)"
   ]
  },
  {
   "cell_type": "code",
   "execution_count": null,
   "metadata": {},
   "outputs": [],
   "source": [
    "l.sort(reverse=True)  # ordena la lista sobre sí misma en orden inverso\n",
    "print(l)"
   ]
  },
  {
   "cell_type": "markdown",
   "metadata": {},
   "source": [
    "La función **`sorted()`** devuelve una versión ordenada de la lista, pero **no modifica la lista**. Esta función, similar a `len()`, funciona sobre cualquier *iterable*."
   ]
  },
  {
   "cell_type": "code",
   "execution_count": null,
   "metadata": {},
   "outputs": [],
   "source": [
    "print(sorted(l))\n",
    "print(l)"
   ]
  },
  {
   "cell_type": "markdown",
   "metadata": {},
   "source": [
    "Ahora, vamos a repasar cómo se asignan y referencias listas, ya que puede resultar algo contraintuitivo al principio.\n",
    "\n",
    "Una variable a la que se le asigna una lista, realmente guarda una referencia (un puntero a la lista)."
   ]
  },
  {
   "cell_type": "code",
   "execution_count": null,
   "metadata": {},
   "outputs": [],
   "source": [
    "l1 = [2,3,4]\n",
    "l2 = l1\n",
    "l2[0] = 3\n",
    "print(l1)  # aunque hemos modificado la lista l2, también se cambia la lista l1"
   ]
  },
  {
   "cell_type": "markdown",
   "metadata": {},
   "source": [
    "Podemos saber si dos variables guardan la misma referencia usando el operador `is`."
   ]
  },
  {
   "cell_type": "code",
   "execution_count": null,
   "metadata": {},
   "outputs": [],
   "source": [
    "print(l1 is l2)\n",
    "l2 = l1.copy()\n",
    "print(l1 is l2)"
   ]
  },
  {
   "cell_type": "markdown",
   "metadata": {},
   "source": [
    "Otra forma de copiar una lista es usar un rango."
   ]
  },
  {
   "cell_type": "code",
   "execution_count": null,
   "metadata": {
    "tags": []
   },
   "outputs": [],
   "source": [
    "l3 = l1[:]   # rango que incluye todos los elementos de la l3\n",
    "print(l3 is l1)\n",
    "print(l1, l2, l3)\n",
    "print(id(l1), id(l2), id(l3))"
   ]
  },
  {
   "cell_type": "markdown",
   "metadata": {},
   "source": [
    "#### *List comprehensions*\n",
    "\n",
    "Son estructuras usadas en Python para construir listas mediante el recorrido de otros *iterables* (cadenas de caracteres, tuplas, listas, diccionarios, conjuntos, etc).\n",
    "\n",
    "El formato básico es el siguiente:\n",
    "\n",
    "`[<expresión> for <elemento> in <iterable>]`"
   ]
  },
  {
   "cell_type": "markdown",
   "metadata": {},
   "source": [
    "Por ejemplo, la obtención de una lista de los primeros cien cuadrados"
   ]
  },
  {
   "cell_type": "code",
   "execution_count": null,
   "metadata": {},
   "outputs": [],
   "source": [
    "r = []\n",
    "for k in range(1, 101):\n",
    "    r.append(k**2)\n",
    "print(r)"
   ]
  },
  {
   "cell_type": "markdown",
   "metadata": {},
   "source": [
    "se puede expresar como una *list comprehension* así:"
   ]
  },
  {
   "cell_type": "code",
   "execution_count": null,
   "metadata": {
    "tags": []
   },
   "outputs": [],
   "source": [
    "r = [ k**2 for k in range(1,101) ]\n",
    "print(r)"
   ]
  },
  {
   "cell_type": "markdown",
   "metadata": {},
   "source": [
    "Una de sus mayores ventajas es que permite usar condicionales para filtrar valores."
   ]
  },
  {
   "cell_type": "code",
   "execution_count": null,
   "metadata": {},
   "outputs": [],
   "source": [
    "rf = [ k for k in range(100) if k % 7 == 0 ]  # seleccionamos los múltiplos de 7\n",
    "print(rf)"
   ]
  },
  {
   "cell_type": "markdown",
   "metadata": {},
   "source": [
    "Un uso más avanzado sería anidar *list comprehensions*."
   ]
  },
  {
   "cell_type": "code",
   "execution_count": null,
   "metadata": {},
   "outputs": [],
   "source": [
    "xy = [ [x,y] for x in range(10) for y in range(5)]  # generamos todos los pares\n",
    "print(xy)"
   ]
  },
  {
   "cell_type": "markdown",
   "metadata": {},
   "source": [
    "El ejemplo anterior sería equivalente a estos dos bucles anidados:"
   ]
  },
  {
   "cell_type": "code",
   "execution_count": null,
   "metadata": {
    "tags": []
   },
   "outputs": [],
   "source": [
    "l = []\n",
    "for x in range(10):\n",
    "    for y in range(5):\n",
    "        l.append([x,y])\n",
    "print(l)"
   ]
  },
  {
   "cell_type": "markdown",
   "metadata": {},
   "source": [
    "#### Recorridos avanzados"
   ]
  },
  {
   "cell_type": "markdown",
   "metadata": {},
   "source": [
    "A veces tendremos que recorrer una lista llevando control de la posición en la que nos encontramos. Por ejemplo:"
   ]
  },
  {
   "cell_type": "code",
   "execution_count": null,
   "metadata": {},
   "outputs": [],
   "source": [
    "lista = [x for x in range(20) if x % 3 == 0]\n",
    "print(lista)\n",
    "\n",
    "i = 0\n",
    "for e in lista:\n",
    "    print(i, '->', e)\n",
    "    i += 1"
   ]
  },
  {
   "cell_type": "markdown",
   "metadata": {},
   "source": [
    "La función `enumerate(lista)` devuelve una tupla donde el primer elemento es un número secuencial comenzando por 0 y el segundo es el correspondiente elemento de la lista. Con `enumerate()` el ejemplo anterior se puede expresar de forma más *pythonica*."
   ]
  },
  {
   "cell_type": "code",
   "execution_count": null,
   "metadata": {},
   "outputs": [],
   "source": [
    "for i, e in enumerate(lista):\n",
    "    print(i, '->', e)"
   ]
  },
  {
   "cell_type": "markdown",
   "metadata": {},
   "source": [
    "De la misma manera, es muy común tener que recorrer simultáneamente dos listas o secuencias de la misma longitud. Por ejemplo:"
   ]
  },
  {
   "cell_type": "code",
   "execution_count": null,
   "metadata": {},
   "outputs": [],
   "source": [
    "lista1 = [ x*x for x in range(10) ]\n",
    "lista2 = [ x*x*x for x in range(10) ]\n",
    "print(lista1, lista2)"
   ]
  },
  {
   "cell_type": "markdown",
   "metadata": {},
   "source": [
    "La solución clásica sería:"
   ]
  },
  {
   "cell_type": "code",
   "execution_count": null,
   "metadata": {
    "tags": []
   },
   "outputs": [],
   "source": [
    "i = 0\n",
    "while i < len(lista1):\n",
    "    print(lista1[i], '->', lista2[i])\n",
    "    i += 1"
   ]
  },
  {
   "cell_type": "markdown",
   "metadata": {},
   "source": [
    "Su versión equivalente más *pythonica* sería"
   ]
  },
  {
   "cell_type": "code",
   "execution_count": null,
   "metadata": {
    "tags": []
   },
   "outputs": [],
   "source": [
    "for x, y in zip(lista1, lista2):\n",
    "    print(x, '->', y)"
   ]
  },
  {
   "cell_type": "markdown",
   "metadata": {},
   "source": [
    "donde la función `zip()` genera una secuencia con tuplas que contienen un elemento de cada lista."
   ]
  },
  {
   "cell_type": "code",
   "execution_count": null,
   "metadata": {},
   "outputs": [],
   "source": [
    "listatuplas = [ x for x in zip(lista1, lista2)]\n",
    "print(listatuplas)"
   ]
  },
  {
   "cell_type": "markdown",
   "metadata": {},
   "source": [
    "Como vemos, `zip()` puede recibir tantas secuencias como queramos (no solo listas, también generadores) y nos devuelve un generador de tuplas, por lo que no ocupa espacio hasta que no se lee. Si queremos obtener una lista a partir de `zip()`, tendremos que construirla."
   ]
  },
  {
   "cell_type": "code",
   "execution_count": null,
   "metadata": {},
   "outputs": [],
   "source": [
    "zip(lista1,lista2)"
   ]
  },
  {
   "cell_type": "code",
   "execution_count": null,
   "metadata": {},
   "outputs": [],
   "source": [
    "list(zip(lista1,lista2))  # esta línea es equivalente a la list comprehension anterior"
   ]
  },
  {
   "cell_type": "markdown",
   "metadata": {},
   "source": [
    "Para terminar, el operador `*` convierte una secuencia en argumentos de una función."
   ]
  },
  {
   "cell_type": "code",
   "execution_count": null,
   "metadata": {},
   "outputs": [],
   "source": [
    "def fun_suma(a, b):\n",
    "    return(a + b)\n",
    "\n",
    "print(fun_suma(2, 3))"
   ]
  },
  {
   "cell_type": "code",
   "execution_count": null,
   "metadata": {},
   "outputs": [],
   "source": [
    "a = [2, 3]\n",
    "fun_suma(*a)  # el operador '*' transforma los elementos de la lista en argumentos de la función"
   ]
  },
  {
   "cell_type": "markdown",
   "metadata": {},
   "source": [
    "Mientras que la función `zip()` puede procesar todas las secuencias que queramos.\n",
    "\n",
    "De aquí que con el operador `*` y la función `zip()`, podamos deshacer la mezcla:"
   ]
  },
  {
   "cell_type": "code",
   "execution_count": null,
   "metadata": {
    "tags": []
   },
   "outputs": [],
   "source": [
    "mezcla = list(zip(lista1,lista2))\n",
    "print(mezcla)\n",
    "separada = list(zip(*mezcla))\n",
    "print(separada)"
   ]
  },
  {
   "cell_type": "markdown",
   "metadata": {},
   "source": [
    "### Diccionarios"
   ]
  },
  {
   "cell_type": "markdown",
   "metadata": {
    "tags": []
   },
   "source": [
    "También se puede **crear un diccionario** con el constructor `dict()` de varias formas diferentes:"
   ]
  },
  {
   "cell_type": "markdown",
   "metadata": {},
   "source": [
    "* Asignando explícitamente valores a las claves"
   ]
  },
  {
   "cell_type": "code",
   "execution_count": null,
   "metadata": {},
   "outputs": [],
   "source": [
    "D = dict()\n",
    "D['hola'] = 'adios'\n",
    "D['bueno'] = 'bueno'\n",
    "D['bueno'] = 'malo'   # la misma instrucción me permite modificar el valor\n",
    "print(D)"
   ]
  },
  {
   "cell_type": "markdown",
   "metadata": {},
   "source": [
    "* Pasándole al constructor una lista de pares (tuplas) con la clave y el valor"
   ]
  },
  {
   "cell_type": "code",
   "execution_count": null,
   "metadata": {},
   "outputs": [],
   "source": [
    "D = dict([('hola','adios'),('bueno','malo')])\n",
    "print(D)"
   ]
  },
  {
   "cell_type": "markdown",
   "metadata": {},
   "source": [
    "* Pasándole al constructor una lista de pares con la clave y el valor"
   ]
  },
  {
   "cell_type": "code",
   "execution_count": null,
   "metadata": {},
   "outputs": [],
   "source": [
    "D = {'hola': 'adios', 'bueno': 'malo'}\n",
    "print(D)"
   ]
  },
  {
   "cell_type": "markdown",
   "metadata": {},
   "source": [
    "Para **acceder a un diccionario** se usa la clave:"
   ]
  },
  {
   "cell_type": "code",
   "execution_count": null,
   "metadata": {},
   "outputs": [],
   "source": [
    "print(D['hola'])"
   ]
  },
  {
   "cell_type": "markdown",
   "metadata": {},
   "source": [
    "Si pasamos un diccionario a una cadena con formato usando el operador `%`, podemos usar las claves en la propia cadena."
   ]
  },
  {
   "cell_type": "code",
   "execution_count": null,
   "metadata": {},
   "outputs": [],
   "source": [
    "d = {'bueno': 'aceite de oliva', 'malo': 'aceite de palma', 'acidez': 0.7, 'tamano': 1}\n",
    "\n",
    "# Tomará los valores del diccionario\n",
    "cad = 'El aceite bueno es el %(bueno)s con acidez %(acidez).2f y un tamaño de botella de %(tamano)d litros' % (d)\n",
    "print(cad)"
   ]
  },
  {
   "cell_type": "markdown",
   "metadata": {},
   "source": [
    "Si la clave no existe, se lanza una excepción `KeyError`. Normalmente es mejor comprobar si existe la clave con el operador `in` o utilizar el método `get()` que devuelve `None` si no existe la clave."
   ]
  },
  {
   "cell_type": "code",
   "execution_count": null,
   "metadata": {},
   "outputs": [],
   "source": [
    "if 'bueno' in d:\n",
    "    print(d['bueno'])\n",
    "print(d.get('bueno'))"
   ]
  },
  {
   "cell_type": "markdown",
   "metadata": {},
   "source": [
    "Los métodos `keys()`, `values()` e `items()` permiten **recorrer el grupo de claves, de valores y de pares (tuplas)**, respectivamente. Si se usa directamente el diccionario, se usan las claves."
   ]
  },
  {
   "cell_type": "code",
   "execution_count": null,
   "metadata": {},
   "outputs": [],
   "source": [
    "print(d.keys())\n",
    "print(d.values())\n",
    "print(d.items())\n",
    "\n",
    "for k in d.keys():\n",
    "    print(f\"La clave '{k}' tiene el valor '{d[k]}'\")\n",
    "\n",
    "for v in d.values():\n",
    "    print(f\"Valor: '{v}'\")\n",
    "    \n",
    "for k,v in d.items():  # el orden no está determinado\n",
    "    print(f\"{k} -> {v}\")\n",
    "\n",
    "for k in d:\n",
    "    print(f\"{k}\")"
   ]
  },
  {
   "cell_type": "markdown",
   "metadata": {},
   "source": [
    "La **eliminación de un par (tupla) de un diccionario** se realiza con el método `del`:"
   ]
  },
  {
   "cell_type": "code",
   "execution_count": null,
   "metadata": {},
   "outputs": [],
   "source": [
    "print(d)\n",
    "del d['acidez']  # elimina la clave ' acidez' y su valor asociado\n",
    "print(d)"
   ]
  },
  {
   "cell_type": "markdown",
   "metadata": {},
   "source": [
    "Otros métodos comunes:"
   ]
  },
  {
   "cell_type": "markdown",
   "metadata": {},
   "source": [
    "- `D.clear()`\n",
    "\n",
    "    Elimina todas las entradas del diccionario `D`.\n",
    "\n",
    "- `D.update(D2)`\n",
    "\n",
    "    Inserta en el diccionario `D` todas las entradas del diccionario `D2`. Si alguna clave en `D2` ya está en `D`, se modifica su valor con lo que indique `D2`.\n",
    "\n",
    "- `D.pop(k)`\n",
    "\n",
    "    Elimina la clave `k` y su valor asociado, devolviendo dicho valor. Si `k` no existe, genera una excepción `KeyError`. Para evitarlo, se le puede pasar a `pop()` un segundo parámetro que es el valor por defecto que se asignará en caso de que la clave no exista."
   ]
  },
  {
   "cell_type": "markdown",
   "metadata": {},
   "source": [
    "#### *Dict comprehensions*\n",
    "\n",
    "Al igual que hay *list comprehensions*, hay también *dict comprehensions*. De hecho, el concepto es más general porque se puede construir un generador de la misma forma, es decir, una expresión que se irá evaluando conforme hace falta. Se usan para construir diccionarios mediante el recorrido de otros *iterables* (cadenas de caracteres, tuplas, listas, diccionarios, conjuntos, etc).\n",
    "\n",
    "El formato básico es el siguiente:\n",
    "\n",
    "`{<expresión> for <elemento> in <iterable>}`"
   ]
  },
  {
   "cell_type": "markdown",
   "metadata": {},
   "source": [
    "### Conjuntos"
   ]
  },
  {
   "cell_type": "markdown",
   "metadata": {},
   "source": [
    "- `S.add()`\n",
    "\n",
    "    Añade elementos a un conjunto `S`.\n",
    "\n",
    "- `S.discard(), S.remove(), S.pop()`\n",
    "\n",
    "    Eliminan elementos de un conjunto `S`.\n",
    "\n",
    "- `S.clear()`\n",
    "\n",
    "    Elimina todos los elementos del conjunto `S`."
   ]
  },
  {
   "cell_type": "code",
   "execution_count": null,
   "metadata": {},
   "outputs": [],
   "source": [
    "colores.add('magenta')\n",
    "print(colores)"
   ]
  },
  {
   "cell_type": "code",
   "execution_count": null,
   "metadata": {
    "tags": []
   },
   "outputs": [],
   "source": [
    "colores.discard('verde')  # si el elemento no existe, no pasa nada\n",
    "print(colores)"
   ]
  },
  {
   "cell_type": "code",
   "execution_count": null,
   "metadata": {},
   "outputs": [],
   "source": [
    "# colores.remove('verde')  # si el elemento no existe, salta una excepción KeyError\n",
    "# print(colores)"
   ]
  },
  {
   "cell_type": "code",
   "execution_count": null,
   "metadata": {},
   "outputs": [],
   "source": [
    "color = colores.pop()  # devuelve un elemento de forma aleatoria\n",
    "print(color)\n",
    "print(colores)"
   ]
  },
  {
   "cell_type": "markdown",
   "metadata": {},
   "source": [
    "* Unión: `S1 | S2`\n",
    "* Intersección: `S1 & S2`\n",
    "* Resta: `S1 - S2`"
   ]
  },
  {
   "cell_type": "code",
   "execution_count": null,
   "metadata": {
    "tags": []
   },
   "outputs": [],
   "source": [
    "print(colores)\n",
    "if not 'rojo' in colores:\n",
    "    colores = colores | {'rojo', 'rojizo', 'rosa'}\n",
    "print(colores & {'rojo', 'rojizo', 'rosa'})\n",
    "colores = colores | {'rojo', 'rojizo', 'rosa'}  \n",
    "print(colores)"
   ]
  },
  {
   "cell_type": "markdown",
   "metadata": {},
   "source": [
    "Ejemplos de otras operaciones habituales sobre conjuntos:\n",
    "\n",
    "* Recorrer los elementos de un conjunto"
   ]
  },
  {
   "cell_type": "code",
   "execution_count": null,
   "metadata": {},
   "outputs": [],
   "source": [
    "for c in colores:\n",
    "    print(c)"
   ]
  },
  {
   "cell_type": "markdown",
   "metadata": {},
   "source": [
    "* Ordenar los elementos de un conjunto"
   ]
  },
  {
   "cell_type": "code",
   "execution_count": null,
   "metadata": {},
   "outputs": [],
   "source": [
    "print(colores)\n",
    "lista = list(colores)  # convertimos el conjunto en una lista\n",
    "lista.sort()  # ordenamos la lista\n",
    "print(colores)\n",
    "print(lista)"
   ]
  },
  {
   "cell_type": "markdown",
   "metadata": {},
   "source": [
    "* Calcular la cardinalidad de un conjunto"
   ]
  },
  {
   "cell_type": "code",
   "execution_count": null,
   "metadata": {
    "tags": []
   },
   "outputs": [],
   "source": [
    "print(len(colores))"
   ]
  },
  {
   "cell_type": "markdown",
   "metadata": {},
   "source": [
    "## Funciones\n",
    "\n",
    "- Formato de la cabecera:\n",
    "```\n",
    "    def <nombre>(<argumentos>):\n",
    "        pass  # no se puede dejar una función con el cuerpo vacío\n",
    "```\n",
    "- El cuerpo va tras la cabecera con una indentación mayor\n",
    "- Las asignaciones dentro de la función crean variables locales a la función\n",
    "- Las variables globales son visibles dentro de las funciones, pero si se modifica su valor dentro de la función, quedará oculta por la variable local definida con el mismo nombre\n",
    "- La directiva `global` permite que declaremos una variable como global y evitar que se cree su versión local dentro de la función"
   ]
  },
  {
   "cell_type": "code",
   "execution_count": null,
   "metadata": {},
   "outputs": [],
   "source": [
    "def f_suma(a, b, c):\n",
    "    print('suma =', a + b + c)\n",
    "\n",
    "f_suma(5, 34, 2)"
   ]
  },
  {
   "cell_type": "code",
   "execution_count": null,
   "metadata": {},
   "outputs": [],
   "source": [
    "a = 5\n",
    "b = 8\n",
    "\n",
    "def f0(x):\n",
    "    return b + 3\n",
    "\n",
    "def f1(x):\n",
    "    b = a + 1\n",
    "    return b\n",
    "\n",
    "def f2(x):\n",
    "    global b\n",
    "    b = a + 1\n",
    "    return b"
   ]
  },
  {
   "cell_type": "code",
   "execution_count": null,
   "metadata": {
    "tags": []
   },
   "outputs": [],
   "source": [
    "# en f0, b es global\n",
    "print(f0(3))\n",
    "print(b)"
   ]
  },
  {
   "cell_type": "code",
   "execution_count": null,
   "metadata": {},
   "outputs": [],
   "source": [
    "# en f1, b es local y no se modifica la variable global\n",
    "print(f1(3))\n",
    "print(b)"
   ]
  },
  {
   "cell_type": "code",
   "execution_count": null,
   "metadata": {},
   "outputs": [],
   "source": [
    "# en f2, b es global y se modifica la variable global\n",
    "print(f2(3))\n",
    "print(b)"
   ]
  },
  {
   "cell_type": "markdown",
   "metadata": {},
   "source": [
    "Una peculiaridad de las funciones Python es que no se define el tipo de dato que devuelven, así que pueden devolver cualquier tipo."
   ]
  },
  {
   "cell_type": "code",
   "execution_count": null,
   "metadata": {},
   "outputs": [],
   "source": [
    "def f(a):\n",
    "    if a == 1:\n",
    "        return 42\n",
    "    elif a == 2:\n",
    "        return 1-1j\n",
    "    elif a == 3:\n",
    "        return +1e-12\n",
    "    else:\n",
    "        return 'Y también una cadena'\n",
    "\n",
    "print(f(1), f(2), f(3), f(4))"
   ]
  },
  {
   "cell_type": "markdown",
   "metadata": {},
   "source": [
    "Los argumentos pueden tomar un valor por defecto, pero tienen que ser los últimos de la lista de argumentos. Además, si al llamar a la función asignamos los argumentos en lugar de pasar los valores por posición, podremos pasar los argumentos de forma desordenada."
   ]
  },
  {
   "cell_type": "code",
   "execution_count": null,
   "metadata": {},
   "outputs": [],
   "source": [
    "def f(a, b, c = 0):\n",
    "    return a * b + c\n",
    "\n",
    "print(f(1, 2))     # resultado 2\n",
    "print(f(1, 2, 3))  # resultado 5\n",
    "print(f(c=2, a=1, b=3))  # resultado 5\n",
    "print(f(2, c=0, b=5))    # resultado 10"
   ]
  },
  {
   "cell_type": "code",
   "execution_count": null,
   "metadata": {},
   "outputs": [],
   "source": [
    "# print(f(a=1,2,3))  # erróneo"
   ]
  },
  {
   "cell_type": "markdown",
   "metadata": {},
   "source": [
    "## Entrada/Salida"
   ]
  },
  {
   "cell_type": "markdown",
   "metadata": {},
   "source": [
    "### Entrada estándar\n",
    "\n",
    "La función `input()` lee una línea completa de la entrada estándar y la devuelve sin el salto de línea."
   ]
  },
  {
   "cell_type": "code",
   "execution_count": null,
   "metadata": {},
   "outputs": [],
   "source": [
    "nombre = input('¿Cómo te llamas? ')  # ¡ojo! puede que lo pida en algún sitio diferente al ser un notebook\n",
    "print(f\"Hola {nombre}\")"
   ]
  },
  {
   "cell_type": "markdown",
   "metadata": {},
   "source": [
    "### Salida estándar\n",
    "\n",
    "La función `print()` recibe uno o varios argumentos separados por comas. El argumento opcional `sep` indica el separador que se mostrará, mientras que el argumento opcional `end` especifica lo que se imprimirá después de que se muestren los argumentos (normalmente es un retorno de carro)."
   ]
  },
  {
   "cell_type": "code",
   "execution_count": null,
   "metadata": {},
   "outputs": [],
   "source": [
    "print(2, 3, 4, 5, ['a', 'b', 3], sep=';')\n",
    "print('No hay salto de línea,', end=' ')\n",
    "print('esto aparece en la misma línea que lo anterior.')"
   ]
  },
  {
   "cell_type": "markdown",
   "metadata": {},
   "source": [
    "### Lectura/escritura de archivos\n",
    "\n",
    "Para **abrir un archivo** se utiliza el método `open()`. Recibe como parámetro el nombre del archivo que queremos abrir. Por defecto se abre en modo lectura (`r`), pero podemos indicar que se abra en modo escritura truncándolo (`w`), modo escritura añadiendo al final (`a`), o modo creación exclusiva (`x`), que lanza la excepción `FileExistsError` si el archivo existe.\n",
    "\n",
    "Para **leer un archivo** tenemos varias alternativas:\n",
    "\n",
    "- `read()` lee el archivo completo\n",
    "- `readline()` lee el archivo línea a línea con un bucle `for-in`\n",
    "- `readlines()` devuelve una lista con todas las líneas del archivo"
   ]
  },
  {
   "cell_type": "code",
   "execution_count": null,
   "metadata": {},
   "outputs": [],
   "source": [
    "!ls -la"
   ]
  },
  {
   "cell_type": "code",
   "execution_count": null,
   "metadata": {},
   "outputs": [],
   "source": [
    "!ls -la > salida"
   ]
  },
  {
   "cell_type": "code",
   "execution_count": null,
   "metadata": {},
   "outputs": [],
   "source": [
    "archivo = open('salida')  # abre el archivo para lectura\n",
    "contenido = archivo.read()  # lee el archivo completo\n",
    "print(contenido)"
   ]
  },
  {
   "cell_type": "code",
   "execution_count": null,
   "metadata": {},
   "outputs": [],
   "source": [
    "archivo = open('salida')  # abre el archivo para lectura\n",
    "n = 1\n",
    "while True:\n",
    "    linea = archivo.readline()  # lee el archivo línea a línea\n",
    "    if not linea:\n",
    "        break\n",
    "    else:\n",
    "        print(f'Linea {n}: {linea.rstrip()}')\n",
    "        n += 1"
   ]
  },
  {
   "cell_type": "code",
   "execution_count": null,
   "metadata": {
    "tags": []
   },
   "outputs": [],
   "source": [
    "archivo = open('salida')  # abre el archivo para lectura\n",
    "lineas = archivo.readlines()  # lee todas las líneas en una lista\n",
    "n = 1\n",
    "for linea in lineas:\n",
    "    print(f'Linea {n}: {linea.rstrip()}')\n",
    "    n += 1"
   ]
  },
  {
   "cell_type": "markdown",
   "metadata": {
    "tags": []
   },
   "source": [
    "De forma más *pythonica*:"
   ]
  },
  {
   "cell_type": "code",
   "execution_count": null,
   "metadata": {
    "tags": []
   },
   "outputs": [],
   "source": [
    "archivo = open('salida')\n",
    "for n, linea in enumerate(archivo, start=1):\n",
    "    print(f'Linea {n}: {linea.rstrip()}')"
   ]
  },
  {
   "cell_type": "markdown",
   "metadata": {},
   "source": [
    "Para **escribir en un archivo** se usa el método `write()`. Recibe como argumento la cadena que se quiere escribir. Cuando terminemos de escribir cadenas, podemos cerrarlo llamando al método `close()`. Con `tell()` y `seek()` se consulta o modifica la posición en la que se quiere leer o escribir en el archivo, mientras que con `flush()` forzamos el vaciado de los búferes a disco."
   ]
  },
  {
   "cell_type": "code",
   "execution_count": null,
   "metadata": {},
   "outputs": [],
   "source": [
    "poema = open('poema.txt', 'w')  # abre el archivo para escritura, truncándolo previamente\n",
    "poema.write('La gente corre poco\\n')\n",
    "print(poema.tell())\n",
    "poema.seek(0, 0)  # escribe a partir del comienzo del archivo\n",
    "print(poema.tell())\n",
    "poema.write('La gente corre mucho\\n')\n",
    "print(poema.tell())\n",
    "poema.flush()\n",
    "poema.close()"
   ]
  },
  {
   "cell_type": "code",
   "execution_count": null,
   "metadata": {},
   "outputs": [],
   "source": [
    "!cat poema.txt"
   ]
  },
  {
   "cell_type": "markdown",
   "metadata": {},
   "source": [
    "## Obteniendo Ayuda"
   ]
  },
  {
   "cell_type": "markdown",
   "metadata": {},
   "source": [
    "Para obtener ayuda en un notebook:"
   ]
  },
  {
   "cell_type": "code",
   "execution_count": null,
   "metadata": {
    "tags": []
   },
   "outputs": [],
   "source": [
    "open?"
   ]
  },
  {
   "cell_type": "markdown",
   "metadata": {},
   "source": [
    "Para obtener ayuda en cualquier intérprete:"
   ]
  },
  {
   "cell_type": "markdown",
   "metadata": {},
   "source": [
    "También se puede pulsar `TAB` después de `objeto.` para obtener ayuda sobre los métodos que ofrece `objeto`."
   ]
  },
  {
   "cell_type": "code",
   "execution_count": null,
   "metadata": {
    "tags": []
   },
   "outputs": [],
   "source": [
    "poema.  # sitúa el cursor detrás del punto y pulsa TAB"
   ]
  },
  {
   "cell_type": "code",
   "execution_count": null,
   "metadata": {
    "tags": []
   },
   "outputs": [],
   "source": [
    "help(open)"
   ]
  },
  {
   "cell_type": "markdown",
   "metadata": {},
   "source": [
    "## Referencias"
   ]
  },
  {
   "cell_type": "markdown",
   "metadata": {},
   "source": [
    "* [Python Doc · Data model](https://docs.python.org/3.7/reference/datamodel.html)\n",
    "* [Python Doc · The Python Tutorial](https://docs.python.org/3.7/tutorial/index.html)\n",
    "* [Python Doc · Brief Tour of the Standard Library - Part I](https://docs.python.org/3.7/tutorial/stdlib.html)\n",
    "* [Python Doc · Brief Tour of the Standard Library - Part II](https://docs.python.org/3.7/tutorial/stdlib2.html)\n",
    "* [Real Python · Python 3's f-Strings: An Improved String Formatting Syntax (Guide)](https://realpython.com/python-f-strings/)"
   ]
  }
 ],
 "metadata": {
  "kernelspec": {
   "display_name": "Python 3 (ipykernel)",
   "language": "python",
   "name": "python3"
  },
  "language_info": {
   "codemirror_mode": {
    "name": "ipython",
    "version": 3
   },
   "file_extension": ".py",
   "mimetype": "text/x-python",
   "name": "python",
   "nbconvert_exporter": "python",
   "pygments_lexer": "ipython3",
   "version": "3.7.12"
  },
  "toc": {
   "base_numbering": 1,
   "nav_menu": {},
   "number_sections": true,
   "sideBar": true,
   "skip_h1_title": false,
   "title_cell": "Tabla de contenidos",
   "title_sidebar": "Contents",
   "toc_cell": true,
   "toc_position": {
    "height": "calc(100% - 180px)",
    "left": "10px",
    "top": "150px",
    "width": "360.35px"
   },
   "toc_section_display": true,
   "toc_window_display": true
  },
  "toc-autonumbering": true,
  "toc-showcode": false,
  "toc-showmarkdowntxt": false,
  "toc-showtags": false
 },
 "nbformat": 4,
 "nbformat_minor": 4
}
